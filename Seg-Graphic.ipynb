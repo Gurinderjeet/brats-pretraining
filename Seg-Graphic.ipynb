{
 "cells": [
  {
   "cell_type": "code",
   "execution_count": 1,
   "metadata": {},
   "outputs": [],
   "source": [
    "import numpy as np\n",
    "import matplotlib.pyplot as plt"
   ]
  },
  {
   "cell_type": "code",
   "execution_count": 2,
   "metadata": {},
   "outputs": [],
   "source": [
    "import nibabel as nib"
   ]
  },
  {
   "cell_type": "code",
   "execution_count": 33,
   "metadata": {},
   "outputs": [
    {
     "name": "stdout",
     "output_type": "stream",
     "text": [
      "Brats17_TCIA_211_1_flair.nii.gz  Brats17_TCIA_211_1_t1.nii.gz\r\n",
      "Brats17_TCIA_211_1_seg.nii.gz\t Brats17_TCIA_211_1_t2.nii.gz\r\n",
      "Brats17_TCIA_211_1_t1ce.nii.gz\r\n"
     ]
    }
   ],
   "source": [
    "! ls brats_data_raw/Brats17TrainingData/HGG/Brats17_TCIA_211_1"
   ]
  },
  {
   "cell_type": "code",
   "execution_count": 36,
   "metadata": {},
   "outputs": [],
   "source": [
    "patient_path = 'brats_data_raw/Brats17TrainingData/HGG/Brats17_TCIA_211_1/Brats17_TCIA_211_1'"
   ]
  },
  {
   "cell_type": "code",
   "execution_count": 43,
   "metadata": {},
   "outputs": [],
   "source": [
    "patient_t1 = nib.load(patient_path + '_t1.nii.gz').get_data()\n",
    "patient_t1c = nib.load(patient_path + '_t1ce.nii.gz').get_data()\n",
    "patient_t2 = nib.load(patient_path + '_t2.nii.gz').get_data()\n",
    "patient_flair = nib.load(patient_path+ '_flair.nii.gz').get_data()\n",
    "patient_seg = nib.load(patient_path + '_seg.nii.gz').get_data()"
   ]
  },
  {
   "cell_type": "code",
   "execution_count": 111,
   "metadata": {},
   "outputs": [],
   "source": [
    "slice_nr = 65"
   ]
  },
  {
   "cell_type": "code",
   "execution_count": 123,
   "metadata": {},
   "outputs": [],
   "source": [
    "def subimage(ax, data, title, alpha=1.0):\n",
    "    if alpha < 1.0:\n",
    "        cmap = 'hot'\n",
    "    else:\n",
    "        cmap = 'gray'\n",
    "\n",
    "    ax.imshow(\n",
    "        data.T, cmap=cmap,\n",
    "        vmin=data.min(), vmax=data.max(),\n",
    "        alpha=alpha\n",
    "    )\n",
    "    \n",
    "    ax.set_xticks([])\n",
    "    ax.set_yticks([])\n",
    "    ax.get_xaxis().set_visible(False)\n",
    "    ax.get_yaxis().set_visible(False)\n",
    "    ax.set_title(title)\n",
    "    ax.title.set_y(-0.3)\n",
    "    ax.title.set_fontfamily('Times New Roman')\n",
    "    ax.title.set_fontsize(10)"
   ]
  },
  {
   "cell_type": "code",
   "execution_count": 131,
   "metadata": {},
   "outputs": [
    {
     "data": {
      "image/png": "[encoded data removed]",
      "text/plain": [
       "<Figure size 432x288 with 5 Axes>"
      ]
     },
     "metadata": {},
     "output_type": "display_data"
    }
   ],
   "source": [
    "fig, axs = plt.subplots(1, 5, frameon=False)\n",
    "\n",
    "# Remove horizontal space between axes\n",
    "fig.subplots_adjust(wspace=0)\n",
    "\n",
    "subimage(axs[0], patient_t1[:,:,slice_nr], '(a) T1', alpha=1.0)\n",
    "\n",
    "subimage(axs[1], patient_t1c[:,:,slice_nr], '(b) T1c', alpha=1.0)\n",
    "\n",
    "subimage(axs[2], patient_t2[:,:,slice_nr], '(c) T2', alpha=1.0)\n",
    "\n",
    "subimage(axs[3], patient_flair[:,:,slice_nr], '(d) FLAIR', alpha=1.0)\n",
    "\n",
    "subimage(axs[4], patient_t1[:,:,slice_nr], 'T1', alpha=1.0)\n",
    "subimage(axs[4], patient_seg[:,:,slice_nr], '(e) Segm.', alpha=0.8)\n",
    "\n",
    "# plt.tight_layout()\n",
    "plt.savefig('figures/example_seg.pdf', dpi=400, bbox_inches='tight', pad_inches=0)\n",
    "plt.show()"
   ]
  },
  {
   "cell_type": "code",
   "execution_count": null,
   "metadata": {},
   "outputs": [],
   "source": []
  }
 ],
 "metadata": {
  "kernelspec": {
   "display_name": "Python 3",
   "language": "python",
   "name": "python3"
  },
  "language_info": {
   "codemirror_mode": {
    "name": "ipython",
    "version": 3
   },
   "file_extension": ".py",
   "mimetype": "text/x-python",
   "name": "python",
   "nbconvert_exporter": "python",
   "pygments_lexer": "ipython3",
   "version": "3.7.3"
  }
 },
 "nbformat": 4,
 "nbformat_minor": 2
}
