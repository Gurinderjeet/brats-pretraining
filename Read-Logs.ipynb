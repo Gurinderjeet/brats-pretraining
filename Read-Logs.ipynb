{
 "cells": [
  {
   "cell_type": "code",
   "execution_count": 17,
   "metadata": {},
   "outputs": [],
   "source": [
    "from tb_log_reader import LogReader\n",
    "import seaborn as sns\n",
    "import pandas as pd"
   ]
  },
  {
   "cell_type": "markdown",
   "metadata": {},
   "source": [
    "## Read TF logs"
   ]
  },
  {
   "cell_type": "code",
   "execution_count": 2,
   "metadata": {},
   "outputs": [
    {
     "name": "stdout",
     "output_type": "stream",
     "text": [
      "brats17_2d_1_lr_0.001_epochs_50\n",
      "brats17_2d_2_lr_0.001_epochs_50\n",
      "brats17_2d_3_lr_0.001_epochs_50\n",
      "brats17_2d_4_lr_0.001_epochs_50\n",
      "brats17_2d_5_lr_0.001_epochs_50\n",
      "brats17_2d_no_val_1_lr_0.001_epochs_50\n",
      "brats17_2d_no_val_2_lr_0.001_epochs_50\n",
      "brats17_2d_pre_1_lr_0.001_epochs_50\n",
      "brats17_2d_pre_2_lr_0.001_epochs_50\n",
      "brats17_2d_pre_3_lr_0.001_epochs_50\n",
      "brats17_2d_pre_4_lr_0.001_epochs_50\n",
      "brats17_2d_pre_5_lr_0.001_epochs_50\n",
      "brats17_2d_pre_no_val_1_lr_0.001_epochs_50\n",
      "brats17_2d_pre_no_val_2_lr_0.001_epochs_50\n",
      "brats17_2d_pre_no_val_3_lr_0.001_epochs_50\n",
      "jonas_net_2d_brats17_pretr_lr_0.001_epochs_50\n",
      "jonas_net_3d_brats17_pretr_lr_0.0001_epochs_100\n",
      "jonas_net_3d_brats17_pretr_lr_0.0001_epochs_50\n",
      "jonas_net_3d_brats17_pretr_lr_0.001_epochs_50\n",
      "jonas_net_3d_full_depth_brats17_pretr_lr_0.001_epochs_50\n",
      "jonas_net_3d_lr_0.0001_epochs_100\n",
      "jonas_net_3d_lr_0.0001_epochs_50\n",
      "jonas_net_3d_lr_0.001_epochs_10\n",
      "jonas_net_3d_lr_0.001_epochs_400\n",
      "jonas_net_3d_lr_0.001_epochs_50\n",
      "jonas_net_3d_other_depth_brats17_pretr_lr_0.001_epochs_50\n"
     ]
    }
   ],
   "source": [
    "! ls tensorboard_logs"
   ]
  },
  {
   "cell_type": "code",
   "execution_count": 8,
   "metadata": {},
   "outputs": [
    {
     "name": "stderr",
     "output_type": "stream",
     "text": [
      "WARNING:root:Starting to load the event file in tensorboard_logs/brats17_2d_1_lr_0.001_epochs_50/20190712-214136/test. May take a while.\n"
     ]
    },
    {
     "name": "stdout",
     "output_type": "stream",
     "text": [
      "INFO:tensorflow:No path found after tensorboard_logs/brats17_2d_1_lr_0.001_epochs_50/20190712-214136/test/events.out.tfevents.1562967697.py-notebook0-82364-prod\n"
     ]
    },
    {
     "name": "stderr",
     "output_type": "stream",
     "text": [
      "INFO:tensorflow:No path found after tensorboard_logs/brats17_2d_1_lr_0.001_epochs_50/20190712-214136/test/events.out.tfevents.1562967697.py-notebook0-82364-prod\n",
      "WARNING:root:Starting to load the event file in tensorboard_logs/brats17_2d_pre_1_lr_0.001_epochs_50/20190711-131045/test. May take a while.\n"
     ]
    },
    {
     "name": "stdout",
     "output_type": "stream",
     "text": [
      "INFO:tensorflow:No path found after tensorboard_logs/brats17_2d_pre_1_lr_0.001_epochs_50/20190711-131045/test/events.out.tfevents.1562850647.py-notebook0-82356-prod\n"
     ]
    },
    {
     "name": "stderr",
     "output_type": "stream",
     "text": [
      "INFO:tensorflow:No path found after tensorboard_logs/brats17_2d_pre_1_lr_0.001_epochs_50/20190711-131045/test/events.out.tfevents.1562850647.py-notebook0-82356-prod\n",
      "WARNING:root:Starting to load the event file in tensorboard_logs/brats17_2d_2_lr_0.001_epochs_50/20190713-024141/test. May take a while.\n"
     ]
    },
    {
     "name": "stdout",
     "output_type": "stream",
     "text": [
      "INFO:tensorflow:No path found after tensorboard_logs/brats17_2d_2_lr_0.001_epochs_50/20190713-024141/test/events.out.tfevents.1562985702.py-notebook0-82364-prod\n"
     ]
    },
    {
     "name": "stderr",
     "output_type": "stream",
     "text": [
      "INFO:tensorflow:No path found after tensorboard_logs/brats17_2d_2_lr_0.001_epochs_50/20190713-024141/test/events.out.tfevents.1562985702.py-notebook0-82364-prod\n",
      "WARNING:root:Starting to load the event file in tensorboard_logs/brats17_2d_pre_2_lr_0.001_epochs_50/20190710-013519/test. May take a while.\n"
     ]
    },
    {
     "name": "stdout",
     "output_type": "stream",
     "text": [
      "INFO:tensorflow:No path found after tensorboard_logs/brats17_2d_pre_2_lr_0.001_epochs_50/20190710-013519/test/events.out.tfevents.1562722520.py-notebook0-82327-prod\n"
     ]
    },
    {
     "name": "stderr",
     "output_type": "stream",
     "text": [
      "INFO:tensorflow:No path found after tensorboard_logs/brats17_2d_pre_2_lr_0.001_epochs_50/20190710-013519/test/events.out.tfevents.1562722520.py-notebook0-82327-prod\n",
      "WARNING:root:Starting to load the event file in tensorboard_logs/brats17_2d_3_lr_0.001_epochs_50/20190713-080619/test. May take a while.\n"
     ]
    },
    {
     "name": "stdout",
     "output_type": "stream",
     "text": [
      "INFO:tensorflow:No path found after tensorboard_logs/brats17_2d_3_lr_0.001_epochs_50/20190713-080619/test/events.out.tfevents.1563005180.py-notebook0-82364-prod\n"
     ]
    },
    {
     "name": "stderr",
     "output_type": "stream",
     "text": [
      "INFO:tensorflow:No path found after tensorboard_logs/brats17_2d_3_lr_0.001_epochs_50/20190713-080619/test/events.out.tfevents.1563005180.py-notebook0-82364-prod\n",
      "WARNING:root:Starting to load the event file in tensorboard_logs/brats17_2d_pre_3_lr_0.001_epochs_50/20190710-060611/test. May take a while.\n"
     ]
    },
    {
     "name": "stdout",
     "output_type": "stream",
     "text": [
      "INFO:tensorflow:No path found after tensorboard_logs/brats17_2d_pre_3_lr_0.001_epochs_50/20190710-060611/test/events.out.tfevents.1562738772.py-notebook0-82327-prod\n"
     ]
    },
    {
     "name": "stderr",
     "output_type": "stream",
     "text": [
      "INFO:tensorflow:No path found after tensorboard_logs/brats17_2d_pre_3_lr_0.001_epochs_50/20190710-060611/test/events.out.tfevents.1562738772.py-notebook0-82327-prod\n",
      "WARNING:root:Starting to load the event file in tensorboard_logs/brats17_2d_4_lr_0.001_epochs_50/20190713-130256/test. May take a while.\n"
     ]
    },
    {
     "name": "stdout",
     "output_type": "stream",
     "text": [
      "INFO:tensorflow:No path found after tensorboard_logs/brats17_2d_4_lr_0.001_epochs_50/20190713-130256/test/events.out.tfevents.1563022976.py-notebook0-82364-prod\n"
     ]
    },
    {
     "name": "stderr",
     "output_type": "stream",
     "text": [
      "INFO:tensorflow:No path found after tensorboard_logs/brats17_2d_4_lr_0.001_epochs_50/20190713-130256/test/events.out.tfevents.1563022976.py-notebook0-82364-prod\n",
      "WARNING:root:Starting to load the event file in tensorboard_logs/brats17_2d_pre_4_lr_0.001_epochs_50/20190710-101156/test. May take a while.\n"
     ]
    },
    {
     "name": "stdout",
     "output_type": "stream",
     "text": [
      "INFO:tensorflow:No path found after tensorboard_logs/brats17_2d_pre_4_lr_0.001_epochs_50/20190710-101156/test/events.out.tfevents.1562753517.py-notebook0-82327-prod\n"
     ]
    },
    {
     "name": "stderr",
     "output_type": "stream",
     "text": [
      "INFO:tensorflow:No path found after tensorboard_logs/brats17_2d_pre_4_lr_0.001_epochs_50/20190710-101156/test/events.out.tfevents.1562753517.py-notebook0-82327-prod\n",
      "WARNING:root:Starting to load the event file in tensorboard_logs/brats17_2d_5_lr_0.001_epochs_50/20190713-192541/test. May take a while.\n"
     ]
    },
    {
     "name": "stdout",
     "output_type": "stream",
     "text": [
      "INFO:tensorflow:No path found after tensorboard_logs/brats17_2d_5_lr_0.001_epochs_50/20190713-192541/test/events.out.tfevents.1563045944.py-notebook0-82364-prod\n"
     ]
    },
    {
     "name": "stderr",
     "output_type": "stream",
     "text": [
      "INFO:tensorflow:No path found after tensorboard_logs/brats17_2d_5_lr_0.001_epochs_50/20190713-192541/test/events.out.tfevents.1563045944.py-notebook0-82364-prod\n",
      "WARNING:root:Starting to load the event file in tensorboard_logs/brats17_2d_pre_5_lr_0.001_epochs_50/20190710-144501/test. May take a while.\n"
     ]
    },
    {
     "name": "stdout",
     "output_type": "stream",
     "text": [
      "INFO:tensorflow:No path found after tensorboard_logs/brats17_2d_pre_5_lr_0.001_epochs_50/20190710-144501/test/events.out.tfevents.1562769902.py-notebook0-82327-prod\n"
     ]
    },
    {
     "name": "stderr",
     "output_type": "stream",
     "text": [
      "INFO:tensorflow:No path found after tensorboard_logs/brats17_2d_pre_5_lr_0.001_epochs_50/20190710-144501/test/events.out.tfevents.1562769902.py-notebook0-82327-prod\n"
     ]
    }
   ],
   "source": [
    "lr_no_pretr_val = []\n",
    "lr_pretr_val = []\n",
    "\n",
    "for i in range(5):\n",
    "    lr_no_pretr = LogReader('tensorboard_logs/brats17_2d_{}_lr_0.001_epochs_50'.format(i+1))\n",
    "    lr_no_pretr_events = lr_no_pretr.load_run(0, test=True)\n",
    "    lr_no_pretr_val.append({\n",
    "        'edema': lr_no_pretr.get_df_from_scalar(lr_no_pretr_events, 'edema'),\n",
    "        'tumor_core': lr_no_pretr.get_df_from_scalar(lr_no_pretr_events, 'tumor_core'),\n",
    "        'enhancing': lr_no_pretr.get_df_from_scalar(lr_no_pretr_events, 'enhancing')\n",
    "    })\n",
    "    \n",
    "    lr_pretr = LogReader('tensorboard_logs/brats17_2d_pre_{}_lr_0.001_epochs_50'.format(i+1))\n",
    "    lr_pretr_val_events = lr_pretr.load_run(0, test=True)\n",
    "    lr_pretr_val.append({\n",
    "        'edema': lr_pretr.get_df_from_scalar(lr_pretr_val_events, 'edema'),\n",
    "        'tumor_core': lr_pretr.get_df_from_scalar(lr_pretr_val_events, 'tumor_core'),\n",
    "        'enhancing': lr_pretr.get_df_from_scalar(lr_pretr_val_events, 'enhancing')\n",
    "    })"
   ]
  },
  {
   "cell_type": "code",
   "execution_count": 54,
   "metadata": {},
   "outputs": [
    {
     "data": {
      "text/plain": [
       "<matplotlib.axes._subplots.AxesSubplot at 0x7f95567db9b0>"
      ]
     },
     "execution_count": 54,
     "metadata": {},
     "output_type": "execute_result"
    },
    {
     "data": {
      "image/png": "[encoded data removed]",
      "text/plain": [
       "<Figure size 432x288 with 1 Axes>"
      ]
     },
     "metadata": {
      "needs_background": "light"
     },
     "output_type": "display_data"
    }
   ],
   "source": [
    "# edema\n",
    "\n",
    "df = pd.DataFrame()\n",
    "\n",
    "df_no_pretr = pd.concat([lr_no_pretr_val[i]['tumor_core'] for i in range(5)]) # .iloc[:20]\n",
    "df_pretr = pd.concat([lr_pretr_val[i]['tumor_core'] for i in range(5)]) # .iloc[:20]\n",
    "\n",
    "# relplot\n",
    "\n",
    "sns.lineplot(x='steps', y='values', data=df_no_pretr, markers=True, label='No pretrain', ci='sd')\n",
    "sns.lineplot(x='steps', y='values', data=df_pretr, markers=True, label='Pretrain', ci='sd')\n",
    "\n",
    "# for i in range(5):\n",
    "    \n",
    "    # sns.lineplot(x='steps', y='values', data=lr_no_pretr_val[i]['tumor_core'], dashes=True, markers=True)\n",
    "    # sns.lineplot(x='steps', y='values', data=lr_pretr_val[i]['edema'], dashes=False, markers=True)\n"
   ]
  },
  {
   "cell_type": "code",
   "execution_count": 51,
   "metadata": {},
   "outputs": [
    {
     "data": {
      "text/html": [
       "<div>\n",
       "<style scoped>\n",
       "    .dataframe tbody tr th:only-of-type {\n",
       "        vertical-align: middle;\n",
       "    }\n",
       "\n",
       "    .dataframe tbody tr th {\n",
       "        vertical-align: top;\n",
       "    }\n",
       "\n",
       "    .dataframe thead th {\n",
       "        text-align: right;\n",
       "    }\n",
       "</style>\n",
       "<table border=\"1\" class=\"dataframe\">\n",
       "  <thead>\n",
       "    <tr style=\"text-align: right;\">\n",
       "      <th></th>\n",
       "      <th>steps</th>\n",
       "      <th>times</th>\n",
       "      <th>values</th>\n",
       "    </tr>\n",
       "  </thead>\n",
       "  <tbody>\n",
       "    <tr>\n",
       "      <th>0</th>\n",
       "      <td>0</td>\n",
       "      <td>1.562968e+09</td>\n",
       "      <td>0.000000</td>\n",
       "    </tr>\n",
       "    <tr>\n",
       "      <th>1</th>\n",
       "      <td>100</td>\n",
       "      <td>1.562968e+09</td>\n",
       "      <td>0.365665</td>\n",
       "    </tr>\n",
       "    <tr>\n",
       "      <th>2</th>\n",
       "      <td>200</td>\n",
       "      <td>1.562968e+09</td>\n",
       "      <td>0.562719</td>\n",
       "    </tr>\n",
       "    <tr>\n",
       "      <th>3</th>\n",
       "      <td>300</td>\n",
       "      <td>1.562969e+09</td>\n",
       "      <td>0.664160</td>\n",
       "    </tr>\n",
       "    <tr>\n",
       "      <th>4</th>\n",
       "      <td>400</td>\n",
       "      <td>1.562969e+09</td>\n",
       "      <td>0.745093</td>\n",
       "    </tr>\n",
       "    <tr>\n",
       "      <th>5</th>\n",
       "      <td>500</td>\n",
       "      <td>1.562969e+09</td>\n",
       "      <td>0.766337</td>\n",
       "    </tr>\n",
       "    <tr>\n",
       "      <th>6</th>\n",
       "      <td>600</td>\n",
       "      <td>1.562970e+09</td>\n",
       "      <td>0.754804</td>\n",
       "    </tr>\n",
       "    <tr>\n",
       "      <th>7</th>\n",
       "      <td>700</td>\n",
       "      <td>1.562970e+09</td>\n",
       "      <td>0.788999</td>\n",
       "    </tr>\n",
       "    <tr>\n",
       "      <th>8</th>\n",
       "      <td>800</td>\n",
       "      <td>1.562970e+09</td>\n",
       "      <td>0.753629</td>\n",
       "    </tr>\n",
       "    <tr>\n",
       "      <th>9</th>\n",
       "      <td>900</td>\n",
       "      <td>1.562971e+09</td>\n",
       "      <td>0.788925</td>\n",
       "    </tr>\n",
       "    <tr>\n",
       "      <th>10</th>\n",
       "      <td>1000</td>\n",
       "      <td>1.562971e+09</td>\n",
       "      <td>0.754815</td>\n",
       "    </tr>\n",
       "    <tr>\n",
       "      <th>11</th>\n",
       "      <td>1100</td>\n",
       "      <td>1.562971e+09</td>\n",
       "      <td>0.745761</td>\n",
       "    </tr>\n",
       "    <tr>\n",
       "      <th>12</th>\n",
       "      <td>1200</td>\n",
       "      <td>1.562971e+09</td>\n",
       "      <td>0.789565</td>\n",
       "    </tr>\n",
       "    <tr>\n",
       "      <th>13</th>\n",
       "      <td>1300</td>\n",
       "      <td>1.562972e+09</td>\n",
       "      <td>0.794776</td>\n",
       "    </tr>\n",
       "    <tr>\n",
       "      <th>14</th>\n",
       "      <td>1400</td>\n",
       "      <td>1.562972e+09</td>\n",
       "      <td>0.786232</td>\n",
       "    </tr>\n",
       "    <tr>\n",
       "      <th>15</th>\n",
       "      <td>1500</td>\n",
       "      <td>1.562972e+09</td>\n",
       "      <td>0.773798</td>\n",
       "    </tr>\n",
       "    <tr>\n",
       "      <th>16</th>\n",
       "      <td>1600</td>\n",
       "      <td>1.562973e+09</td>\n",
       "      <td>0.723194</td>\n",
       "    </tr>\n",
       "    <tr>\n",
       "      <th>17</th>\n",
       "      <td>1700</td>\n",
       "      <td>1.562973e+09</td>\n",
       "      <td>0.785455</td>\n",
       "    </tr>\n",
       "    <tr>\n",
       "      <th>18</th>\n",
       "      <td>1800</td>\n",
       "      <td>1.562973e+09</td>\n",
       "      <td>0.778682</td>\n",
       "    </tr>\n",
       "    <tr>\n",
       "      <th>19</th>\n",
       "      <td>1900</td>\n",
       "      <td>1.562974e+09</td>\n",
       "      <td>0.797725</td>\n",
       "    </tr>\n",
       "  </tbody>\n",
       "</table>\n",
       "</div>"
      ],
      "text/plain": [
       "    steps         times    values\n",
       "0       0  1.562968e+09  0.000000\n",
       "1     100  1.562968e+09  0.365665\n",
       "2     200  1.562968e+09  0.562719\n",
       "3     300  1.562969e+09  0.664160\n",
       "4     400  1.562969e+09  0.745093\n",
       "5     500  1.562969e+09  0.766337\n",
       "6     600  1.562970e+09  0.754804\n",
       "7     700  1.562970e+09  0.788999\n",
       "8     800  1.562970e+09  0.753629\n",
       "9     900  1.562971e+09  0.788925\n",
       "10   1000  1.562971e+09  0.754815\n",
       "11   1100  1.562971e+09  0.745761\n",
       "12   1200  1.562971e+09  0.789565\n",
       "13   1300  1.562972e+09  0.794776\n",
       "14   1400  1.562972e+09  0.786232\n",
       "15   1500  1.562972e+09  0.773798\n",
       "16   1600  1.562973e+09  0.723194\n",
       "17   1700  1.562973e+09  0.785455\n",
       "18   1800  1.562973e+09  0.778682\n",
       "19   1900  1.562974e+09  0.797725"
      ]
     },
     "execution_count": 51,
     "metadata": {},
     "output_type": "execute_result"
    }
   ],
   "source": [
    "df_no_pretr.iloc[:20]"
   ]
  },
  {
   "cell_type": "code",
   "execution_count": 40,
   "metadata": {},
   "outputs": [],
   "source": [
    "lr = LogReader('tensorboard_logs/brats17_2d_pre_5_lr_0.001_epochs_50')"
   ]
  },
  {
   "cell_type": "code",
   "execution_count": 41,
   "metadata": {},
   "outputs": [
    {
     "name": "stderr",
     "output_type": "stream",
     "text": [
      "WARNING:root:Starting to load the event file in tensorboard_logs/brats17_2d_pre_5_lr_0.001_epochs_50/20190710-144501/train. May take a while.\n"
     ]
    },
    {
     "name": "stdout",
     "output_type": "stream",
     "text": [
      "INFO:tensorflow:No path found after tensorboard_logs/brats17_2d_pre_5_lr_0.001_epochs_50/20190710-144501/train/events.out.tfevents.1562769901.py-notebook0-82327-prod\n"
     ]
    },
    {
     "name": "stderr",
     "output_type": "stream",
     "text": [
      "INFO:tensorflow:No path found after tensorboard_logs/brats17_2d_pre_5_lr_0.001_epochs_50/20190710-144501/train/events.out.tfevents.1562769901.py-notebook0-82327-prod\n",
      "WARNING:root:Starting to load the event file in tensorboard_logs/brats17_2d_pre_5_lr_0.001_epochs_50/20190710-144501/test. May take a while.\n"
     ]
    },
    {
     "name": "stdout",
     "output_type": "stream",
     "text": [
      "INFO:tensorflow:No path found after tensorboard_logs/brats17_2d_pre_5_lr_0.001_epochs_50/20190710-144501/test/events.out.tfevents.1562769902.py-notebook0-82327-prod\n"
     ]
    },
    {
     "name": "stderr",
     "output_type": "stream",
     "text": [
      "INFO:tensorflow:No path found after tensorboard_logs/brats17_2d_pre_5_lr_0.001_epochs_50/20190710-144501/test/events.out.tfevents.1562769902.py-notebook0-82327-prod\n"
     ]
    }
   ],
   "source": [
    "train_events = lr.load_run(0, test=False)\n",
    "test_events = lr.load_run(0, test=True)"
   ]
  },
  {
   "cell_type": "code",
   "execution_count": 42,
   "metadata": {},
   "outputs": [
    {
     "data": {
      "text/plain": [
       "['edema', 'tumor_core', 'loss', 'enhancing']"
      ]
     },
     "execution_count": 42,
     "metadata": {},
     "output_type": "execute_result"
    }
   ],
   "source": [
    "lr.get_available_scalars(train_events)"
   ]
  },
  {
   "cell_type": "code",
   "execution_count": 43,
   "metadata": {},
   "outputs": [
    {
     "data": {
      "text/plain": [
       "['edema', 'enhancing', 'tumor_core', 'loss']"
      ]
     },
     "execution_count": 43,
     "metadata": {},
     "output_type": "execute_result"
    }
   ],
   "source": [
    "lr.get_available_scalars(test_events)"
   ]
  },
  {
   "cell_type": "code",
   "execution_count": 44,
   "metadata": {},
   "outputs": [],
   "source": [
    "train_losses = lr.get_df_from_scalar(train_events, 'loss')\n",
    "train_dices = lr.get_df_from_scalar(train_events, 'tumor_core')\n",
    "test_losses = lr.get_df_from_scalar(test_events, 'loss')\n",
    "test_dices = lr.get_df_from_scalar(test_events, 'tumor_core')"
   ]
  },
  {
   "cell_type": "code",
   "execution_count": 11,
   "metadata": {},
   "outputs": [
    {
     "data": {
      "text/plain": [
       "times     1.562523e+09\n",
       "steps     9.900000e+01\n",
       "values    1.198570e-02\n",
       "Name: 99, dtype: float64"
      ]
     },
     "execution_count": 11,
     "metadata": {},
     "output_type": "execute_result"
    }
   ],
   "source": [
    "# fa: why is the train loss at the end of the training still so high, but accuracy is good?\n",
    "train_losses.iloc[-1]"
   ]
  },
  {
   "cell_type": "code",
   "execution_count": 12,
   "metadata": {},
   "outputs": [
    {
     "data": {
      "text/plain": [
       "times     1.562523e+09\n",
       "steps     9.900000e+01\n",
       "values    1.198570e-02\n",
       "Name: 99, dtype: float64"
      ]
     },
     "execution_count": 12,
     "metadata": {},
     "output_type": "execute_result"
    }
   ],
   "source": [
    "# backprop\n",
    "train_losses.iloc[-1]"
   ]
  },
  {
   "cell_type": "code",
   "execution_count": 13,
   "metadata": {},
   "outputs": [
    {
     "data": {
      "text/html": [
       "<div>\n",
       "<style scoped>\n",
       "    .dataframe tbody tr th:only-of-type {\n",
       "        vertical-align: middle;\n",
       "    }\n",
       "\n",
       "    .dataframe tbody tr th {\n",
       "        vertical-align: top;\n",
       "    }\n",
       "\n",
       "    .dataframe thead th {\n",
       "        text-align: right;\n",
       "    }\n",
       "</style>\n",
       "<table border=\"1\" class=\"dataframe\">\n",
       "  <thead>\n",
       "    <tr style=\"text-align: right;\">\n",
       "      <th></th>\n",
       "      <th>times</th>\n",
       "      <th>steps</th>\n",
       "      <th>values</th>\n",
       "    </tr>\n",
       "  </thead>\n",
       "  <tbody>\n",
       "    <tr>\n",
       "      <th>0</th>\n",
       "      <td>1.562523e+09</td>\n",
       "      <td>99</td>\n",
       "      <td>0.193524</td>\n",
       "    </tr>\n",
       "  </tbody>\n",
       "</table>\n",
       "</div>"
      ],
      "text/plain": [
       "          times  steps    values\n",
       "0  1.562523e+09     99  0.193524"
      ]
     },
     "execution_count": 13,
     "metadata": {},
     "output_type": "execute_result"
    }
   ],
   "source": [
    "# backprop\n",
    "train_dices.head()"
   ]
  },
  {
   "cell_type": "code",
   "execution_count": 12,
   "metadata": {},
   "outputs": [
    {
     "data": {
      "text/html": [
       "<div>\n",
       "<style scoped>\n",
       "    .dataframe tbody tr th:only-of-type {\n",
       "        vertical-align: middle;\n",
       "    }\n",
       "\n",
       "    .dataframe tbody tr th {\n",
       "        vertical-align: top;\n",
       "    }\n",
       "\n",
       "    .dataframe thead th {\n",
       "        text-align: right;\n",
       "    }\n",
       "</style>\n",
       "<table border=\"1\" class=\"dataframe\">\n",
       "  <thead>\n",
       "    <tr style=\"text-align: right;\">\n",
       "      <th></th>\n",
       "      <th>times</th>\n",
       "      <th>steps</th>\n",
       "      <th>values</th>\n",
       "    </tr>\n",
       "  </thead>\n",
       "  <tbody>\n",
       "    <tr>\n",
       "      <th>0</th>\n",
       "      <td>1.554997e+09</td>\n",
       "      <td>938</td>\n",
       "      <td>80.980003</td>\n",
       "    </tr>\n",
       "    <tr>\n",
       "      <th>1</th>\n",
       "      <td>1.554998e+09</td>\n",
       "      <td>1876</td>\n",
       "      <td>87.239998</td>\n",
       "    </tr>\n",
       "    <tr>\n",
       "      <th>2</th>\n",
       "      <td>1.554998e+09</td>\n",
       "      <td>2814</td>\n",
       "      <td>87.360001</td>\n",
       "    </tr>\n",
       "    <tr>\n",
       "      <th>3</th>\n",
       "      <td>1.554998e+09</td>\n",
       "      <td>3752</td>\n",
       "      <td>91.290001</td>\n",
       "    </tr>\n",
       "    <tr>\n",
       "      <th>4</th>\n",
       "      <td>1.554998e+09</td>\n",
       "      <td>4690</td>\n",
       "      <td>90.720001</td>\n",
       "    </tr>\n",
       "    <tr>\n",
       "      <th>5</th>\n",
       "      <td>1.554998e+09</td>\n",
       "      <td>5628</td>\n",
       "      <td>89.800003</td>\n",
       "    </tr>\n",
       "    <tr>\n",
       "      <th>6</th>\n",
       "      <td>1.554998e+09</td>\n",
       "      <td>6566</td>\n",
       "      <td>92.870003</td>\n",
       "    </tr>\n",
       "    <tr>\n",
       "      <th>7</th>\n",
       "      <td>1.554998e+09</td>\n",
       "      <td>7504</td>\n",
       "      <td>90.809998</td>\n",
       "    </tr>\n",
       "    <tr>\n",
       "      <th>8</th>\n",
       "      <td>1.554998e+09</td>\n",
       "      <td>8442</td>\n",
       "      <td>92.040001</td>\n",
       "    </tr>\n",
       "    <tr>\n",
       "      <th>9</th>\n",
       "      <td>1.554998e+09</td>\n",
       "      <td>9380</td>\n",
       "      <td>93.720001</td>\n",
       "    </tr>\n",
       "  </tbody>\n",
       "</table>\n",
       "</div>"
      ],
      "text/plain": [
       "          times  steps     values\n",
       "0  1.554997e+09    938  80.980003\n",
       "1  1.554998e+09   1876  87.239998\n",
       "2  1.554998e+09   2814  87.360001\n",
       "3  1.554998e+09   3752  91.290001\n",
       "4  1.554998e+09   4690  90.720001\n",
       "5  1.554998e+09   5628  89.800003\n",
       "6  1.554998e+09   6566  92.870003\n",
       "7  1.554998e+09   7504  90.809998\n",
       "8  1.554998e+09   8442  92.040001\n",
       "9  1.554998e+09   9380  93.720001"
      ]
     },
     "execution_count": 12,
     "metadata": {},
     "output_type": "execute_result"
    }
   ],
   "source": [
    "test_accuracies"
   ]
  },
  {
   "cell_type": "code",
   "execution_count": 32,
   "metadata": {},
   "outputs": [
    {
     "data": {
      "text/plain": [
       "steps     9.999000e+03\n",
       "times     1.561642e+09\n",
       "values    9.334302e-01\n",
       "Name: 99, dtype: float64"
      ]
     },
     "execution_count": 32,
     "metadata": {},
     "output_type": "execute_result"
    }
   ],
   "source": [
    "train_dices.iloc[-1]"
   ]
  },
  {
   "cell_type": "code",
   "execution_count": 16,
   "metadata": {},
   "outputs": [
    {
     "data": {
      "text/html": [
       "<div>\n",
       "<style scoped>\n",
       "    .dataframe tbody tr th:only-of-type {\n",
       "        vertical-align: middle;\n",
       "    }\n",
       "\n",
       "    .dataframe tbody tr th {\n",
       "        vertical-align: top;\n",
       "    }\n",
       "\n",
       "    .dataframe thead th {\n",
       "        text-align: right;\n",
       "    }\n",
       "</style>\n",
       "<table border=\"1\" class=\"dataframe\">\n",
       "  <thead>\n",
       "    <tr style=\"text-align: right;\">\n",
       "      <th></th>\n",
       "      <th>times</th>\n",
       "      <th>steps</th>\n",
       "      <th>values</th>\n",
       "    </tr>\n",
       "  </thead>\n",
       "  <tbody>\n",
       "    <tr>\n",
       "      <th>0</th>\n",
       "      <td>1.562521e+09</td>\n",
       "      <td>0</td>\n",
       "      <td>0.013753</td>\n",
       "    </tr>\n",
       "    <tr>\n",
       "      <th>1</th>\n",
       "      <td>1.562521e+09</td>\n",
       "      <td>1</td>\n",
       "      <td>0.013669</td>\n",
       "    </tr>\n",
       "    <tr>\n",
       "      <th>2</th>\n",
       "      <td>1.562521e+09</td>\n",
       "      <td>2</td>\n",
       "      <td>0.013583</td>\n",
       "    </tr>\n",
       "    <tr>\n",
       "      <th>3</th>\n",
       "      <td>1.562521e+09</td>\n",
       "      <td>3</td>\n",
       "      <td>0.013447</td>\n",
       "    </tr>\n",
       "    <tr>\n",
       "      <th>4</th>\n",
       "      <td>1.562521e+09</td>\n",
       "      <td>4</td>\n",
       "      <td>0.013506</td>\n",
       "    </tr>\n",
       "  </tbody>\n",
       "</table>\n",
       "</div>"
      ],
      "text/plain": [
       "          times  steps    values\n",
       "0  1.562521e+09      0  0.013753\n",
       "1  1.562521e+09      1  0.013669\n",
       "2  1.562521e+09      2  0.013583\n",
       "3  1.562521e+09      3  0.013447\n",
       "4  1.562521e+09      4  0.013506"
      ]
     },
     "execution_count": 16,
     "metadata": {},
     "output_type": "execute_result"
    }
   ],
   "source": [
    "train_losses.head()"
   ]
  },
  {
   "cell_type": "code",
   "execution_count": 14,
   "metadata": {},
   "outputs": [
    {
     "data": {
      "text/plain": [
       "<matplotlib.axes._subplots.AxesSubplot at 0x7fa63fecd4a8>"
      ]
     },
     "execution_count": 14,
     "metadata": {},
     "output_type": "execute_result"
    },
    {
     "data": {
      "image/png": "[encoded data removed]",
      "text/plain": [
       "<Figure size 432x288 with 1 Axes>"
      ]
     },
     "metadata": {
      "needs_background": "light"
     },
     "output_type": "display_data"
    }
   ],
   "source": [
    "sns.lineplot(x='steps', y='values', data=train_losses)"
   ]
  },
  {
   "cell_type": "code",
   "execution_count": 15,
   "metadata": {},
   "outputs": [
    {
     "data": {
      "text/plain": [
       "<matplotlib.axes._subplots.AxesSubplot at 0x7fa63fb693c8>"
      ]
     },
     "execution_count": 15,
     "metadata": {},
     "output_type": "execute_result"
    },
    {
     "data": {
      "image/png": "[encoded data removed]",
      "text/plain": [
       "<Figure size 432x288 with 1 Axes>"
      ]
     },
     "metadata": {
      "needs_background": "light"
     },
     "output_type": "display_data"
    }
   ],
   "source": [
    "sns.lineplot(x='steps', y='values', data=test_losses)"
   ]
  },
  {
   "cell_type": "code",
   "execution_count": 10,
   "metadata": {},
   "outputs": [
    {
     "data": {
      "text/html": [
       "<div>\n",
       "<style scoped>\n",
       "    .dataframe tbody tr th:only-of-type {\n",
       "        vertical-align: middle;\n",
       "    }\n",
       "\n",
       "    .dataframe tbody tr th {\n",
       "        vertical-align: top;\n",
       "    }\n",
       "\n",
       "    .dataframe thead th {\n",
       "        text-align: right;\n",
       "    }\n",
       "</style>\n",
       "<table border=\"1\" class=\"dataframe\">\n",
       "  <thead>\n",
       "    <tr style=\"text-align: right;\">\n",
       "      <th></th>\n",
       "      <th>times</th>\n",
       "      <th>steps</th>\n",
       "      <th>values</th>\n",
       "    </tr>\n",
       "  </thead>\n",
       "  <tbody>\n",
       "    <tr>\n",
       "      <th>0</th>\n",
       "      <td>1.562523e+09</td>\n",
       "      <td>99</td>\n",
       "      <td>0.193524</td>\n",
       "    </tr>\n",
       "  </tbody>\n",
       "</table>\n",
       "</div>"
      ],
      "text/plain": [
       "          times  steps    values\n",
       "0  1.562523e+09     99  0.193524"
      ]
     },
     "execution_count": 10,
     "metadata": {},
     "output_type": "execute_result"
    }
   ],
   "source": [
    "train_dices.head()"
   ]
  },
  {
   "cell_type": "code",
   "execution_count": 8,
   "metadata": {},
   "outputs": [
    {
     "data": {
      "text/plain": [
       "<matplotlib.axes._subplots.AxesSubplot at 0x7f5f2af071d0>"
      ]
     },
     "execution_count": 8,
     "metadata": {},
     "output_type": "execute_result"
    },
    {
     "data": {
      "image/png": "[encoded data removed]",
      "text/plain": [
       "<Figure size 432x288 with 1 Axes>"
      ]
     },
     "metadata": {
      "needs_background": "light"
     },
     "output_type": "display_data"
    }
   ],
   "source": [
    "sns.lineplot(x='steps', y='values', data=train_dices)"
   ]
  },
  {
   "cell_type": "code",
   "execution_count": 9,
   "metadata": {},
   "outputs": [
    {
     "data": {
      "text/plain": [
       "<matplotlib.axes._subplots.AxesSubplot at 0x7f5f2aebe278>"
      ]
     },
     "execution_count": 9,
     "metadata": {},
     "output_type": "execute_result"
    },
    {
     "data": {
      "image/png": "[encoded data removed]",
      "text/plain": [
       "<Figure size 432x288 with 1 Axes>"
      ]
     },
     "metadata": {
      "needs_background": "light"
     },
     "output_type": "display_data"
    }
   ],
   "source": [
    "sns.lineplot(x='steps', y='values', data=test_dices)"
   ]
  },
  {
   "cell_type": "code",
   "execution_count": 45,
   "metadata": {},
   "outputs": [
    {
     "data": {
      "text/plain": [
       "<matplotlib.axes._subplots.AxesSubplot at 0x7f5f2ada64e0>"
      ]
     },
     "execution_count": 45,
     "metadata": {},
     "output_type": "execute_result"
    },
    {
     "data": {
      "image/png": "[encoded data removed]",
      "text/plain": [
       "<Figure size 432x288 with 1 Axes>"
      ]
     },
     "metadata": {
      "needs_background": "light"
     },
     "output_type": "display_data"
    }
   ],
   "source": [
    "sns.lineplot(x='steps', y='values', data=train_dices)\n",
    "sns.lineplot(x='steps', y='values', data=test_dices)"
   ]
  },
  {
   "cell_type": "code",
   "execution_count": 20,
   "metadata": {},
   "outputs": [
    {
     "data": {
      "text/plain": [
       "<matplotlib.axes._subplots.AxesSubplot at 0x7f5f2ad5b828>"
      ]
     },
     "execution_count": 20,
     "metadata": {},
     "output_type": "execute_result"
    },
    {
     "data": {
      "image/png": "[encoded data removed]",
      "text/plain": [
       "<Figure size 432x288 with 1 Axes>"
      ]
     },
     "metadata": {
      "needs_background": "light"
     },
     "output_type": "display_data"
    }
   ],
   "source": [
    "sns.lineplot(x='steps', y='values', data=train_dices)\n",
    "sns.lineplot(x='steps', y='values', data=test_dices)"
   ]
  },
  {
   "cell_type": "code",
   "execution_count": 25,
   "metadata": {},
   "outputs": [
    {
     "data": {
      "text/plain": [
       "steps     5.000000e+03\n",
       "times     1.562633e+09\n",
       "values    8.248324e-01\n",
       "Name: 50, dtype: float64"
      ]
     },
     "execution_count": 25,
     "metadata": {},
     "output_type": "execute_result"
    }
   ],
   "source": [
    "test_dices.iloc[-1]"
   ]
  },
  {
   "cell_type": "code",
   "execution_count": 21,
   "metadata": {},
   "outputs": [
    {
     "data": {
      "text/plain": [
       "steps     5.000000e+03\n",
       "times     1.562680e+09\n",
       "values    8.416548e-01\n",
       "Name: 50, dtype: float64"
      ]
     },
     "execution_count": 21,
     "metadata": {},
     "output_type": "execute_result"
    }
   ],
   "source": [
    "test_dices.iloc[-1]"
   ]
  },
  {
   "cell_type": "code",
   "execution_count": 15,
   "metadata": {},
   "outputs": [
    {
     "data": {
      "text/plain": [
       "<matplotlib.axes._subplots.AxesSubplot at 0x7fa51ff22208>"
      ]
     },
     "execution_count": 15,
     "metadata": {},
     "output_type": "execute_result"
    },
    {
     "data": {
      "image/png": "[encoded data removed]",
      "text/plain": [
       "<Figure size 432x288 with 1 Axes>"
      ]
     },
     "metadata": {
      "needs_background": "light"
     },
     "output_type": "display_data"
    }
   ],
   "source": [
    "sns.lineplot(x='steps', y='values', data=train_losses)\n",
    "sns.lineplot(x='steps', y='values', data=test_losses)"
   ]
  },
  {
   "cell_type": "code",
   "execution_count": null,
   "metadata": {},
   "outputs": [],
   "source": []
  }
 ],
 "metadata": {
  "kernelspec": {
   "display_name": "Python 3",
   "language": "python",
   "name": "python3"
  },
  "language_info": {
   "codemirror_mode": {
    "name": "ipython",
    "version": 3
   },
   "file_extension": ".py",
   "mimetype": "text/x-python",
   "name": "python",
   "nbconvert_exporter": "python",
   "pygments_lexer": "ipython3",
   "version": "3.5.2"
  }
 },
 "nbformat": 4,
 "nbformat_minor": 2
}
