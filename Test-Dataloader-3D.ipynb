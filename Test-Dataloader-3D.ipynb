{
 "cells": [
  {
   "cell_type": "code",
   "execution_count": 1,
   "metadata": {},
   "outputs": [],
   "source": [
    "from time import time\n",
    "from batchgenerators.augmentations.crop_and_pad_augmentations import crop\n",
    "from batchgenerators.dataloading import MultiThreadedAugmenter\n",
    "from batchgenerators.examples.brats2017.config import brats_preprocessed_folder, num_threads_for_brats_example\n",
    "from batchgenerators.transforms import Compose\n",
    "from batchgenerators.utilities.data_splitting import get_split_deterministic\n",
    "from batchgenerators.utilities.file_and_folder_operations import *\n",
    "import numpy as np\n",
    "from batchgenerators.dataloading.data_loader import DataLoader\n",
    "from batchgenerators.augmentations.utils import pad_nd_image\n",
    "from batchgenerators.transforms.spatial_transforms import SpatialTransform_2, MirrorTransform\n",
    "from batchgenerators.transforms.color_transforms import BrightnessMultiplicativeTransform, GammaTransform\n",
    "from batchgenerators.transforms.noise_transforms import GaussianNoiseTransform, GaussianBlurTransform"
   ]
  },
  {
   "cell_type": "code",
   "execution_count": 2,
   "metadata": {},
   "outputs": [],
   "source": [
    "def get_list_of_patients(preprocessed_data_folder):\n",
    "    npy_files = subfiles(preprocessed_data_folder, suffix=\".npy\", join=True)\n",
    "    # remove npy file extension\n",
    "    patients = [i[:-4] for i in npy_files]\n",
    "    return patients"
   ]
  },
  {
   "cell_type": "code",
   "execution_count": 64,
   "metadata": {},
   "outputs": [],
   "source": [
    "?? pad_nd_image"
   ]
  },
  {
   "cell_type": "code",
   "execution_count": 3,
   "metadata": {},
   "outputs": [],
   "source": [
    "class BraTS2017DataLoader3D(DataLoader):\n",
    "    def __init__(self, data, batch_size, patch_size, num_threads_in_multithreaded, seed_for_shuffle=1234,\n",
    "                 return_incomplete=False, shuffle=True, infinite=True):\n",
    "        \"\"\"\n",
    "        data must be a list of patients as returned by get_list_of_patients (and split by get_split_deterministic)\n",
    "        patch_size is the spatial size the retured batch will have\n",
    "        \"\"\"\n",
    "        super().__init__(data, batch_size, num_threads_in_multithreaded, seed_for_shuffle, return_incomplete, shuffle,\n",
    "                         infinite)\n",
    "        self.patch_size = patch_size\n",
    "        self.num_modalities = 4\n",
    "        self.indices = list(range(len(data)))\n",
    "\n",
    "    @staticmethod\n",
    "    def load_patient(patient):\n",
    "        data = np.load(patient + \".npy\", mmap_mode=\"r\")\n",
    "        metadata = load_pickle(patient + \".pkl\")\n",
    "        return data, metadata\n",
    "\n",
    "    def generate_train_batch(self):\n",
    "        # DataLoader has its own methods for selecting what patients to use next, see its Documentation\n",
    "        idx = self.get_indices()\n",
    "        patients_for_batch = [self._data[i] for i in idx]\n",
    "\n",
    "        # initialize empty array for data and seg\n",
    "        data = np.zeros((self.batch_size, self.num_modalities, *self.patch_size), dtype=np.float32)\n",
    "        seg = np.zeros((self.batch_size, 1, *self.patch_size), dtype=np.float32)\n",
    "\n",
    "        metadata = []\n",
    "        patient_names = []\n",
    "\n",
    "        # iterate over patients_for_batch and include them in the batch\n",
    "        for i, j in enumerate(patients_for_batch):\n",
    "            patient_data, patient_metadata = self.load_patient(j)\n",
    "\n",
    "            # this will only pad patient_data if its shape is smaller than self.patch_size\n",
    "            patient_data = pad_nd_image(patient_data, self.patch_size)\n",
    "\n",
    "            # now random crop to self.patch_size\n",
    "            # crop expects the data to be (b, c, x, y, z) but patient_data is (c, x, y, z) so we need to add one\n",
    "            # dummy dimension in order for it to work (@Todo, could be improved)\n",
    "            patient_data, patient_seg = crop(patient_data[:-1][None], patient_data[-1:][None], self.patch_size, crop_type=\"random\")\n",
    "\n",
    "            data[i] = patient_data[0]\n",
    "            seg[i] = patient_seg[0]\n",
    "\n",
    "            metadata.append(patient_metadata)\n",
    "            patient_names.append(j)\n",
    "\n",
    "        return {'data': data, 'seg':seg, 'metadata':metadata, 'names':patient_names}"
   ]
  },
  {
   "cell_type": "code",
   "execution_count": 4,
   "metadata": {},
   "outputs": [],
   "source": [
    "def get_train_transform(patch_size):\n",
    "    # we now create a list of transforms. These are not necessarily the best transforms to use for BraTS, this is just\n",
    "    # to showcase some things\n",
    "    tr_transforms = []\n",
    "\n",
    "    # the first thing we want to run is the SpatialTransform. It reduces the size of our data to patch_size and thus\n",
    "    # also reduces the computational cost of all subsequent operations. All subsequent operations do not modify the\n",
    "    # shape and do not transform spatially, so no border artifacts will be introduced\n",
    "    # Here we use the new SpatialTransform_2 which uses a new way of parameterizing elastic_deform\n",
    "    # We use all spatial transformations with a probability of 0.2 per sample. This means that 1 - (1 - 0.1) ** 3 = 27%\n",
    "    # of samples will be augmented, the rest will just be cropped\n",
    "    tr_transforms.append(\n",
    "        SpatialTransform_2(\n",
    "            patch_size, [i // 2 for i in patch_size],\n",
    "            do_elastic_deform=True, deformation_scale=(0, 0.25),\n",
    "            do_rotation=True,\n",
    "            angle_x=(- 15 / 360. * 2 * np.pi, 15 / 360. * 2 * np.pi),\n",
    "            angle_y=(- 15 / 360. * 2 * np.pi, 15 / 360. * 2 * np.pi),\n",
    "            angle_z=(- 15 / 360. * 2 * np.pi, 15 / 360. * 2 * np.pi),\n",
    "            do_scale=True, scale=(0.75, 1.25),\n",
    "            border_mode_data='constant', border_cval_data=0,\n",
    "            border_mode_seg='constant', border_cval_seg=0,\n",
    "            order_seg=1, order_data=3,\n",
    "            random_crop=True,\n",
    "            p_el_per_sample=0.1, p_rot_per_sample=0.1, p_scale_per_sample=0.1\n",
    "        )\n",
    "    )\n",
    "\n",
    "    # now we mirror along all axes\n",
    "    tr_transforms.append(MirrorTransform(axes=(0, 1, 2)))\n",
    "\n",
    "    # brightness transform for 15% of samples\n",
    "    tr_transforms.append(BrightnessMultiplicativeTransform((0.7, 1.5), per_channel=True, p_per_sample=0.15))\n",
    "\n",
    "    # gamma transform. This is a nonlinear transformation of intensity values\n",
    "    # (https://en.wikipedia.org/wiki/Gamma_correction)\n",
    "    tr_transforms.append(GammaTransform(gamma_range=(0.5, 2), invert_image=False, per_channel=True, p_per_sample=0.15))\n",
    "    # we can also invert the image, apply the transform and then invert back\n",
    "    tr_transforms.append(GammaTransform(gamma_range=(0.5, 2), invert_image=True, per_channel=True, p_per_sample=0.15))\n",
    "\n",
    "    # Gaussian Noise\n",
    "    tr_transforms.append(GaussianNoiseTransform(noise_variance=(0, 0.05), p_per_sample=0.15))\n",
    "\n",
    "    # blurring. Some BraTS cases have very blurry modalities. This can simulate more patients with this problem and\n",
    "    # thus make the model more robust to it\n",
    "    tr_transforms.append(GaussianBlurTransform(blur_sigma=(0.5, 1.5), different_sigma_per_channel=True,\n",
    "                                               p_per_channel=0.5, p_per_sample=0.15))\n",
    "\n",
    "    # now we compose these transforms together\n",
    "    tr_transforms = Compose(tr_transforms)\n",
    "    return tr_transforms"
   ]
  },
  {
   "cell_type": "code",
   "execution_count": 5,
   "metadata": {},
   "outputs": [],
   "source": [
    "brats_preprocessed_folder = 'brats_data_preprocessed/Brats17TrainingData'"
   ]
  },
  {
   "cell_type": "code",
   "execution_count": 6,
   "metadata": {},
   "outputs": [],
   "source": [
    "patients = get_list_of_patients(brats_preprocessed_folder)"
   ]
  },
  {
   "cell_type": "code",
   "execution_count": 7,
   "metadata": {},
   "outputs": [
    {
     "data": {
      "text/plain": [
       "['brats_data_preprocessed/Brats17TrainingData/Brats17_2013_0_1',\n",
       " 'brats_data_preprocessed/Brats17TrainingData/Brats17_2013_10_1',\n",
       " 'brats_data_preprocessed/Brats17TrainingData/Brats17_2013_11_1',\n",
       " 'brats_data_preprocessed/Brats17TrainingData/Brats17_2013_12_1',\n",
       " 'brats_data_preprocessed/Brats17TrainingData/Brats17_2013_13_1',\n",
       " 'brats_data_preprocessed/Brats17TrainingData/Brats17_2013_14_1',\n",
       " 'brats_data_preprocessed/Brats17TrainingData/Brats17_2013_15_1',\n",
       " 'brats_data_preprocessed/Brats17TrainingData/Brats17_2013_16_1',\n",
       " 'brats_data_preprocessed/Brats17TrainingData/Brats17_2013_17_1',\n",
       " 'brats_data_preprocessed/Brats17TrainingData/Brats17_2013_18_1',\n",
       " 'brats_data_preprocessed/Brats17TrainingData/Brats17_2013_19_1',\n",
       " 'brats_data_preprocessed/Brats17TrainingData/Brats17_2013_1_1',\n",
       " 'brats_data_preprocessed/Brats17TrainingData/Brats17_2013_20_1',\n",
       " 'brats_data_preprocessed/Brats17TrainingData/Brats17_2013_21_1',\n",
       " 'brats_data_preprocessed/Brats17TrainingData/Brats17_2013_22_1',\n",
       " 'brats_data_preprocessed/Brats17TrainingData/Brats17_2013_23_1',\n",
       " 'brats_data_preprocessed/Brats17TrainingData/Brats17_2013_24_1',\n",
       " 'brats_data_preprocessed/Brats17TrainingData/Brats17_2013_25_1',\n",
       " 'brats_data_preprocessed/Brats17TrainingData/Brats17_2013_26_1',\n",
       " 'brats_data_preprocessed/Brats17TrainingData/Brats17_2013_27_1',\n",
       " 'brats_data_preprocessed/Brats17TrainingData/Brats17_2013_28_1',\n",
       " 'brats_data_preprocessed/Brats17TrainingData/Brats17_2013_29_1',\n",
       " 'brats_data_preprocessed/Brats17TrainingData/Brats17_2013_2_1',\n",
       " 'brats_data_preprocessed/Brats17TrainingData/Brats17_2013_3_1',\n",
       " 'brats_data_preprocessed/Brats17TrainingData/Brats17_2013_4_1',\n",
       " 'brats_data_preprocessed/Brats17TrainingData/Brats17_2013_5_1',\n",
       " 'brats_data_preprocessed/Brats17TrainingData/Brats17_2013_6_1',\n",
       " 'brats_data_preprocessed/Brats17TrainingData/Brats17_2013_7_1',\n",
       " 'brats_data_preprocessed/Brats17TrainingData/Brats17_2013_8_1',\n",
       " 'brats_data_preprocessed/Brats17TrainingData/Brats17_2013_9_1',\n",
       " 'brats_data_preprocessed/Brats17TrainingData/Brats17_CBICA_AAB_1',\n",
       " 'brats_data_preprocessed/Brats17TrainingData/Brats17_CBICA_AAG_1',\n",
       " 'brats_data_preprocessed/Brats17TrainingData/Brats17_CBICA_AAL_1',\n",
       " 'brats_data_preprocessed/Brats17TrainingData/Brats17_CBICA_AAP_1',\n",
       " 'brats_data_preprocessed/Brats17TrainingData/Brats17_CBICA_ABB_1',\n",
       " 'brats_data_preprocessed/Brats17TrainingData/Brats17_CBICA_ABE_1',\n",
       " 'brats_data_preprocessed/Brats17TrainingData/Brats17_CBICA_ABM_1',\n",
       " 'brats_data_preprocessed/Brats17TrainingData/Brats17_CBICA_ABN_1',\n",
       " 'brats_data_preprocessed/Brats17TrainingData/Brats17_CBICA_ABO_1',\n",
       " 'brats_data_preprocessed/Brats17TrainingData/Brats17_CBICA_ABY_1',\n",
       " 'brats_data_preprocessed/Brats17TrainingData/Brats17_CBICA_ALN_1',\n",
       " 'brats_data_preprocessed/Brats17TrainingData/Brats17_CBICA_ALU_1',\n",
       " 'brats_data_preprocessed/Brats17TrainingData/Brats17_CBICA_ALX_1',\n",
       " 'brats_data_preprocessed/Brats17TrainingData/Brats17_CBICA_AME_1',\n",
       " 'brats_data_preprocessed/Brats17TrainingData/Brats17_CBICA_AMH_1',\n",
       " 'brats_data_preprocessed/Brats17TrainingData/Brats17_CBICA_ANG_1',\n",
       " 'brats_data_preprocessed/Brats17TrainingData/Brats17_CBICA_ANI_1',\n",
       " 'brats_data_preprocessed/Brats17TrainingData/Brats17_CBICA_ANP_1',\n",
       " 'brats_data_preprocessed/Brats17TrainingData/Brats17_CBICA_ANZ_1',\n",
       " 'brats_data_preprocessed/Brats17TrainingData/Brats17_CBICA_AOD_1',\n",
       " 'brats_data_preprocessed/Brats17TrainingData/Brats17_CBICA_AOH_1',\n",
       " 'brats_data_preprocessed/Brats17TrainingData/Brats17_CBICA_AOO_1',\n",
       " 'brats_data_preprocessed/Brats17TrainingData/Brats17_CBICA_AOP_1',\n",
       " 'brats_data_preprocessed/Brats17TrainingData/Brats17_CBICA_AOZ_1',\n",
       " 'brats_data_preprocessed/Brats17TrainingData/Brats17_CBICA_APR_1',\n",
       " 'brats_data_preprocessed/Brats17TrainingData/Brats17_CBICA_APY_1',\n",
       " 'brats_data_preprocessed/Brats17TrainingData/Brats17_CBICA_APZ_1',\n",
       " 'brats_data_preprocessed/Brats17TrainingData/Brats17_CBICA_AQA_1',\n",
       " 'brats_data_preprocessed/Brats17TrainingData/Brats17_CBICA_AQD_1',\n",
       " 'brats_data_preprocessed/Brats17TrainingData/Brats17_CBICA_AQG_1',\n",
       " 'brats_data_preprocessed/Brats17TrainingData/Brats17_CBICA_AQJ_1',\n",
       " 'brats_data_preprocessed/Brats17TrainingData/Brats17_CBICA_AQN_1',\n",
       " 'brats_data_preprocessed/Brats17TrainingData/Brats17_CBICA_AQO_1',\n",
       " 'brats_data_preprocessed/Brats17TrainingData/Brats17_CBICA_AQP_1',\n",
       " 'brats_data_preprocessed/Brats17TrainingData/Brats17_CBICA_AQQ_1',\n",
       " 'brats_data_preprocessed/Brats17TrainingData/Brats17_CBICA_AQR_1',\n",
       " 'brats_data_preprocessed/Brats17TrainingData/Brats17_CBICA_AQT_1',\n",
       " 'brats_data_preprocessed/Brats17TrainingData/Brats17_CBICA_AQU_1',\n",
       " 'brats_data_preprocessed/Brats17TrainingData/Brats17_CBICA_AQV_1',\n",
       " 'brats_data_preprocessed/Brats17TrainingData/Brats17_CBICA_AQY_1',\n",
       " 'brats_data_preprocessed/Brats17TrainingData/Brats17_CBICA_AQZ_1',\n",
       " 'brats_data_preprocessed/Brats17TrainingData/Brats17_CBICA_ARF_1',\n",
       " 'brats_data_preprocessed/Brats17TrainingData/Brats17_CBICA_ARW_1',\n",
       " 'brats_data_preprocessed/Brats17TrainingData/Brats17_CBICA_ARZ_1',\n",
       " 'brats_data_preprocessed/Brats17TrainingData/Brats17_CBICA_ASA_1',\n",
       " 'brats_data_preprocessed/Brats17TrainingData/Brats17_CBICA_ASE_1',\n",
       " 'brats_data_preprocessed/Brats17TrainingData/Brats17_CBICA_ASG_1',\n",
       " 'brats_data_preprocessed/Brats17TrainingData/Brats17_CBICA_ASH_1',\n",
       " 'brats_data_preprocessed/Brats17TrainingData/Brats17_CBICA_ASK_1',\n",
       " 'brats_data_preprocessed/Brats17TrainingData/Brats17_CBICA_ASN_1',\n",
       " 'brats_data_preprocessed/Brats17TrainingData/Brats17_CBICA_ASO_1',\n",
       " 'brats_data_preprocessed/Brats17TrainingData/Brats17_CBICA_ASU_1',\n",
       " 'brats_data_preprocessed/Brats17TrainingData/Brats17_CBICA_ASV_1',\n",
       " 'brats_data_preprocessed/Brats17TrainingData/Brats17_CBICA_ASW_1',\n",
       " 'brats_data_preprocessed/Brats17TrainingData/Brats17_CBICA_ASY_1',\n",
       " 'brats_data_preprocessed/Brats17TrainingData/Brats17_CBICA_ATB_1',\n",
       " 'brats_data_preprocessed/Brats17TrainingData/Brats17_CBICA_ATD_1',\n",
       " 'brats_data_preprocessed/Brats17TrainingData/Brats17_CBICA_ATF_1',\n",
       " 'brats_data_preprocessed/Brats17TrainingData/Brats17_CBICA_ATP_1',\n",
       " 'brats_data_preprocessed/Brats17TrainingData/Brats17_CBICA_ATV_1',\n",
       " 'brats_data_preprocessed/Brats17TrainingData/Brats17_CBICA_ATX_1',\n",
       " 'brats_data_preprocessed/Brats17TrainingData/Brats17_CBICA_AUN_1',\n",
       " 'brats_data_preprocessed/Brats17TrainingData/Brats17_CBICA_AUQ_1',\n",
       " 'brats_data_preprocessed/Brats17TrainingData/Brats17_CBICA_AUR_1',\n",
       " 'brats_data_preprocessed/Brats17TrainingData/Brats17_CBICA_AVG_1',\n",
       " 'brats_data_preprocessed/Brats17TrainingData/Brats17_CBICA_AVJ_1',\n",
       " 'brats_data_preprocessed/Brats17TrainingData/Brats17_CBICA_AVV_1',\n",
       " 'brats_data_preprocessed/Brats17TrainingData/Brats17_CBICA_AWG_1',\n",
       " 'brats_data_preprocessed/Brats17TrainingData/Brats17_CBICA_AWH_1',\n",
       " 'brats_data_preprocessed/Brats17TrainingData/Brats17_CBICA_AWI_1',\n",
       " 'brats_data_preprocessed/Brats17TrainingData/Brats17_CBICA_AXJ_1',\n",
       " 'brats_data_preprocessed/Brats17TrainingData/Brats17_CBICA_AXL_1',\n",
       " 'brats_data_preprocessed/Brats17TrainingData/Brats17_CBICA_AXM_1',\n",
       " 'brats_data_preprocessed/Brats17TrainingData/Brats17_CBICA_AXN_1',\n",
       " 'brats_data_preprocessed/Brats17TrainingData/Brats17_CBICA_AXO_1',\n",
       " 'brats_data_preprocessed/Brats17TrainingData/Brats17_CBICA_AXQ_1',\n",
       " 'brats_data_preprocessed/Brats17TrainingData/Brats17_CBICA_AXW_1',\n",
       " 'brats_data_preprocessed/Brats17TrainingData/Brats17_CBICA_AYA_1',\n",
       " 'brats_data_preprocessed/Brats17TrainingData/Brats17_CBICA_AYI_1',\n",
       " 'brats_data_preprocessed/Brats17TrainingData/Brats17_CBICA_AYU_1',\n",
       " 'brats_data_preprocessed/Brats17TrainingData/Brats17_CBICA_AYW_1',\n",
       " 'brats_data_preprocessed/Brats17TrainingData/Brats17_CBICA_AZD_1',\n",
       " 'brats_data_preprocessed/Brats17TrainingData/Brats17_CBICA_AZH_1',\n",
       " 'brats_data_preprocessed/Brats17TrainingData/Brats17_CBICA_BFB_1',\n",
       " 'brats_data_preprocessed/Brats17TrainingData/Brats17_CBICA_BFP_1',\n",
       " 'brats_data_preprocessed/Brats17TrainingData/Brats17_CBICA_BHB_1',\n",
       " 'brats_data_preprocessed/Brats17TrainingData/Brats17_CBICA_BHK_1',\n",
       " 'brats_data_preprocessed/Brats17TrainingData/Brats17_CBICA_BHM_1',\n",
       " 'brats_data_preprocessed/Brats17TrainingData/Brats17_TCIA_101_1',\n",
       " 'brats_data_preprocessed/Brats17TrainingData/Brats17_TCIA_103_1',\n",
       " 'brats_data_preprocessed/Brats17TrainingData/Brats17_TCIA_105_1',\n",
       " 'brats_data_preprocessed/Brats17TrainingData/Brats17_TCIA_109_1',\n",
       " 'brats_data_preprocessed/Brats17TrainingData/Brats17_TCIA_111_1',\n",
       " 'brats_data_preprocessed/Brats17TrainingData/Brats17_TCIA_113_1',\n",
       " 'brats_data_preprocessed/Brats17TrainingData/Brats17_TCIA_117_1',\n",
       " 'brats_data_preprocessed/Brats17TrainingData/Brats17_TCIA_118_1',\n",
       " 'brats_data_preprocessed/Brats17TrainingData/Brats17_TCIA_121_1',\n",
       " 'brats_data_preprocessed/Brats17TrainingData/Brats17_TCIA_130_1',\n",
       " 'brats_data_preprocessed/Brats17TrainingData/Brats17_TCIA_131_1',\n",
       " 'brats_data_preprocessed/Brats17TrainingData/Brats17_TCIA_133_1',\n",
       " 'brats_data_preprocessed/Brats17TrainingData/Brats17_TCIA_135_1',\n",
       " 'brats_data_preprocessed/Brats17TrainingData/Brats17_TCIA_138_1',\n",
       " 'brats_data_preprocessed/Brats17TrainingData/Brats17_TCIA_141_1',\n",
       " 'brats_data_preprocessed/Brats17TrainingData/Brats17_TCIA_147_1',\n",
       " 'brats_data_preprocessed/Brats17TrainingData/Brats17_TCIA_149_1',\n",
       " 'brats_data_preprocessed/Brats17TrainingData/Brats17_TCIA_150_1',\n",
       " 'brats_data_preprocessed/Brats17TrainingData/Brats17_TCIA_151_1',\n",
       " 'brats_data_preprocessed/Brats17TrainingData/Brats17_TCIA_152_1',\n",
       " 'brats_data_preprocessed/Brats17TrainingData/Brats17_TCIA_162_1',\n",
       " 'brats_data_preprocessed/Brats17TrainingData/Brats17_TCIA_165_1',\n",
       " 'brats_data_preprocessed/Brats17TrainingData/Brats17_TCIA_167_1',\n",
       " 'brats_data_preprocessed/Brats17TrainingData/Brats17_TCIA_168_1',\n",
       " 'brats_data_preprocessed/Brats17TrainingData/Brats17_TCIA_171_1',\n",
       " 'brats_data_preprocessed/Brats17TrainingData/Brats17_TCIA_175_1',\n",
       " 'brats_data_preprocessed/Brats17TrainingData/Brats17_TCIA_177_1',\n",
       " 'brats_data_preprocessed/Brats17TrainingData/Brats17_TCIA_179_1',\n",
       " 'brats_data_preprocessed/Brats17TrainingData/Brats17_TCIA_180_1',\n",
       " 'brats_data_preprocessed/Brats17TrainingData/Brats17_TCIA_184_1',\n",
       " 'brats_data_preprocessed/Brats17TrainingData/Brats17_TCIA_186_1',\n",
       " 'brats_data_preprocessed/Brats17TrainingData/Brats17_TCIA_190_1',\n",
       " 'brats_data_preprocessed/Brats17TrainingData/Brats17_TCIA_192_1',\n",
       " 'brats_data_preprocessed/Brats17TrainingData/Brats17_TCIA_198_1',\n",
       " 'brats_data_preprocessed/Brats17TrainingData/Brats17_TCIA_199_1',\n",
       " 'brats_data_preprocessed/Brats17TrainingData/Brats17_TCIA_201_1',\n",
       " 'brats_data_preprocessed/Brats17TrainingData/Brats17_TCIA_202_1',\n",
       " 'brats_data_preprocessed/Brats17TrainingData/Brats17_TCIA_203_1',\n",
       " 'brats_data_preprocessed/Brats17TrainingData/Brats17_TCIA_205_1',\n",
       " 'brats_data_preprocessed/Brats17TrainingData/Brats17_TCIA_208_1',\n",
       " 'brats_data_preprocessed/Brats17TrainingData/Brats17_TCIA_211_1',\n",
       " 'brats_data_preprocessed/Brats17TrainingData/Brats17_TCIA_218_1',\n",
       " 'brats_data_preprocessed/Brats17TrainingData/Brats17_TCIA_221_1',\n",
       " 'brats_data_preprocessed/Brats17TrainingData/Brats17_TCIA_222_1',\n",
       " 'brats_data_preprocessed/Brats17TrainingData/Brats17_TCIA_226_1',\n",
       " 'brats_data_preprocessed/Brats17TrainingData/Brats17_TCIA_231_1',\n",
       " 'brats_data_preprocessed/Brats17TrainingData/Brats17_TCIA_234_1',\n",
       " 'brats_data_preprocessed/Brats17TrainingData/Brats17_TCIA_235_1',\n",
       " 'brats_data_preprocessed/Brats17TrainingData/Brats17_TCIA_241_1',\n",
       " 'brats_data_preprocessed/Brats17TrainingData/Brats17_TCIA_242_1',\n",
       " 'brats_data_preprocessed/Brats17TrainingData/Brats17_TCIA_247_1',\n",
       " 'brats_data_preprocessed/Brats17TrainingData/Brats17_TCIA_249_1',\n",
       " 'brats_data_preprocessed/Brats17TrainingData/Brats17_TCIA_254_1',\n",
       " 'brats_data_preprocessed/Brats17TrainingData/Brats17_TCIA_255_1',\n",
       " 'brats_data_preprocessed/Brats17TrainingData/Brats17_TCIA_257_1',\n",
       " 'brats_data_preprocessed/Brats17TrainingData/Brats17_TCIA_261_1',\n",
       " 'brats_data_preprocessed/Brats17TrainingData/Brats17_TCIA_265_1',\n",
       " 'brats_data_preprocessed/Brats17TrainingData/Brats17_TCIA_266_1',\n",
       " 'brats_data_preprocessed/Brats17TrainingData/Brats17_TCIA_274_1',\n",
       " 'brats_data_preprocessed/Brats17TrainingData/Brats17_TCIA_276_1',\n",
       " 'brats_data_preprocessed/Brats17TrainingData/Brats17_TCIA_277_1',\n",
       " 'brats_data_preprocessed/Brats17TrainingData/Brats17_TCIA_278_1',\n",
       " 'brats_data_preprocessed/Brats17TrainingData/Brats17_TCIA_280_1',\n",
       " 'brats_data_preprocessed/Brats17TrainingData/Brats17_TCIA_282_1',\n",
       " 'brats_data_preprocessed/Brats17TrainingData/Brats17_TCIA_283_1',\n",
       " 'brats_data_preprocessed/Brats17TrainingData/Brats17_TCIA_290_1',\n",
       " 'brats_data_preprocessed/Brats17TrainingData/Brats17_TCIA_296_1',\n",
       " 'brats_data_preprocessed/Brats17TrainingData/Brats17_TCIA_298_1',\n",
       " 'brats_data_preprocessed/Brats17TrainingData/Brats17_TCIA_299_1',\n",
       " 'brats_data_preprocessed/Brats17TrainingData/Brats17_TCIA_300_1',\n",
       " 'brats_data_preprocessed/Brats17TrainingData/Brats17_TCIA_307_1',\n",
       " 'brats_data_preprocessed/Brats17TrainingData/Brats17_TCIA_309_1',\n",
       " 'brats_data_preprocessed/Brats17TrainingData/Brats17_TCIA_310_1',\n",
       " 'brats_data_preprocessed/Brats17TrainingData/Brats17_TCIA_312_1',\n",
       " 'brats_data_preprocessed/Brats17TrainingData/Brats17_TCIA_314_1',\n",
       " 'brats_data_preprocessed/Brats17TrainingData/Brats17_TCIA_319_1',\n",
       " 'brats_data_preprocessed/Brats17TrainingData/Brats17_TCIA_321_1',\n",
       " 'brats_data_preprocessed/Brats17TrainingData/Brats17_TCIA_322_1',\n",
       " 'brats_data_preprocessed/Brats17TrainingData/Brats17_TCIA_325_1',\n",
       " 'brats_data_preprocessed/Brats17TrainingData/Brats17_TCIA_328_1',\n",
       " 'brats_data_preprocessed/Brats17TrainingData/Brats17_TCIA_330_1',\n",
       " 'brats_data_preprocessed/Brats17TrainingData/Brats17_TCIA_331_1',\n",
       " 'brats_data_preprocessed/Brats17TrainingData/Brats17_TCIA_332_1',\n",
       " 'brats_data_preprocessed/Brats17TrainingData/Brats17_TCIA_335_1',\n",
       " 'brats_data_preprocessed/Brats17TrainingData/Brats17_TCIA_338_1',\n",
       " 'brats_data_preprocessed/Brats17TrainingData/Brats17_TCIA_343_1',\n",
       " 'brats_data_preprocessed/Brats17TrainingData/Brats17_TCIA_346_1',\n",
       " 'brats_data_preprocessed/Brats17TrainingData/Brats17_TCIA_351_1',\n",
       " 'brats_data_preprocessed/Brats17TrainingData/Brats17_TCIA_361_1',\n",
       " 'brats_data_preprocessed/Brats17TrainingData/Brats17_TCIA_368_1',\n",
       " 'brats_data_preprocessed/Brats17TrainingData/Brats17_TCIA_370_1',\n",
       " 'brats_data_preprocessed/Brats17TrainingData/Brats17_TCIA_372_1',\n",
       " 'brats_data_preprocessed/Brats17TrainingData/Brats17_TCIA_374_1',\n",
       " 'brats_data_preprocessed/Brats17TrainingData/Brats17_TCIA_375_1',\n",
       " 'brats_data_preprocessed/Brats17TrainingData/Brats17_TCIA_377_1',\n",
       " 'brats_data_preprocessed/Brats17TrainingData/Brats17_TCIA_378_1',\n",
       " 'brats_data_preprocessed/Brats17TrainingData/Brats17_TCIA_387_1',\n",
       " 'brats_data_preprocessed/Brats17TrainingData/Brats17_TCIA_390_1',\n",
       " 'brats_data_preprocessed/Brats17TrainingData/Brats17_TCIA_393_1',\n",
       " 'brats_data_preprocessed/Brats17TrainingData/Brats17_TCIA_394_1',\n",
       " 'brats_data_preprocessed/Brats17TrainingData/Brats17_TCIA_396_1',\n",
       " 'brats_data_preprocessed/Brats17TrainingData/Brats17_TCIA_401_1',\n",
       " 'brats_data_preprocessed/Brats17TrainingData/Brats17_TCIA_402_1',\n",
       " 'brats_data_preprocessed/Brats17TrainingData/Brats17_TCIA_406_1',\n",
       " 'brats_data_preprocessed/Brats17TrainingData/Brats17_TCIA_408_1',\n",
       " 'brats_data_preprocessed/Brats17TrainingData/Brats17_TCIA_409_1',\n",
       " 'brats_data_preprocessed/Brats17TrainingData/Brats17_TCIA_410_1',\n",
       " 'brats_data_preprocessed/Brats17TrainingData/Brats17_TCIA_411_1',\n",
       " 'brats_data_preprocessed/Brats17TrainingData/Brats17_TCIA_412_1',\n",
       " 'brats_data_preprocessed/Brats17TrainingData/Brats17_TCIA_413_1',\n",
       " 'brats_data_preprocessed/Brats17TrainingData/Brats17_TCIA_419_1',\n",
       " 'brats_data_preprocessed/Brats17TrainingData/Brats17_TCIA_420_1',\n",
       " 'brats_data_preprocessed/Brats17TrainingData/Brats17_TCIA_425_1',\n",
       " 'brats_data_preprocessed/Brats17TrainingData/Brats17_TCIA_428_1',\n",
       " 'brats_data_preprocessed/Brats17TrainingData/Brats17_TCIA_429_1',\n",
       " 'brats_data_preprocessed/Brats17TrainingData/Brats17_TCIA_430_1',\n",
       " 'brats_data_preprocessed/Brats17TrainingData/Brats17_TCIA_436_1',\n",
       " 'brats_data_preprocessed/Brats17TrainingData/Brats17_TCIA_437_1',\n",
       " 'brats_data_preprocessed/Brats17TrainingData/Brats17_TCIA_442_1',\n",
       " 'brats_data_preprocessed/Brats17TrainingData/Brats17_TCIA_444_1',\n",
       " 'brats_data_preprocessed/Brats17TrainingData/Brats17_TCIA_448_1',\n",
       " 'brats_data_preprocessed/Brats17TrainingData/Brats17_TCIA_449_1',\n",
       " 'brats_data_preprocessed/Brats17TrainingData/Brats17_TCIA_451_1',\n",
       " 'brats_data_preprocessed/Brats17TrainingData/Brats17_TCIA_455_1',\n",
       " 'brats_data_preprocessed/Brats17TrainingData/Brats17_TCIA_460_1',\n",
       " 'brats_data_preprocessed/Brats17TrainingData/Brats17_TCIA_462_1',\n",
       " 'brats_data_preprocessed/Brats17TrainingData/Brats17_TCIA_466_1',\n",
       " 'brats_data_preprocessed/Brats17TrainingData/Brats17_TCIA_469_1',\n",
       " 'brats_data_preprocessed/Brats17TrainingData/Brats17_TCIA_470_1',\n",
       " 'brats_data_preprocessed/Brats17TrainingData/Brats17_TCIA_471_1',\n",
       " 'brats_data_preprocessed/Brats17TrainingData/Brats17_TCIA_473_1',\n",
       " 'brats_data_preprocessed/Brats17TrainingData/Brats17_TCIA_474_1',\n",
       " 'brats_data_preprocessed/Brats17TrainingData/Brats17_TCIA_478_1',\n",
       " 'brats_data_preprocessed/Brats17TrainingData/Brats17_TCIA_479_1',\n",
       " 'brats_data_preprocessed/Brats17TrainingData/Brats17_TCIA_480_1',\n",
       " 'brats_data_preprocessed/Brats17TrainingData/Brats17_TCIA_490_1',\n",
       " 'brats_data_preprocessed/Brats17TrainingData/Brats17_TCIA_491_1',\n",
       " 'brats_data_preprocessed/Brats17TrainingData/Brats17_TCIA_493_1',\n",
       " 'brats_data_preprocessed/Brats17TrainingData/Brats17_TCIA_498_1',\n",
       " 'brats_data_preprocessed/Brats17TrainingData/Brats17_TCIA_499_1',\n",
       " 'brats_data_preprocessed/Brats17TrainingData/Brats17_TCIA_603_1',\n",
       " 'brats_data_preprocessed/Brats17TrainingData/Brats17_TCIA_605_1',\n",
       " 'brats_data_preprocessed/Brats17TrainingData/Brats17_TCIA_606_1',\n",
       " 'brats_data_preprocessed/Brats17TrainingData/Brats17_TCIA_607_1',\n",
       " 'brats_data_preprocessed/Brats17TrainingData/Brats17_TCIA_608_1',\n",
       " 'brats_data_preprocessed/Brats17TrainingData/Brats17_TCIA_615_1',\n",
       " 'brats_data_preprocessed/Brats17TrainingData/Brats17_TCIA_618_1',\n",
       " 'brats_data_preprocessed/Brats17TrainingData/Brats17_TCIA_620_1',\n",
       " 'brats_data_preprocessed/Brats17TrainingData/Brats17_TCIA_621_1',\n",
       " 'brats_data_preprocessed/Brats17TrainingData/Brats17_TCIA_623_1',\n",
       " 'brats_data_preprocessed/Brats17TrainingData/Brats17_TCIA_624_1',\n",
       " 'brats_data_preprocessed/Brats17TrainingData/Brats17_TCIA_625_1',\n",
       " 'brats_data_preprocessed/Brats17TrainingData/Brats17_TCIA_628_1',\n",
       " 'brats_data_preprocessed/Brats17TrainingData/Brats17_TCIA_629_1',\n",
       " 'brats_data_preprocessed/Brats17TrainingData/Brats17_TCIA_630_1',\n",
       " 'brats_data_preprocessed/Brats17TrainingData/Brats17_TCIA_632_1',\n",
       " 'brats_data_preprocessed/Brats17TrainingData/Brats17_TCIA_633_1',\n",
       " 'brats_data_preprocessed/Brats17TrainingData/Brats17_TCIA_634_1',\n",
       " 'brats_data_preprocessed/Brats17TrainingData/Brats17_TCIA_637_1',\n",
       " 'brats_data_preprocessed/Brats17TrainingData/Brats17_TCIA_639_1',\n",
       " 'brats_data_preprocessed/Brats17TrainingData/Brats17_TCIA_640_1',\n",
       " 'brats_data_preprocessed/Brats17TrainingData/Brats17_TCIA_642_1',\n",
       " 'brats_data_preprocessed/Brats17TrainingData/Brats17_TCIA_644_1',\n",
       " 'brats_data_preprocessed/Brats17TrainingData/Brats17_TCIA_645_1',\n",
       " 'brats_data_preprocessed/Brats17TrainingData/Brats17_TCIA_650_1',\n",
       " 'brats_data_preprocessed/Brats17TrainingData/Brats17_TCIA_653_1',\n",
       " 'brats_data_preprocessed/Brats17TrainingData/Brats17_TCIA_654_1']"
      ]
     },
     "execution_count": 7,
     "metadata": {},
     "output_type": "execute_result"
    }
   ],
   "source": [
    "patients"
   ]
  },
  {
   "cell_type": "code",
   "execution_count": 8,
   "metadata": {},
   "outputs": [],
   "source": [
    "# num_splits=5 means 1/5th is validation data!\n",
    "train, val = get_split_deterministic(patients, fold=0, num_splits=5, random_state=12345)"
   ]
  },
  {
   "cell_type": "code",
   "execution_count": 9,
   "metadata": {},
   "outputs": [
    {
     "data": {
      "text/plain": [
       "228"
      ]
     },
     "execution_count": 9,
     "metadata": {},
     "output_type": "execute_result"
    }
   ],
   "source": [
    "len(train)"
   ]
  },
  {
   "cell_type": "code",
   "execution_count": 10,
   "metadata": {},
   "outputs": [
    {
     "data": {
      "text/plain": [
       "57"
      ]
     },
     "execution_count": 10,
     "metadata": {},
     "output_type": "execute_result"
    }
   ],
   "source": [
    "len(val)"
   ]
  },
  {
   "cell_type": "code",
   "execution_count": 11,
   "metadata": {},
   "outputs": [],
   "source": [
    "patch_size = (128, 128, 128)\n",
    "batch_size = 2"
   ]
  },
  {
   "cell_type": "code",
   "execution_count": 12,
   "metadata": {},
   "outputs": [],
   "source": [
    "dataloader = BraTS2017DataLoader3D(train, batch_size, patch_size, 1)"
   ]
  },
  {
   "cell_type": "code",
   "execution_count": 13,
   "metadata": {},
   "outputs": [],
   "source": [
    "batch = next(dataloader)"
   ]
  },
  {
   "cell_type": "code",
   "execution_count": 14,
   "metadata": {},
   "outputs": [
    {
     "data": {
      "text/plain": [
       "dict_keys(['data', 'seg', 'metadata', 'names'])"
      ]
     },
     "execution_count": 14,
     "metadata": {},
     "output_type": "execute_result"
    }
   ],
   "source": [
    "batch.keys()"
   ]
  },
  {
   "cell_type": "code",
   "execution_count": 15,
   "metadata": {},
   "outputs": [
    {
     "data": {
      "text/plain": [
       "(2, 4, 128, 128, 128)"
      ]
     },
     "execution_count": 15,
     "metadata": {},
     "output_type": "execute_result"
    }
   ],
   "source": [
    "batch['data'].shape"
   ]
  },
  {
   "cell_type": "code",
   "execution_count": 16,
   "metadata": {},
   "outputs": [],
   "source": [
    "import matplotlib.pyplot as plt"
   ]
  },
  {
   "cell_type": "code",
   "execution_count": 42,
   "metadata": {},
   "outputs": [
    {
     "data": {
      "text/plain": [
       "<matplotlib.image.AxesImage at 0x7f8db1bb76a0>"
      ]
     },
     "execution_count": 42,
     "metadata": {},
     "output_type": "execute_result"
    },
    {
     "data": {
      "image/png": "[encoded data removed]",
      "text/plain": [
       "<Figure size 432x288 with 1 Axes>"
      ]
     },
     "metadata": {
      "needs_background": "light"
     },
     "output_type": "display_data"
    }
   ],
   "source": [
    "plt.imshow(batch['data'][1,0,70,:,:])"
   ]
  },
  {
   "cell_type": "code",
   "execution_count": 43,
   "metadata": {},
   "outputs": [
    {
     "data": {
      "text/plain": [
       "<matplotlib.image.AxesImage at 0x7f8db1b94c88>"
      ]
     },
     "execution_count": 43,
     "metadata": {},
     "output_type": "execute_result"
    },
    {
     "data": {
      "image/png": "[encoded data removed]",
      "text/plain": [
       "<Figure size 432x288 with 1 Axes>"
      ]
     },
     "metadata": {
      "needs_background": "light"
     },
     "output_type": "display_data"
    }
   ],
   "source": [
    "plt.imshow(batch['seg'][1,0,70,:,:])"
   ]
  },
  {
   "cell_type": "code",
   "execution_count": 44,
   "metadata": {},
   "outputs": [
    {
     "data": {
      "text/plain": [
       "[{'spacing': array([1., 1., 1.]),\n",
       "  'direction': (1.0, 0.0, 0.0, 0.0, 1.0, 0.0, 0.0, 0.0, 1.0),\n",
       "  'origin': (0.0, -239.0, 0.0),\n",
       "  'original_shape': (155, 240, 240),\n",
       "  'nonzero_region': array([[  6, 142],\n",
       "         [ 43, 215],\n",
       "         [ 50, 187]])},\n",
       " {'spacing': array([1., 1., 1.]),\n",
       "  'direction': (1.0, 0.0, 0.0, 0.0, 1.0, 0.0, 0.0, 0.0, 1.0),\n",
       "  'origin': (-0.0, -239.0, 0.0),\n",
       "  'original_shape': (155, 240, 240),\n",
       "  'nonzero_region': array([[  0, 143],\n",
       "         [ 39, 218],\n",
       "         [ 52, 184]])}]"
      ]
     },
     "execution_count": 44,
     "metadata": {},
     "output_type": "execute_result"
    }
   ],
   "source": [
    "batch['metadata']"
   ]
  },
  {
   "cell_type": "code",
   "execution_count": 45,
   "metadata": {
    "scrolled": true
   },
   "outputs": [
    {
     "data": {
      "text/plain": [
       "['brats_data_preprocessed/Brats17TrainingData/Brats17_TCIA_474_1',\n",
       " 'brats_data_preprocessed/Brats17TrainingData/Brats17_TCIA_625_1']"
      ]
     },
     "execution_count": 45,
     "metadata": {},
     "output_type": "execute_result"
    }
   ],
   "source": [
    "batch['names']"
   ]
  },
  {
   "cell_type": "markdown",
   "metadata": {},
   "source": [
    "## Data Augmentation"
   ]
  },
  {
   "cell_type": "code",
   "execution_count": 46,
   "metadata": {},
   "outputs": [],
   "source": [
    "# first let's collect all shapes, you will see why later\n",
    "shapes = [BraTS2017DataLoader3D.load_patient(i)[0].shape[1:] for i in patients]\n",
    "max_shape = np.max(shapes, 0)\n",
    "max_shape = np.max((max_shape, patch_size), 0)"
   ]
  },
  {
   "cell_type": "code",
   "execution_count": 47,
   "metadata": {},
   "outputs": [
    {
     "data": {
      "text/plain": [
       "[(133, 159, 133),\n",
       " (132, 176, 136),\n",
       " (143, 165, 143),\n",
       " (130, 169, 128),\n",
       " (140, 170, 147),\n",
       " (135, 174, 141),\n",
       " (131, 167, 131),\n",
       " (135, 176, 145),\n",
       " (144, 183, 145),\n",
       " (140, 177, 146),\n",
       " (138, 169, 141),\n",
       " (132, 175, 146),\n",
       " (146, 175, 146),\n",
       " (130, 156, 129),\n",
       " (139, 164, 157),\n",
       " (137, 177, 139),\n",
       " (130, 165, 141),\n",
       " (136, 171, 144),\n",
       " (128, 180, 141),\n",
       " (142, 166, 149),\n",
       " (133, 161, 149),\n",
       " (138, 163, 137),\n",
       " (129, 179, 142),\n",
       " (137, 155, 144),\n",
       " (135, 169, 144),\n",
       " (146, 176, 142),\n",
       " (133, 167, 144),\n",
       " (132, 159, 137),\n",
       " (140, 168, 151),\n",
       " (145, 171, 131),\n",
       " (135, 173, 137),\n",
       " (140, 187, 134),\n",
       " (135, 163, 129),\n",
       " (140, 182, 135),\n",
       " (140, 175, 133),\n",
       " (141, 177, 133),\n",
       " (138, 170, 139),\n",
       " (138, 179, 140),\n",
       " (144, 170, 130),\n",
       " (141, 171, 130),\n",
       " (142, 160, 152),\n",
       " (143, 178, 138),\n",
       " (140, 164, 145),\n",
       " (143, 179, 141),\n",
       " (141, 176, 144),\n",
       " (140, 176, 133),\n",
       " (141, 177, 140),\n",
       " (136, 167, 137),\n",
       " (137, 167, 133),\n",
       " (139, 180, 140),\n",
       " (136, 157, 133),\n",
       " (143, 187, 132),\n",
       " (147, 168, 127),\n",
       " (144, 170, 138),\n",
       " (139, 160, 131),\n",
       " (142, 184, 141),\n",
       " (142, 172, 134),\n",
       " (142, 179, 144),\n",
       " (138, 161, 132),\n",
       " (140, 182, 132),\n",
       " (145, 177, 140),\n",
       " (143, 172, 129),\n",
       " (140, 167, 133),\n",
       " (144, 162, 128),\n",
       " (130, 167, 148),\n",
       " (139, 158, 137),\n",
       " (135, 162, 142),\n",
       " (139, 172, 130),\n",
       " (147, 167, 125),\n",
       " (140, 187, 137),\n",
       " (141, 165, 143),\n",
       " (142, 165, 142),\n",
       " (144, 168, 146),\n",
       " (139, 173, 136),\n",
       " (136, 162, 135),\n",
       " (143, 174, 133),\n",
       " (146, 178, 139),\n",
       " (143, 176, 131),\n",
       " (141, 178, 140),\n",
       " (144, 173, 137),\n",
       " (144, 165, 134),\n",
       " (138, 167, 142),\n",
       " (140, 186, 136),\n",
       " (140, 169, 127),\n",
       " (149, 176, 143),\n",
       " (136, 162, 122),\n",
       " (134, 157, 126),\n",
       " (143, 174, 137),\n",
       " (136, 173, 131),\n",
       " (138, 168, 128),\n",
       " (137, 176, 133),\n",
       " (146, 160, 127),\n",
       " (141, 174, 138),\n",
       " (137, 167, 124),\n",
       " (137, 166, 140),\n",
       " (137, 174, 139),\n",
       " (145, 172, 140),\n",
       " (141, 178, 135),\n",
       " (129, 175, 128),\n",
       " (142, 185, 132),\n",
       " (139, 175, 132),\n",
       " (136, 168, 134),\n",
       " (141, 179, 135),\n",
       " (138, 166, 147),\n",
       " (143, 187, 138),\n",
       " (136, 150, 130),\n",
       " (137, 169, 138),\n",
       " (140, 173, 130),\n",
       " (138, 167, 135),\n",
       " (141, 173, 131),\n",
       " (136, 174, 141),\n",
       " (140, 170, 136),\n",
       " (141, 176, 141),\n",
       " (144, 167, 139),\n",
       " (144, 173, 141),\n",
       " (139, 180, 138),\n",
       " (147, 173, 137),\n",
       " (142, 171, 133),\n",
       " (141, 171, 144),\n",
       " (137, 163, 145),\n",
       " (137, 160, 134),\n",
       " (136, 169, 147),\n",
       " (130, 171, 138),\n",
       " (129, 157, 129),\n",
       " (139, 160, 147),\n",
       " (134, 161, 135),\n",
       " (134, 159, 133),\n",
       " (136, 163, 135),\n",
       " (131, 164, 150),\n",
       " (139, 165, 147),\n",
       " (137, 175, 141),\n",
       " (138, 171, 139),\n",
       " (139, 161, 136),\n",
       " (138, 170, 145),\n",
       " (143, 168, 133),\n",
       " (136, 165, 140),\n",
       " (139, 153, 138),\n",
       " (138, 160, 133),\n",
       " (139, 167, 134),\n",
       " (143, 175, 134),\n",
       " (135, 164, 144),\n",
       " (146, 176, 148),\n",
       " (134, 173, 143),\n",
       " (138, 161, 133),\n",
       " (131, 165, 135),\n",
       " (139, 170, 136),\n",
       " (139, 152, 138),\n",
       " (142, 168, 136),\n",
       " (139, 169, 135),\n",
       " (141, 167, 134),\n",
       " (127, 169, 133),\n",
       " (136, 173, 140),\n",
       " (142, 175, 136),\n",
       " (133, 171, 144),\n",
       " (134, 170, 133),\n",
       " (137, 163, 136),\n",
       " (146, 180, 132),\n",
       " (141, 166, 144),\n",
       " (135, 170, 130),\n",
       " (139, 164, 136),\n",
       " (140, 167, 131),\n",
       " (138, 164, 142),\n",
       " (145, 149, 141),\n",
       " (135, 161, 134),\n",
       " (135, 176, 140),\n",
       " (135, 171, 140),\n",
       " (130, 166, 138),\n",
       " (132, 166, 142),\n",
       " (132, 168, 142),\n",
       " (144, 168, 139),\n",
       " (139, 165, 141),\n",
       " (139, 172, 134),\n",
       " (138, 175, 145),\n",
       " (130, 165, 140),\n",
       " (128, 158, 133),\n",
       " (137, 168, 136),\n",
       " (134, 166, 141),\n",
       " (138, 171, 135),\n",
       " (137, 174, 137),\n",
       " (137, 156, 132),\n",
       " (136, 173, 141),\n",
       " (136, 174, 135),\n",
       " (133, 162, 140),\n",
       " (136, 168, 138),\n",
       " (140, 168, 140),\n",
       " (131, 159, 138),\n",
       " (139, 163, 146),\n",
       " (136, 167, 138),\n",
       " (143, 174, 137),\n",
       " (138, 173, 143),\n",
       " (132, 159, 126),\n",
       " (137, 176, 142),\n",
       " (139, 173, 141),\n",
       " (139, 161, 136),\n",
       " (131, 169, 139),\n",
       " (137, 180, 141),\n",
       " (138, 174, 136),\n",
       " (137, 171, 139),\n",
       " (139, 161, 137),\n",
       " (130, 162, 137),\n",
       " (138, 172, 140),\n",
       " (140, 173, 139),\n",
       " (137, 163, 142),\n",
       " (137, 169, 143),\n",
       " (141, 170, 137),\n",
       " (138, 166, 140),\n",
       " (141, 158, 137),\n",
       " (137, 168, 145),\n",
       " (137, 167, 134),\n",
       " (140, 160, 150),\n",
       " (139, 172, 134),\n",
       " (132, 162, 135),\n",
       " (131, 157, 142),\n",
       " (136, 165, 146),\n",
       " (131, 164, 139),\n",
       " (144, 157, 135),\n",
       " (142, 173, 139),\n",
       " (138, 170, 144),\n",
       " (130, 172, 136),\n",
       " (140, 167, 139),\n",
       " (145, 181, 138),\n",
       " (141, 169, 140),\n",
       " (141, 174, 141),\n",
       " (138, 159, 142),\n",
       " (135, 171, 140),\n",
       " (140, 172, 138),\n",
       " (142, 165, 139),\n",
       " (141, 165, 136),\n",
       " (141, 166, 140),\n",
       " (137, 172, 133),\n",
       " (136, 161, 145),\n",
       " (135, 176, 134),\n",
       " (132, 153, 148),\n",
       " (139, 163, 128),\n",
       " (135, 167, 134),\n",
       " (139, 171, 134),\n",
       " (140, 175, 138),\n",
       " (134, 177, 139),\n",
       " (138, 152, 132),\n",
       " (134, 167, 133),\n",
       " (135, 163, 137),\n",
       " (139, 176, 138),\n",
       " (144, 163, 133),\n",
       " (140, 166, 134),\n",
       " (141, 171, 141),\n",
       " (142, 180, 144),\n",
       " (137, 168, 145),\n",
       " (138, 161, 139),\n",
       " (119, 163, 143),\n",
       " (137, 173, 138),\n",
       " (130, 169, 152),\n",
       " (136, 167, 137),\n",
       " (140, 176, 137),\n",
       " (139, 164, 132),\n",
       " (142, 169, 141),\n",
       " (135, 158, 136),\n",
       " (137, 172, 135),\n",
       " (137, 171, 141),\n",
       " (146, 172, 131),\n",
       " (139, 173, 135),\n",
       " (143, 169, 134),\n",
       " (136, 177, 133),\n",
       " (139, 166, 142),\n",
       " (136, 153, 135),\n",
       " (141, 177, 141),\n",
       " (140, 182, 145),\n",
       " (139, 173, 135),\n",
       " (140, 163, 139),\n",
       " (140, 178, 134),\n",
       " (144, 180, 133),\n",
       " (140, 173, 138),\n",
       " (141, 160, 131),\n",
       " (135, 162, 135),\n",
       " (143, 173, 131),\n",
       " (138, 176, 144),\n",
       " (143, 160, 134),\n",
       " (134, 170, 134),\n",
       " (140, 181, 132),\n",
       " (133, 176, 144),\n",
       " (141, 183, 137),\n",
       " (138, 161, 138),\n",
       " (133, 182, 133),\n",
       " (139, 165, 138),\n",
       " (140, 185, 145),\n",
       " (139, 189, 146)]"
      ]
     },
     "execution_count": 47,
     "metadata": {},
     "output_type": "execute_result"
    }
   ],
   "source": [
    "shapes"
   ]
  },
  {
   "cell_type": "code",
   "execution_count": 48,
   "metadata": {},
   "outputs": [
    {
     "data": {
      "text/plain": [
       "array([149, 189, 157])"
      ]
     },
     "execution_count": 48,
     "metadata": {},
     "output_type": "execute_result"
    }
   ],
   "source": [
    "max_shape"
   ]
  },
  {
   "cell_type": "code",
   "execution_count": 49,
   "metadata": {},
   "outputs": [],
   "source": [
    "dataloader_train = BraTS2017DataLoader3D(train, batch_size, max_shape, 1)"
   ]
  },
  {
   "cell_type": "code",
   "execution_count": 50,
   "metadata": {},
   "outputs": [],
   "source": [
    "dataloader_validation = BraTS2017DataLoader3D(val, batch_size, patch_size, 1)"
   ]
  },
  {
   "cell_type": "code",
   "execution_count": 51,
   "metadata": {},
   "outputs": [],
   "source": [
    "tr_transforms = get_train_transform(patch_size)"
   ]
  },
  {
   "cell_type": "code",
   "execution_count": 52,
   "metadata": {},
   "outputs": [
    {
     "data": {
      "text/plain": [
       "Compose ( [SpatialTransform_2( p_rot_per_sample = 0.1, p_scale_per_sample = 0.1, p_el_per_sample = 0.1, data_key = 'data', label_key = 'seg', patch_size = (128, 128, 128), patch_center_dist_from_border = [64, 64, 64], do_elastic_deform = True, deformation_scale = (0, 0.25), do_rotation = True, angle_x = (-0.2617993877991494, 0.2617993877991494), angle_y = (-0.2617993877991494, 0.2617993877991494), angle_z = (-0.2617993877991494, 0.2617993877991494), do_scale = True, scale = (0.75, 1.25), border_mode_data = 'constant', border_cval_data = 0, order_data = 3, border_mode_seg = 'constant', border_cval_seg = 0, order_seg = 1, random_crop = True ), MirrorTransform( data_key = 'data', label_key = 'seg', axes = (0, 1, 2) ), BrightnessMultiplicativeTransform( p_per_sample = 0.15, data_key = 'data', multiplier_range = (0.7, 1.5), per_channel = True ), GammaTransform( p_per_sample = 0.15, retain_stats = False, per_channel = True, data_key = 'data', gamma_range = (0.5, 2), invert_image = False ), GammaTransform( p_per_sample = 0.15, retain_stats = False, per_channel = True, data_key = 'data', gamma_range = (0.5, 2), invert_image = True ), GaussianNoiseTransform( p_per_sample = 0.15, data_key = 'data', label_key = 'seg', noise_variance = (0, 0.05) ), GaussianBlurTransform( p_per_sample = 0.15, different_sigma_per_channel = True, p_per_channel = 0.5, data_key = 'data', label_key = 'seg', blur_sigma = (0.5, 1.5) )] )"
      ]
     },
     "execution_count": 52,
     "metadata": {},
     "output_type": "execute_result"
    }
   ],
   "source": [
    "tr_transforms"
   ]
  },
  {
   "cell_type": "code",
   "execution_count": 53,
   "metadata": {},
   "outputs": [],
   "source": [
    "# finally we can create multithreaded transforms that we can actually use for training\n",
    "# we don't pin memory here because this is pytorch specific.\n",
    "tr_gen = MultiThreadedAugmenter(dataloader_train, tr_transforms, num_processes=num_threads_for_brats_example,\n",
    "                                num_cached_per_queue=3,\n",
    "                                seeds=None, pin_memory=False)\n",
    "# we need less processes for vlaidation because we dont apply transformations\n",
    "val_gen = MultiThreadedAugmenter(dataloader_validation, None,\n",
    "                                 num_processes=max(1, num_threads_for_brats_example // 2), num_cached_per_queue=1,\n",
    "                                 seeds=None,\n",
    "                                 pin_memory=False)"
   ]
  },
  {
   "cell_type": "code",
   "execution_count": 54,
   "metadata": {},
   "outputs": [],
   "source": [
    "# lets start the MultiThreadedAugmenter. This is not necessary but allows them to start generating training\n",
    "# batches while other things run in the main thread\n",
    "tr_gen.restart()\n",
    "val_gen.restart()"
   ]
  },
  {
   "cell_type": "code",
   "execution_count": 55,
   "metadata": {},
   "outputs": [
    {
     "name": "stdout",
     "output_type": "stream",
     "text": [
      "Running 5 epochs took a total of 86.12 seconds with time per epoch being [4.915756464004517, 14.611761569976807, 30.529673099517822, 21.851526498794556, 14.206583023071289]\n"
     ]
    }
   ],
   "source": [
    "# now if this was a network training you would run epochs like this (remember tr_gen and val_gen generate\n",
    "# inifinite examples! Don't do \"for batch in tr_gen:\"!!!):\n",
    "num_batches_per_epoch = 10\n",
    "num_validation_batches_per_epoch = 3\n",
    "num_epochs = 5\n",
    "# let's run this to get a time on how long it takes\n",
    "time_per_epoch = []\n",
    "start = time()\n",
    "for epoch in range(num_epochs):\n",
    "    start_epoch = time()\n",
    "    for b in range(num_batches_per_epoch):\n",
    "        batch = next(tr_gen)\n",
    "        # do network training here with this batch\n",
    "\n",
    "    for b in range(num_validation_batches_per_epoch):\n",
    "        batch = next(val_gen)\n",
    "        # run validation here\n",
    "    end_epoch = time()\n",
    "    time_per_epoch.append(end_epoch - start_epoch)\n",
    "end = time()\n",
    "total_time = end - start\n",
    "print(\"Running %d epochs took a total of %.2f seconds with time per epoch being %s\" %\n",
    "      (num_epochs, total_time, str(time_per_epoch)))"
   ]
  },
  {
   "cell_type": "markdown",
   "metadata": {},
   "source": [
    "## Visualize augmented example"
   ]
  },
  {
   "cell_type": "code",
   "execution_count": 56,
   "metadata": {},
   "outputs": [],
   "source": [
    "batch = next(tr_gen)"
   ]
  },
  {
   "cell_type": "code",
   "execution_count": 58,
   "metadata": {},
   "outputs": [
    {
     "data": {
      "text/plain": [
       "(2, 4, 128, 128, 128)"
      ]
     },
     "execution_count": 58,
     "metadata": {},
     "output_type": "execute_result"
    }
   ],
   "source": [
    "batch['data'].shape"
   ]
  },
  {
   "cell_type": "code",
   "execution_count": 59,
   "metadata": {},
   "outputs": [],
   "source": [
    "augmented = np.concatenate((batch['data'][0], batch['seg'][0]), 0)[:, None]"
   ]
  },
  {
   "cell_type": "code",
   "execution_count": 60,
   "metadata": {},
   "outputs": [
    {
     "data": {
      "text/plain": [
       "(5, 1, 128, 128, 128)"
      ]
     },
     "execution_count": 60,
     "metadata": {},
     "output_type": "execute_result"
    }
   ],
   "source": [
    "augmented.shape"
   ]
  },
  {
   "cell_type": "code",
   "execution_count": 63,
   "metadata": {},
   "outputs": [
    {
     "data": {
      "text/plain": [
       "<matplotlib.image.AxesImage at 0x7f8daf157b70>"
      ]
     },
     "execution_count": 63,
     "metadata": {},
     "output_type": "execute_result"
    },
    {
     "data": {
      "image/png": "[encoded data removed]",
      "text/plain": [
       "<Figure size 432x288 with 1 Axes>"
      ]
     },
     "metadata": {
      "needs_background": "light"
     },
     "output_type": "display_data"
    }
   ],
   "source": [
    "plt.imshow(augmented[0, 0, 80])"
   ]
  },
  {
   "cell_type": "code",
   "execution_count": null,
   "metadata": {},
   "outputs": [],
   "source": []
  }
 ],
 "metadata": {
  "kernelspec": {
   "display_name": "Python 3",
   "language": "python",
   "name": "python3"
  },
  "language_info": {
   "codemirror_mode": {
    "name": "ipython",
    "version": 3
   },
   "file_extension": ".py",
   "mimetype": "text/x-python",
   "name": "python",
   "nbconvert_exporter": "python",
   "pygments_lexer": "ipython3",
   "version": "3.6.8"
  }
 },
 "nbformat": 4,
 "nbformat_minor": 2
}
