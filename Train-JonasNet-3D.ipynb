{
 "cells": [
  {
   "cell_type": "code",
   "execution_count": 1,
   "metadata": {},
   "outputs": [],
   "source": [
    "from brats_data_loader import get_list_of_patients, get_train_transform, iterate_through_patients, BRATSDataLoader\n",
    "from train_test_function import ModelTrainer\n",
    "from jonas_net import AlbuNet3D34\n",
    "\n",
    "from batchgenerators.utilities.data_splitting import get_split_deterministic\n",
    "from batchgenerators.dataloading import MultiThreadedAugmenter"
   ]
  },
  {
   "cell_type": "code",
   "execution_count": 2,
   "metadata": {},
   "outputs": [],
   "source": [
    "import torch\n",
    "import matplotlib.pyplot as plt\n",
    "import numpy as np\n",
    "import os"
   ]
  },
  {
   "cell_type": "code",
   "execution_count": 3,
   "metadata": {},
   "outputs": [],
   "source": [
    "patients = get_list_of_patients('brats_data_preprocessed/Brats19TrainingData')\n",
    "batch_size = 24 # 24\n",
    "patch_size = [24, 128, 128]\n",
    "in_channels = ['t1c', 't2', 'flair']"
   ]
  },
  {
   "cell_type": "code",
   "execution_count": 4,
   "metadata": {},
   "outputs": [],
   "source": [
    "# num_splits=5 means 1/5th is validation data!\n",
    "patients_train, patients_val = get_split_deterministic(patients, fold=0, num_splits=5, random_state=12345)"
   ]
  },
  {
   "cell_type": "code",
   "execution_count": 5,
   "metadata": {},
   "outputs": [],
   "source": [
    "patients_test = get_list_of_patients('brats_data_preprocessed/Brats18ValidationData')"
   ]
  },
  {
   "cell_type": "code",
   "execution_count": 6,
   "metadata": {},
   "outputs": [],
   "source": [
    "train_dl = BRATSDataLoader(\n",
    "    patients_train,\n",
    "    batch_size=batch_size,\n",
    "    patch_size=patch_size,\n",
    "    in_channels=in_channels\n",
    ")\n",
    "\n",
    "val_dl = BRATSDataLoader(\n",
    "    patients_val,\n",
    "    batch_size=batch_size,\n",
    "    patch_size=patch_size,\n",
    "    in_channels=in_channels\n",
    ")"
   ]
  },
  {
   "cell_type": "code",
   "execution_count": 7,
   "metadata": {},
   "outputs": [],
   "source": [
    "tr_transforms = get_train_transform(patch_size)"
   ]
  },
  {
   "cell_type": "code",
   "execution_count": 8,
   "metadata": {},
   "outputs": [],
   "source": [
    "# finally we can create multithreaded transforms that we can actually use for training\n",
    "# we don't pin memory here because this is pytorch specific.\n",
    "tr_gen = MultiThreadedAugmenter(train_dl, tr_transforms, num_processes=4, # tr_transforms\n",
    "                                num_cached_per_queue=3,\n",
    "                                seeds=None, pin_memory=False)\n",
    "# we need less processes for vlaidation because we dont apply transformations\n",
    "val_gen = MultiThreadedAugmenter(val_dl, None,\n",
    "                                 num_processes=max(1, 4 // 2),\n",
    "                                 num_cached_per_queue=1,\n",
    "                                 seeds=None,\n",
    "                                 pin_memory=False)"
   ]
  },
  {
   "cell_type": "code",
   "execution_count": 9,
   "metadata": {},
   "outputs": [],
   "source": [
    "tr_gen.restart()\n",
    "val_gen.restart()"
   ]
  },
  {
   "cell_type": "markdown",
   "metadata": {},
   "source": [
    "## Start Training"
   ]
  },
  {
   "cell_type": "code",
   "execution_count": 39,
   "metadata": {},
   "outputs": [],
   "source": [
    "A = torch.ones(2,2)"
   ]
  },
  {
   "cell_type": "code",
   "execution_count": 40,
   "metadata": {},
   "outputs": [],
   "source": [
    "A[1,1] = 2"
   ]
  },
  {
   "cell_type": "code",
   "execution_count": 42,
   "metadata": {},
   "outputs": [],
   "source": [
    "A[0,0] = 3"
   ]
  },
  {
   "cell_type": "code",
   "execution_count": 43,
   "metadata": {},
   "outputs": [
    {
     "data": {
      "text/plain": [
       "tensor([[3., 1.],\n",
       "        [1., 2.]])"
      ]
     },
     "execution_count": 43,
     "metadata": {},
     "output_type": "execute_result"
    }
   ],
   "source": [
    "A"
   ]
  },
  {
   "cell_type": "code",
   "execution_count": 44,
   "metadata": {},
   "outputs": [
    {
     "data": {
      "text/plain": [
       "tensor([[1, 1],\n",
       "        [1, 0]], dtype=torch.uint8)"
      ]
     },
     "execution_count": 44,
     "metadata": {},
     "output_type": "execute_result"
    }
   ],
   "source": [
    "(A == 1) | (A == 3)"
   ]
  },
  {
   "cell_type": "code",
   "execution_count": 10,
   "metadata": {},
   "outputs": [],
   "source": [
    "def dice(outputs, targets):\n",
    "\n",
    "    # try without sigmoid\n",
    "    # outputs = F.sigmoid(outputs)\n",
    "    outputs = (outputs>0).float()\n",
    "    smooth = 1e-15\n",
    "\n",
    "    targets = ((targets == 1) | (targets == 3)).float()\n",
    "    union_fg = (outputs+targets).sum() + smooth\n",
    "    intersection_fg = (outputs*targets).sum() + smooth\n",
    "\n",
    "    dice = 2 * intersection_fg / union_fg\n",
    "\n",
    "    return dice"
   ]
  },
  {
   "cell_type": "code",
   "execution_count": 11,
   "metadata": {},
   "outputs": [],
   "source": [
    "# Differentiable version of the dice metric\n",
    "class SimpleDiceLoss():\n",
    "    def __call__(self, outputs, targets):\n",
    "\n",
    "        # try without sigmoid\n",
    "        # outputs = F.sigmoid(outputs)\n",
    "        outputs = torch.sigmoid(outputs)\n",
    "        # outputs = (outputs>0).float()\n",
    "        smooth = 1e-15\n",
    "        \n",
    "        targets = ((targets == 1) | (targets == 3)).float()\n",
    "        union_fg = (outputs+targets).sum() + smooth\n",
    "        intersection_fg = (outputs*targets).sum() + smooth\n",
    "        \n",
    "        dice = 2 * intersection_fg / union_fg\n",
    "\n",
    "        return 1 - dice"
   ]
  },
  {
   "cell_type": "code",
   "execution_count": 12,
   "metadata": {},
   "outputs": [],
   "source": [
    "net_3d = AlbuNet3D34(pretrained=True, is_deconv=True)"
   ]
  },
  {
   "cell_type": "code",
   "execution_count": 13,
   "metadata": {},
   "outputs": [],
   "source": [
    "# before we went from 1e-2 to 1e-1\n",
    "# wang uses 1e-3, isensee uses 1e-4*5 and decays it 0.985 every epoch, original albunet goes from 1e-3 to 1e-4\n",
    "# wang uses 1e-7 weight decay, isensee 1e-5\n",
    "# optimizer = optim.Adam(net_3d.parameters(), lr=1e-2, weight_decay=1e-6)"
   ]
  },
  {
   "cell_type": "code",
   "execution_count": 13,
   "metadata": {},
   "outputs": [
    {
     "data": {
      "text/plain": [
       "0.0001"
      ]
     },
     "execution_count": 13,
     "metadata": {},
     "output_type": "execute_result"
    }
   ],
   "source": [
    "1e-4"
   ]
  },
  {
   "cell_type": "code",
   "execution_count": 13,
   "metadata": {},
   "outputs": [],
   "source": [
    "model_trainer = ModelTrainer('jonas_net_3d', net_3d, tr_gen, val_gen, SimpleDiceLoss(), dice,\n",
    "                             lr=1e-4, epochs=100,\n",
    "                             num_batches_per_epoch=100, num_validation_batches_per_epoch=100, use_gpu=True)"
   ]
  },
  {
   "cell_type": "code",
   "execution_count": 14,
   "metadata": {},
   "outputs": [
    {
     "name": "stdout",
     "output_type": "stream",
     "text": [
      "[Val] Avg. Loss: 0.96, Avg. Metric: 0.04\n",
      "\n",
      "# Epoch 1 #\n",
      "\n",
      "[Train] Avg. Loss: 0.95, Avg. Metric: 0.05\n",
      "[Val] Avg. Loss: 0.92, Avg. Metric: 0.07\n",
      "\n",
      "# Epoch 2 #\n",
      "\n",
      "[Train] Avg. Loss: 0.93, Avg. Metric: 0.08\n",
      "[Val] Avg. Loss: 0.92, Avg. Metric: 0.13\n",
      "\n",
      "# Epoch 3 #\n",
      "\n",
      "[Train] Avg. Loss: 0.93, Avg. Metric: 0.18\n",
      "[Val] Avg. Loss: 0.91, Avg. Metric: 0.27\n",
      "\n",
      "# Epoch 4 #\n",
      "\n",
      "[Train] Avg. Loss: 0.93, Avg. Metric: 0.26\n",
      "[Val] Avg. Loss: 0.91, Avg. Metric: 0.46\n",
      "\n",
      "# Epoch 5 #\n",
      "\n",
      "[Train] Avg. Loss: 0.93, Avg. Metric: 0.52\n",
      "[Val] Avg. Loss: 0.90, Avg. Metric: 0.64\n",
      "\n",
      "# Epoch 6 #\n",
      "\n",
      "[Train] Avg. Loss: 0.93, Avg. Metric: 0.61\n",
      "[Val] Avg. Loss: 0.90, Avg. Metric: 0.53\n",
      "\n",
      "# Epoch 7 #\n",
      "\n",
      "[Train] Avg. Loss: 0.92, Avg. Metric: 0.66\n",
      "[Val] Avg. Loss: 0.90, Avg. Metric: 0.69\n",
      "\n",
      "# Epoch 8 #\n",
      "\n",
      "[Train] Avg. Loss: 0.91, Avg. Metric: 0.65\n",
      "[Val] Avg. Loss: 0.90, Avg. Metric: 0.72\n",
      "\n",
      "# Epoch 9 #\n",
      "\n",
      "[Train] Avg. Loss: 0.91, Avg. Metric: 0.67\n",
      "[Val] Avg. Loss: 0.89, Avg. Metric: 0.72\n",
      "\n",
      "# Epoch 10 #\n",
      "\n",
      "[Train] Avg. Loss: 0.90, Avg. Metric: 0.69\n",
      "[Val] Avg. Loss: 0.88, Avg. Metric: 0.71\n",
      "\n",
      "# Epoch 11 #\n",
      "\n",
      "[Train] Avg. Loss: 0.91, Avg. Metric: 0.68\n",
      "[Val] Avg. Loss: 0.88, Avg. Metric: 0.71\n",
      "\n",
      "# Epoch 12 #\n",
      "\n",
      "[Train] Avg. Loss: 0.89, Avg. Metric: 0.71\n",
      "[Val] Avg. Loss: 0.87, Avg. Metric: 0.72\n",
      "\n",
      "# Epoch 13 #\n",
      "\n",
      "[Train] Avg. Loss: 0.89, Avg. Metric: 0.70\n",
      "[Val] Avg. Loss: 0.87, Avg. Metric: 0.70\n",
      "\n",
      "# Epoch 14 #\n",
      "\n",
      "[Train] Avg. Loss: 0.88, Avg. Metric: 0.73\n",
      "[Val] Avg. Loss: 0.86, Avg. Metric: 0.74\n",
      "\n",
      "# Epoch 15 #\n",
      "\n",
      "[Train] Avg. Loss: 0.87, Avg. Metric: 0.70\n",
      "[Val] Avg. Loss: 0.84, Avg. Metric: 0.73\n",
      "\n",
      "# Epoch 16 #\n",
      "\n",
      "[Train] Avg. Loss: 0.85, Avg. Metric: 0.74\n",
      "[Val] Avg. Loss: 0.83, Avg. Metric: 0.76\n",
      "\n",
      "# Epoch 17 #\n",
      "\n",
      "[Train] Avg. Loss: 0.85, Avg. Metric: 0.75\n",
      "[Val] Avg. Loss: 0.82, Avg. Metric: 0.75\n",
      "\n",
      "# Epoch 18 #\n",
      "\n",
      "[Train] Avg. Loss: 0.84, Avg. Metric: 0.74\n",
      "[Val] Avg. Loss: 0.82, Avg. Metric: 0.72\n",
      "\n",
      "# Epoch 19 #\n",
      "\n",
      "[Train] Avg. Loss: 0.82, Avg. Metric: 0.78\n",
      "[Val] Avg. Loss: 0.79, Avg. Metric: 0.78\n",
      "\n",
      "# Epoch 20 #\n",
      "\n",
      "[Train] Avg. Loss: 0.79, Avg. Metric: 0.79\n",
      "[Val] Avg. Loss: 0.77, Avg. Metric: 0.83\n",
      "\n",
      "# Epoch 21 #\n",
      "\n",
      "[Train] Avg. Loss: 0.78, Avg. Metric: 0.79\n",
      "[Val] Avg. Loss: 0.73, Avg. Metric: 0.76\n",
      "\n",
      "# Epoch 22 #\n",
      "\n",
      "[Train] Avg. Loss: 0.75, Avg. Metric: 0.81\n",
      "[Val] Avg. Loss: 0.70, Avg. Metric: 0.83\n",
      "\n",
      "# Epoch 23 #\n",
      "\n",
      "[Train] Avg. Loss: 0.71, Avg. Metric: 0.83\n",
      "[Val] Avg. Loss: 0.69, Avg. Metric: 0.81\n",
      "\n",
      "# Epoch 24 #\n",
      "\n",
      "[Train] Avg. Loss: 0.70, Avg. Metric: 0.82\n",
      "[Val] Avg. Loss: 0.65, Avg. Metric: 0.84\n",
      "\n",
      "# Epoch 25 #\n",
      "\n",
      "[Train] Avg. Loss: 0.66, Avg. Metric: 0.85\n",
      "[Val] Avg. Loss: 0.61, Avg. Metric: 0.82\n",
      "\n",
      "# Epoch 26 #\n",
      "\n",
      "[Train] Avg. Loss: 0.61, Avg. Metric: 0.85\n",
      "[Val] Avg. Loss: 0.57, Avg. Metric: 0.83\n",
      "\n",
      "# Epoch 27 #\n",
      "\n",
      "[Train] Avg. Loss: 0.57, Avg. Metric: 0.86\n",
      "[Val] Avg. Loss: 0.55, Avg. Metric: 0.82\n",
      "\n",
      "# Epoch 28 #\n",
      "\n",
      "[Train] Avg. Loss: 0.54, Avg. Metric: 0.88\n",
      "[Val] Avg. Loss: 0.52, Avg. Metric: 0.82\n",
      "\n",
      "# Epoch 29 #\n",
      "\n",
      "[Train] Avg. Loss: 0.52, Avg. Metric: 0.87\n",
      "[Val] Avg. Loss: 0.48, Avg. Metric: 0.84\n",
      "\n",
      "# Epoch 30 #\n",
      "\n",
      "[Train] Avg. Loss: 0.47, Avg. Metric: 0.88\n",
      "[Val] Avg. Loss: 0.45, Avg. Metric: 0.84\n",
      "\n",
      "# Epoch 31 #\n",
      "\n",
      "[Train] Avg. Loss: 0.44, Avg. Metric: 0.88\n",
      "[Val] Avg. Loss: 0.41, Avg. Metric: 0.86\n",
      "\n",
      "# Epoch 32 #\n",
      "\n",
      "[Train] Avg. Loss: 0.42, Avg. Metric: 0.88\n",
      "[Val] Avg. Loss: 0.39, Avg. Metric: 0.86\n",
      "\n",
      "# Epoch 33 #\n",
      "\n",
      "[Train] Avg. Loss: 0.39, Avg. Metric: 0.89\n",
      "[Val] Avg. Loss: 0.38, Avg. Metric: 0.83\n",
      "\n",
      "# Epoch 34 #\n",
      "\n",
      "[Train] Avg. Loss: 0.35, Avg. Metric: 0.89\n",
      "[Val] Avg. Loss: 0.33, Avg. Metric: 0.85\n",
      "\n",
      "# Epoch 35 #\n",
      "\n",
      "[Train] Avg. Loss: 0.31, Avg. Metric: 0.90\n",
      "[Val] Avg. Loss: 0.33, Avg. Metric: 0.84\n",
      "\n",
      "# Epoch 36 #\n",
      "\n",
      "[Train] Avg. Loss: 0.31, Avg. Metric: 0.90\n",
      "[Val] Avg. Loss: 0.30, Avg. Metric: 0.84\n",
      "\n",
      "# Epoch 37 #\n",
      "\n",
      "[Train] Avg. Loss: 0.27, Avg. Metric: 0.90\n",
      "[Val] Avg. Loss: 0.29, Avg. Metric: 0.84\n",
      "\n",
      "# Epoch 38 #\n",
      "\n",
      "[Train] Avg. Loss: 0.26, Avg. Metric: 0.90\n",
      "[Val] Avg. Loss: 0.28, Avg. Metric: 0.83\n",
      "\n",
      "# Epoch 39 #\n",
      "\n",
      "[Train] Avg. Loss: 0.23, Avg. Metric: 0.91\n",
      "[Val] Avg. Loss: 0.24, Avg. Metric: 0.85\n",
      "\n",
      "# Epoch 40 #\n",
      "\n",
      "[Train] Avg. Loss: 0.22, Avg. Metric: 0.91\n",
      "[Val] Avg. Loss: 0.25, Avg. Metric: 0.85\n",
      "\n",
      "# Epoch 41 #\n",
      "\n",
      "[Train] Avg. Loss: 0.20, Avg. Metric: 0.91\n",
      "[Val] Avg. Loss: 0.24, Avg. Metric: 0.85\n",
      "\n",
      "# Epoch 42 #\n",
      "\n",
      "[Train] Avg. Loss: 0.19, Avg. Metric: 0.91\n",
      "[Val] Avg. Loss: 0.21, Avg. Metric: 0.86\n",
      "\n",
      "# Epoch 43 #\n",
      "\n",
      "[Train] Avg. Loss: 0.19, Avg. Metric: 0.91\n",
      "[Val] Avg. Loss: 0.21, Avg. Metric: 0.86\n",
      "\n",
      "# Epoch 44 #\n",
      "\n",
      "[Train] Avg. Loss: 0.18, Avg. Metric: 0.91\n",
      "[Val] Avg. Loss: 0.21, Avg. Metric: 0.85\n",
      "\n",
      "# Epoch 45 #\n",
      "\n",
      "[Train] Avg. Loss: 0.17, Avg. Metric: 0.91\n",
      "[Val] Avg. Loss: 0.21, Avg. Metric: 0.85\n",
      "\n",
      "# Epoch 46 #\n",
      "\n",
      "[Train] Avg. Loss: 0.15, Avg. Metric: 0.92\n",
      "[Val] Avg. Loss: 0.18, Avg. Metric: 0.87\n",
      "\n",
      "# Epoch 47 #\n",
      "\n",
      "[Train] Avg. Loss: 0.15, Avg. Metric: 0.92\n",
      "[Val] Avg. Loss: 0.17, Avg. Metric: 0.87\n",
      "\n",
      "# Epoch 48 #\n",
      "\n",
      "[Train] Avg. Loss: 0.14, Avg. Metric: 0.92\n",
      "[Val] Avg. Loss: 0.18, Avg. Metric: 0.86\n",
      "\n",
      "# Epoch 49 #\n",
      "\n",
      "[Train] Avg. Loss: 0.14, Avg. Metric: 0.92\n",
      "[Val] Avg. Loss: 0.18, Avg. Metric: 0.86\n",
      "\n",
      "# Epoch 50 #\n",
      "\n",
      "[Train] Avg. Loss: 0.13, Avg. Metric: 0.92\n",
      "[Val] Avg. Loss: 0.20, Avg. Metric: 0.84\n",
      "\n",
      "# Epoch 51 #\n",
      "\n",
      "[Train] Avg. Loss: 0.13, Avg. Metric: 0.92\n",
      "[Val] Avg. Loss: 0.18, Avg. Metric: 0.86\n",
      "\n",
      "# Epoch 52 #\n",
      "\n",
      "[Train] Avg. Loss: 0.13, Avg. Metric: 0.92\n",
      "[Val] Avg. Loss: 0.18, Avg. Metric: 0.85\n",
      "\n",
      "# Epoch 53 #\n",
      "\n",
      "[Train] Avg. Loss: 0.12, Avg. Metric: 0.92\n",
      "[Val] Avg. Loss: 0.18, Avg. Metric: 0.86\n",
      "\n",
      "# Epoch 54 #\n",
      "\n",
      "[Train] Avg. Loss: 0.11, Avg. Metric: 0.92\n",
      "[Val] Avg. Loss: 0.17, Avg. Metric: 0.86\n",
      "\n",
      "# Epoch 55 #\n",
      "\n",
      "[Train] Avg. Loss: 0.11, Avg. Metric: 0.92\n",
      "[Val] Avg. Loss: 0.18, Avg. Metric: 0.84\n",
      "\n",
      "# Epoch 56 #\n",
      "\n",
      "[Train] Avg. Loss: 0.11, Avg. Metric: 0.93\n",
      "[Val] Avg. Loss: 0.17, Avg. Metric: 0.85\n",
      "\n",
      "# Epoch 57 #\n",
      "\n",
      "[Train] Avg. Loss: 0.11, Avg. Metric: 0.93\n",
      "[Val] Avg. Loss: 0.18, Avg. Metric: 0.85\n",
      "\n",
      "# Epoch 58 #\n",
      "\n",
      "[Train] Avg. Loss: 0.10, Avg. Metric: 0.92\n",
      "[Val] Avg. Loss: 0.17, Avg. Metric: 0.85\n",
      "\n",
      "# Epoch 59 #\n",
      "\n",
      "[Train] Avg. Loss: 0.11, Avg. Metric: 0.92\n",
      "[Val] Avg. Loss: 0.17, Avg. Metric: 0.85\n",
      "\n",
      "# Epoch 60 #\n",
      "\n",
      "[Train] Avg. Loss: 0.11, Avg. Metric: 0.92\n",
      "[Val] Avg. Loss: 0.17, Avg. Metric: 0.85\n",
      "\n",
      "# Epoch 61 #\n",
      "\n",
      "[Train] Avg. Loss: 0.09, Avg. Metric: 0.93\n",
      "[Val] Avg. Loss: 0.15, Avg. Metric: 0.87\n",
      "\n",
      "# Epoch 62 #\n",
      "\n",
      "[Train] Avg. Loss: 0.10, Avg. Metric: 0.92\n",
      "[Val] Avg. Loss: 0.17, Avg. Metric: 0.85\n",
      "\n",
      "# Epoch 63 #\n",
      "\n",
      "[Train] Avg. Loss: 0.10, Avg. Metric: 0.93\n",
      "[Val] Avg. Loss: 0.17, Avg. Metric: 0.84\n",
      "\n",
      "# Epoch 64 #\n",
      "\n",
      "[Train] Avg. Loss: 0.09, Avg. Metric: 0.93\n",
      "[Val] Avg. Loss: 0.17, Avg. Metric: 0.84\n",
      "\n",
      "# Epoch 65 #\n",
      "\n",
      "[Train] Avg. Loss: 0.09, Avg. Metric: 0.93\n",
      "[Val] Avg. Loss: 0.16, Avg. Metric: 0.85\n",
      "\n",
      "# Epoch 66 #\n",
      "\n",
      "[Train] Avg. Loss: 0.09, Avg. Metric: 0.92\n",
      "[Val] Avg. Loss: 0.15, Avg. Metric: 0.86\n",
      "\n",
      "# Epoch 67 #\n",
      "\n",
      "[Train] Avg. Loss: 0.09, Avg. Metric: 0.93\n",
      "[Val] Avg. Loss: 0.16, Avg. Metric: 0.85\n",
      "\n",
      "# Epoch 68 #\n",
      "\n",
      "[Train] Avg. Loss: 0.09, Avg. Metric: 0.93\n",
      "[Val] Avg. Loss: 0.16, Avg. Metric: 0.85\n",
      "\n",
      "# Epoch 69 #\n",
      "\n",
      "[Train] Avg. Loss: 0.09, Avg. Metric: 0.93\n",
      "[Val] Avg. Loss: 0.16, Avg. Metric: 0.85\n",
      "\n",
      "# Epoch 70 #\n",
      "\n",
      "[Train] Avg. Loss: 0.09, Avg. Metric: 0.93\n",
      "[Val] Avg. Loss: 0.16, Avg. Metric: 0.85\n",
      "\n",
      "# Epoch 71 #\n",
      "\n",
      "[Train] Avg. Loss: 0.09, Avg. Metric: 0.92\n",
      "[Val] Avg. Loss: 0.15, Avg. Metric: 0.86\n",
      "\n",
      "# Epoch 72 #\n",
      "\n",
      "[Train] Avg. Loss: 0.09, Avg. Metric: 0.93\n",
      "[Val] Avg. Loss: 0.16, Avg. Metric: 0.84\n",
      "\n",
      "# Epoch 73 #\n",
      "\n",
      "[Train] Avg. Loss: 0.08, Avg. Metric: 0.93\n",
      "[Val] Avg. Loss: 0.14, Avg. Metric: 0.87\n",
      "\n",
      "# Epoch 74 #\n",
      "\n",
      "[Train] Avg. Loss: 0.08, Avg. Metric: 0.93\n",
      "[Val] Avg. Loss: 0.14, Avg. Metric: 0.87\n",
      "\n",
      "# Epoch 75 #\n",
      "\n",
      "[Train] Avg. Loss: 0.08, Avg. Metric: 0.93\n",
      "[Val] Avg. Loss: 0.17, Avg. Metric: 0.84\n",
      "\n",
      "# Epoch 76 #\n",
      "\n",
      "[Train] Avg. Loss: 0.09, Avg. Metric: 0.92\n",
      "[Val] Avg. Loss: 0.16, Avg. Metric: 0.84\n",
      "\n",
      "# Epoch 77 #\n",
      "\n",
      "[Train] Avg. Loss: 0.08, Avg. Metric: 0.93\n",
      "[Val] Avg. Loss: 0.16, Avg. Metric: 0.85\n",
      "\n",
      "# Epoch 78 #\n",
      "\n",
      "[Train] Avg. Loss: 0.08, Avg. Metric: 0.93\n",
      "[Val] Avg. Loss: 0.15, Avg. Metric: 0.85\n",
      "\n",
      "# Epoch 79 #\n",
      "\n",
      "[Train] Avg. Loss: 0.08, Avg. Metric: 0.93\n",
      "[Val] Avg. Loss: 0.14, Avg. Metric: 0.86\n",
      "\n",
      "# Epoch 80 #\n",
      "\n",
      "[Train] Avg. Loss: 0.08, Avg. Metric: 0.93\n",
      "[Val] Avg. Loss: 0.17, Avg. Metric: 0.84\n",
      "\n",
      "# Epoch 81 #\n",
      "\n",
      "[Train] Avg. Loss: 0.08, Avg. Metric: 0.93\n",
      "[Val] Avg. Loss: 0.16, Avg. Metric: 0.84\n",
      "\n",
      "# Epoch 82 #\n",
      "\n",
      "[Train] Avg. Loss: 0.08, Avg. Metric: 0.93\n",
      "[Val] Avg. Loss: 0.14, Avg. Metric: 0.86\n",
      "\n",
      "# Epoch 83 #\n",
      "\n",
      "[Train] Avg. Loss: 0.08, Avg. Metric: 0.93\n",
      "[Val] Avg. Loss: 0.16, Avg. Metric: 0.84\n",
      "\n",
      "# Epoch 84 #\n",
      "\n",
      "[Train] Avg. Loss: 0.08, Avg. Metric: 0.93\n",
      "[Val] Avg. Loss: 0.15, Avg. Metric: 0.85\n",
      "\n",
      "# Epoch 85 #\n",
      "\n",
      "[Train] Avg. Loss: 0.08, Avg. Metric: 0.93\n",
      "[Val] Avg. Loss: 0.16, Avg. Metric: 0.84\n",
      "\n",
      "# Epoch 86 #\n",
      "\n",
      "[Train] Avg. Loss: 0.07, Avg. Metric: 0.94\n",
      "[Val] Avg. Loss: 0.15, Avg. Metric: 0.85\n",
      "\n",
      "# Epoch 87 #\n",
      "\n",
      "[Train] Avg. Loss: 0.07, Avg. Metric: 0.93\n",
      "[Val] Avg. Loss: 0.16, Avg. Metric: 0.85\n",
      "\n",
      "# Epoch 88 #\n",
      "\n",
      "[Train] Avg. Loss: 0.07, Avg. Metric: 0.93\n",
      "[Val] Avg. Loss: 0.17, Avg. Metric: 0.83\n",
      "\n",
      "# Epoch 89 #\n",
      "\n",
      "[Train] Avg. Loss: 0.07, Avg. Metric: 0.93\n",
      "[Val] Avg. Loss: 0.15, Avg. Metric: 0.86\n",
      "\n",
      "# Epoch 90 #\n",
      "\n",
      "[Train] Avg. Loss: 0.07, Avg. Metric: 0.93\n",
      "[Val] Avg. Loss: 0.16, Avg. Metric: 0.84\n",
      "\n",
      "# Epoch 91 #\n",
      "\n",
      "[Train] Avg. Loss: 0.07, Avg. Metric: 0.93\n",
      "[Val] Avg. Loss: 0.17, Avg. Metric: 0.83\n",
      "\n",
      "# Epoch 92 #\n",
      "\n",
      "[Train] Avg. Loss: 0.07, Avg. Metric: 0.93\n",
      "[Val] Avg. Loss: 0.15, Avg. Metric: 0.86\n",
      "\n",
      "# Epoch 93 #\n",
      "\n",
      "[Train] Avg. Loss: 0.07, Avg. Metric: 0.93\n",
      "[Val] Avg. Loss: 0.17, Avg. Metric: 0.83\n",
      "\n",
      "# Epoch 94 #\n",
      "\n",
      "[Train] Avg. Loss: 0.07, Avg. Metric: 0.93\n",
      "[Val] Avg. Loss: 0.15, Avg. Metric: 0.85\n",
      "\n",
      "# Epoch 95 #\n",
      "\n",
      "[Train] Avg. Loss: 0.07, Avg. Metric: 0.93\n",
      "[Val] Avg. Loss: 0.13, Avg. Metric: 0.87\n",
      "\n",
      "# Epoch 96 #\n",
      "\n",
      "[Train] Avg. Loss: 0.07, Avg. Metric: 0.93\n",
      "[Val] Avg. Loss: 0.14, Avg. Metric: 0.86\n",
      "\n",
      "# Epoch 97 #\n",
      "\n",
      "[Train] Avg. Loss: 0.07, Avg. Metric: 0.93\n",
      "[Val] Avg. Loss: 0.15, Avg. Metric: 0.85\n",
      "\n",
      "# Epoch 98 #\n",
      "\n",
      "[Train] Avg. Loss: 0.07, Avg. Metric: 0.93\n",
      "[Val] Avg. Loss: 0.15, Avg. Metric: 0.85\n",
      "\n",
      "# Epoch 99 #\n",
      "\n",
      "[Train] Avg. Loss: 0.07, Avg. Metric: 0.94\n",
      "[Val] Avg. Loss: 0.14, Avg. Metric: 0.86\n",
      "\n",
      "# Epoch 100 #\n",
      "\n",
      "[Train] Avg. Loss: 0.07, Avg. Metric: 0.93\n",
      "[Val] Avg. Loss: 0.15, Avg. Metric: 0.85\n",
      "\n",
      "Time elapsed: 55608.54 seconds\n"
     ]
    }
   ],
   "source": [
    "# with proposed augmentations\n",
    "# pretrained\n",
    "# lr=0.0001, epochs=50, num_batches_per_epoch=100, num_validation_batches_per_epoch=100\n",
    "# ~4.5 hrs\n",
    "# batch_size = 24, patch_size = [24, 128, 128]\n",
    "model_trainer.run()\n",
    "model_trainer.save_model('models/pr_augm_lr_0001_epochs_100_bs_24.pt')"
   ]
  },
  {
   "cell_type": "code",
   "execution_count": 13,
   "metadata": {},
   "outputs": [
    {
     "name": "stdout",
     "output_type": "stream",
     "text": [
      "[Val] Avg. Loss: 0.98, Avg. Metric: 0.00\n",
      "\n",
      "# Epoch 1 #\n",
      "\n",
      "[Train] Avg. Loss: 0.95, Avg. Metric: 0.27\n",
      "[Val] Avg. Loss: 0.94, Avg. Metric: 0.26\n",
      "\n",
      "# Epoch 2 #\n",
      "\n",
      "[Train] Avg. Loss: 0.93, Avg. Metric: 0.33\n",
      "[Val] Avg. Loss: 0.92, Avg. Metric: 0.45\n",
      "\n",
      "# Epoch 3 #\n",
      "\n",
      "[Train] Avg. Loss: 0.86, Avg. Metric: 0.43\n",
      "[Val] Avg. Loss: 0.79, Avg. Metric: 0.47\n",
      "\n",
      "# Epoch 4 #\n",
      "\n",
      "[Train] Avg. Loss: 0.69, Avg. Metric: 0.54\n",
      "[Val] Avg. Loss: 0.67, Avg. Metric: 0.50\n",
      "\n",
      "# Epoch 5 #\n",
      "\n",
      "[Train] Avg. Loss: 0.47, Avg. Metric: 0.64\n",
      "[Val] Avg. Loss: 0.41, Avg. Metric: 0.64\n",
      "\n",
      "# Epoch 6 #\n",
      "\n",
      "[Train] Avg. Loss: 0.37, Avg. Metric: 0.68\n",
      "[Val] Avg. Loss: 0.39, Avg. Metric: 0.64\n",
      "\n",
      "# Epoch 7 #\n",
      "\n",
      "[Train] Avg. Loss: 0.31, Avg. Metric: 0.72\n",
      "[Val] Avg. Loss: 0.40, Avg. Metric: 0.62\n",
      "\n",
      "# Epoch 8 #\n",
      "\n",
      "[Train] Avg. Loss: 0.29, Avg. Metric: 0.73\n",
      "[Val] Avg. Loss: 0.41, Avg. Metric: 0.61\n",
      "\n",
      "# Epoch 9 #\n",
      "\n",
      "[Train] Avg. Loss: 0.26, Avg. Metric: 0.75\n",
      "[Val] Avg. Loss: 0.35, Avg. Metric: 0.66\n",
      "\n",
      "# Epoch 10 #\n",
      "\n",
      "[Train] Avg. Loss: 0.24, Avg. Metric: 0.77\n",
      "[Val] Avg. Loss: 0.36, Avg. Metric: 0.64\n",
      "\n",
      "# Epoch 11 #\n",
      "\n",
      "[Train] Avg. Loss: 0.23, Avg. Metric: 0.78\n",
      "[Val] Avg. Loss: 0.33, Avg. Metric: 0.68\n",
      "\n",
      "# Epoch 12 #\n",
      "\n",
      "[Train] Avg. Loss: 0.22, Avg. Metric: 0.78\n",
      "[Val] Avg. Loss: 0.36, Avg. Metric: 0.64\n",
      "\n",
      "# Epoch 13 #\n",
      "\n",
      "[Train] Avg. Loss: 0.22, Avg. Metric: 0.78\n",
      "[Val] Avg. Loss: 0.36, Avg. Metric: 0.65\n",
      "\n",
      "# Epoch 14 #\n",
      "\n",
      "[Train] Avg. Loss: 0.26, Avg. Metric: 0.75\n",
      "[Val] Avg. Loss: 0.33, Avg. Metric: 0.68\n",
      "\n",
      "# Epoch 15 #\n",
      "\n",
      "[Train] Avg. Loss: 0.21, Avg. Metric: 0.79\n",
      "[Val] Avg. Loss: 0.37, Avg. Metric: 0.63\n",
      "\n",
      "# Epoch 16 #\n",
      "\n",
      "[Train] Avg. Loss: 0.19, Avg. Metric: 0.81\n",
      "[Val] Avg. Loss: 0.35, Avg. Metric: 0.65\n",
      "\n",
      "# Epoch 17 #\n",
      "\n",
      "[Train] Avg. Loss: 0.18, Avg. Metric: 0.82\n",
      "[Val] Avg. Loss: 0.34, Avg. Metric: 0.66\n",
      "\n",
      "# Epoch 18 #\n",
      "\n",
      "[Train] Avg. Loss: 0.18, Avg. Metric: 0.83\n",
      "[Val] Avg. Loss: 0.33, Avg. Metric: 0.67\n",
      "\n",
      "# Epoch 19 #\n",
      "\n",
      "[Train] Avg. Loss: 0.18, Avg. Metric: 0.82\n",
      "[Val] Avg. Loss: 0.33, Avg. Metric: 0.67\n",
      "\n",
      "# Epoch 20 #\n",
      "\n",
      "[Train] Avg. Loss: 0.19, Avg. Metric: 0.82\n",
      "[Val] Avg. Loss: 0.35, Avg. Metric: 0.65\n",
      "\n",
      "# Epoch 21 #\n",
      "\n",
      "[Train] Avg. Loss: 0.18, Avg. Metric: 0.82\n",
      "[Val] Avg. Loss: 0.34, Avg. Metric: 0.66\n",
      "\n",
      "# Epoch 22 #\n",
      "\n",
      "[Train] Avg. Loss: 0.23, Avg. Metric: 0.77\n",
      "[Val] Avg. Loss: 0.37, Avg. Metric: 0.63\n",
      "\n",
      "# Epoch 23 #\n",
      "\n",
      "[Train] Avg. Loss: 0.19, Avg. Metric: 0.81\n",
      "[Val] Avg. Loss: 0.36, Avg. Metric: 0.64\n",
      "\n",
      "# Epoch 24 #\n",
      "\n",
      "[Train] Avg. Loss: 0.19, Avg. Metric: 0.81\n",
      "[Val] Avg. Loss: 0.34, Avg. Metric: 0.66\n",
      "\n",
      "# Epoch 25 #\n",
      "\n",
      "[Train] Avg. Loss: 0.17, Avg. Metric: 0.83\n",
      "[Val] Avg. Loss: 0.39, Avg. Metric: 0.61\n",
      "\n",
      "# Epoch 26 #\n",
      "\n",
      "[Train] Avg. Loss: 0.16, Avg. Metric: 0.84\n",
      "[Val] Avg. Loss: 0.31, Avg. Metric: 0.69\n",
      "\n",
      "# Epoch 27 #\n",
      "\n",
      "[Train] Avg. Loss: 0.16, Avg. Metric: 0.84\n",
      "[Val] Avg. Loss: 0.35, Avg. Metric: 0.65\n",
      "\n",
      "# Epoch 28 #\n",
      "\n",
      "[Train] Avg. Loss: 0.16, Avg. Metric: 0.84\n",
      "[Val] Avg. Loss: 0.36, Avg. Metric: 0.64\n",
      "\n",
      "# Epoch 29 #\n",
      "\n",
      "[Train] Avg. Loss: 0.16, Avg. Metric: 0.84\n",
      "[Val] Avg. Loss: 0.40, Avg. Metric: 0.60\n",
      "\n",
      "# Epoch 30 #\n",
      "\n",
      "[Train] Avg. Loss: 0.15, Avg. Metric: 0.85\n",
      "[Val] Avg. Loss: 0.36, Avg. Metric: 0.65\n",
      "\n",
      "# Epoch 31 #\n",
      "\n",
      "[Train] Avg. Loss: 0.14, Avg. Metric: 0.86\n",
      "[Val] Avg. Loss: 0.34, Avg. Metric: 0.66\n",
      "\n",
      "# Epoch 32 #\n",
      "\n",
      "[Train] Avg. Loss: 0.15, Avg. Metric: 0.85\n",
      "[Val] Avg. Loss: 0.33, Avg. Metric: 0.67\n",
      "\n",
      "# Epoch 33 #\n",
      "\n",
      "[Train] Avg. Loss: 0.15, Avg. Metric: 0.85\n",
      "[Val] Avg. Loss: 0.36, Avg. Metric: 0.65\n",
      "\n",
      "# Epoch 34 #\n",
      "\n",
      "[Train] Avg. Loss: 0.15, Avg. Metric: 0.85\n",
      "[Val] Avg. Loss: 0.44, Avg. Metric: 0.56\n",
      "\n",
      "# Epoch 35 #\n",
      "\n",
      "[Train] Avg. Loss: 0.16, Avg. Metric: 0.84\n",
      "[Val] Avg. Loss: 0.36, Avg. Metric: 0.64\n",
      "\n",
      "# Epoch 36 #\n",
      "\n",
      "[Train] Avg. Loss: 0.15, Avg. Metric: 0.85\n",
      "[Val] Avg. Loss: 0.36, Avg. Metric: 0.64\n",
      "\n",
      "# Epoch 37 #\n",
      "\n",
      "[Train] Avg. Loss: 0.15, Avg. Metric: 0.85\n",
      "[Val] Avg. Loss: 0.34, Avg. Metric: 0.66\n",
      "\n",
      "# Epoch 38 #\n",
      "\n",
      "[Train] Avg. Loss: 0.14, Avg. Metric: 0.86\n",
      "[Val] Avg. Loss: 0.33, Avg. Metric: 0.67\n",
      "\n",
      "# Epoch 39 #\n",
      "\n",
      "[Train] Avg. Loss: 0.14, Avg. Metric: 0.86\n",
      "[Val] Avg. Loss: 0.39, Avg. Metric: 0.61\n",
      "\n",
      "# Epoch 40 #\n",
      "\n",
      "[Train] Avg. Loss: 0.14, Avg. Metric: 0.86\n",
      "[Val] Avg. Loss: 0.37, Avg. Metric: 0.63\n",
      "\n",
      "# Epoch 41 #\n",
      "\n",
      "[Train] Avg. Loss: 0.12, Avg. Metric: 0.88\n",
      "[Val] Avg. Loss: 0.36, Avg. Metric: 0.64\n",
      "\n",
      "# Epoch 42 #\n",
      "\n",
      "[Train] Avg. Loss: 0.14, Avg. Metric: 0.86\n",
      "[Val] Avg. Loss: 0.35, Avg. Metric: 0.65\n",
      "\n",
      "# Epoch 43 #\n",
      "\n",
      "[Train] Avg. Loss: 0.13, Avg. Metric: 0.87\n",
      "[Val] Avg. Loss: 0.36, Avg. Metric: 0.64\n",
      "\n",
      "# Epoch 44 #\n",
      "\n",
      "[Train] Avg. Loss: 0.14, Avg. Metric: 0.86\n",
      "[Val] Avg. Loss: 0.36, Avg. Metric: 0.64\n",
      "\n",
      "# Epoch 45 #\n",
      "\n",
      "[Train] Avg. Loss: 0.13, Avg. Metric: 0.87\n",
      "[Val] Avg. Loss: 0.33, Avg. Metric: 0.67\n",
      "\n",
      "# Epoch 46 #\n",
      "\n",
      "[Train] Avg. Loss: 0.14, Avg. Metric: 0.86\n",
      "[Val] Avg. Loss: 0.35, Avg. Metric: 0.65\n",
      "\n",
      "# Epoch 47 #\n",
      "\n",
      "[Train] Avg. Loss: 0.13, Avg. Metric: 0.87\n",
      "[Val] Avg. Loss: 0.36, Avg. Metric: 0.64\n",
      "\n",
      "# Epoch 48 #\n",
      "\n",
      "[Train] Avg. Loss: 0.12, Avg. Metric: 0.88\n",
      "[Val] Avg. Loss: 0.33, Avg. Metric: 0.67\n",
      "\n",
      "# Epoch 49 #\n",
      "\n",
      "[Train] Avg. Loss: 0.12, Avg. Metric: 0.88\n",
      "[Val] Avg. Loss: 0.37, Avg. Metric: 0.63\n",
      "\n",
      "# Epoch 50 #\n",
      "\n",
      "[Train] Avg. Loss: 0.12, Avg. Metric: 0.88\n",
      "[Val] Avg. Loss: 0.34, Avg. Metric: 0.66\n",
      "\n",
      "Time elapsed: 28035.22 seconds\n"
     ]
    },
    {
     "data": {
      "text/plain": [
       "28035.21858549118"
      ]
     },
     "execution_count": 13,
     "metadata": {},
     "output_type": "execute_result"
    }
   ],
   "source": [
    "# without proposed augmentations\n",
    "# pretrained\n",
    "# lr=0.001, epochs=50, num_batches_per_epoch=100, num_validation_batches_per_epoch=100\n",
    "# ~4.5 hrs\n",
    "# batch_size = 24, patch_size = [24, 128, 128]\n",
    "model_trainer.run()"
   ]
  },
  {
   "cell_type": "code",
   "execution_count": 21,
   "metadata": {},
   "outputs": [
    {
     "name": "stdout",
     "output_type": "stream",
     "text": [
      "[Val] Avg. Loss: 0.98, Avg. Metric: 0.02\n",
      "\n",
      "# Epoch 1 #\n",
      "\n",
      "[Train] Avg. Loss: 0.96, Avg. Metric: 0.23\n",
      "[Val] Avg. Loss: 0.94, Avg. Metric: 0.25\n",
      "\n",
      "# Epoch 2 #\n",
      "\n",
      "[Train] Avg. Loss: 0.92, Avg. Metric: 0.31\n",
      "[Train] Avg. Loss: 0.78, Avg. Metric: 0.45\n",
      "[Val] Avg. Loss: 0.74, Avg. Metric: 0.33\n",
      "\n",
      "# Epoch 4 #\n",
      "\n",
      "[Train] Avg. Loss: 0.54, Avg. Metric: 0.56\n",
      "[Val] Avg. Loss: 0.50, Avg. Metric: 0.55\n",
      "\n",
      "# Epoch 5 #\n",
      "\n",
      "[Train] Avg. Loss: 0.43, Avg. Metric: 0.60\n",
      "[Val] Avg. Loss: 0.47, Avg. Metric: 0.54\n",
      "\n",
      "# Epoch 6 #\n",
      "\n",
      "[Train] Avg. Loss: 0.36, Avg. Metric: 0.66\n",
      "[Val] Avg. Loss: 0.34, Avg. Metric: 0.68\n",
      "\n",
      "# Epoch 7 #\n",
      "\n",
      "[Train] Avg. Loss: 0.35, Avg. Metric: 0.66\n",
      "[Val] Avg. Loss: 0.39, Avg. Metric: 0.63\n",
      "\n",
      "# Epoch 8 #\n",
      "\n",
      "[Train] Avg. Loss: 0.34, Avg. Metric: 0.67\n",
      "[Val] Avg. Loss: 0.39, Avg. Metric: 0.62\n",
      "\n",
      "# Epoch 9 #\n",
      "\n",
      "[Train] Avg. Loss: 0.31, Avg. Metric: 0.69\n",
      "[Val] Avg. Loss: 0.35, Avg. Metric: 0.66\n",
      "\n",
      "# Epoch 10 #\n",
      "\n",
      "[Train] Avg. Loss: 0.33, Avg. Metric: 0.68\n",
      "[Val] Avg. Loss: 0.37, Avg. Metric: 0.64\n",
      "\n",
      "# Epoch 11 #\n",
      "\n",
      "[Train] Avg. Loss: 0.31, Avg. Metric: 0.69\n",
      "[Val] Avg. Loss: 0.31, Avg. Metric: 0.69\n",
      "\n",
      "# Epoch 12 #\n",
      "\n",
      "[Train] Avg. Loss: 0.31, Avg. Metric: 0.69\n",
      "[Val] Avg. Loss: 0.33, Avg. Metric: 0.67\n",
      "\n",
      "# Epoch 13 #\n",
      "\n",
      "[Train] Avg. Loss: 0.31, Avg. Metric: 0.70\n",
      "[Val] Avg. Loss: 0.37, Avg. Metric: 0.63\n",
      "\n",
      "# Epoch 14 #\n",
      "\n",
      "[Train] Avg. Loss: 0.32, Avg. Metric: 0.69\n",
      "[Val] Avg. Loss: 0.33, Avg. Metric: 0.67\n",
      "\n",
      "# Epoch 15 #\n",
      "\n",
      "[Train] Avg. Loss: 0.29, Avg. Metric: 0.71\n",
      "[Val] Avg. Loss: 0.31, Avg. Metric: 0.69\n",
      "\n",
      "# Epoch 16 #\n",
      "\n",
      "[Train] Avg. Loss: 0.30, Avg. Metric: 0.70\n",
      "[Val] Avg. Loss: 0.36, Avg. Metric: 0.65\n",
      "\n",
      "# Epoch 17 #\n",
      "\n",
      "[Train] Avg. Loss: 0.27, Avg. Metric: 0.73\n",
      "[Val] Avg. Loss: 0.31, Avg. Metric: 0.69\n",
      "\n",
      "# Epoch 18 #\n",
      "\n",
      "[Train] Avg. Loss: 0.30, Avg. Metric: 0.70\n",
      "[Val] Avg. Loss: 0.38, Avg. Metric: 0.62\n",
      "\n",
      "# Epoch 19 #\n",
      "\n",
      "[Train] Avg. Loss: 0.30, Avg. Metric: 0.70\n",
      "[Val] Avg. Loss: 0.32, Avg. Metric: 0.68\n",
      "\n",
      "# Epoch 20 #\n",
      "\n",
      "[Train] Avg. Loss: 0.28, Avg. Metric: 0.72\n",
      "[Val] Avg. Loss: 0.32, Avg. Metric: 0.68\n",
      "\n",
      "# Epoch 21 #\n",
      "\n",
      "[Train] Avg. Loss: 0.30, Avg. Metric: 0.70\n",
      "[Val] Avg. Loss: 0.29, Avg. Metric: 0.71\n",
      "\n",
      "# Epoch 22 #\n",
      "\n",
      "[Train] Avg. Loss: 0.27, Avg. Metric: 0.73\n",
      "[Val] Avg. Loss: 0.32, Avg. Metric: 0.68\n",
      "\n",
      "# Epoch 23 #\n",
      "\n",
      "[Train] Avg. Loss: 0.28, Avg. Metric: 0.72\n",
      "[Val] Avg. Loss: 0.32, Avg. Metric: 0.69\n",
      "\n",
      "# Epoch 24 #\n",
      "\n",
      "[Train] Avg. Loss: 0.26, Avg. Metric: 0.74\n",
      "[Val] Avg. Loss: 0.30, Avg. Metric: 0.70\n",
      "\n",
      "# Epoch 25 #\n",
      "\n",
      "[Train] Avg. Loss: 0.27, Avg. Metric: 0.73\n",
      "[Val] Avg. Loss: 0.31, Avg. Metric: 0.70\n",
      "\n",
      "# Epoch 26 #\n",
      "\n",
      "[Train] Avg. Loss: 0.28, Avg. Metric: 0.72\n",
      "[Val] Avg. Loss: 0.29, Avg. Metric: 0.71\n",
      "\n",
      "# Epoch 27 #\n",
      "\n",
      "[Train] Avg. Loss: 0.25, Avg. Metric: 0.75\n",
      "[Val] Avg. Loss: 0.33, Avg. Metric: 0.67\n",
      "\n",
      "# Epoch 28 #\n",
      "\n",
      "[Train] Avg. Loss: 0.27, Avg. Metric: 0.73\n",
      "[Val] Avg. Loss: 0.31, Avg. Metric: 0.70\n",
      "\n",
      "# Epoch 29 #\n",
      "\n",
      "[Train] Avg. Loss: 0.26, Avg. Metric: 0.74\n",
      "[Val] Avg. Loss: 0.30, Avg. Metric: 0.70\n",
      "\n",
      "# Epoch 30 #\n",
      "\n",
      "[Train] Avg. Loss: 0.26, Avg. Metric: 0.74\n",
      "[Val] Avg. Loss: 0.30, Avg. Metric: 0.70\n",
      "\n",
      "# Epoch 31 #\n",
      "\n",
      "[Train] Avg. Loss: 0.28, Avg. Metric: 0.72\n",
      "[Val] Avg. Loss: 0.32, Avg. Metric: 0.68\n",
      "\n",
      "# Epoch 32 #\n",
      "\n",
      "[Train] Avg. Loss: 0.26, Avg. Metric: 0.74\n",
      "[Val] Avg. Loss: 0.31, Avg. Metric: 0.69\n",
      "\n",
      "# Epoch 33 #\n",
      "\n",
      "[Train] Avg. Loss: 0.26, Avg. Metric: 0.74\n",
      "[Val] Avg. Loss: 0.30, Avg. Metric: 0.70\n",
      "\n",
      "# Epoch 34 #\n",
      "\n",
      "[Train] Avg. Loss: 0.25, Avg. Metric: 0.75\n",
      "[Val] Avg. Loss: 0.32, Avg. Metric: 0.68\n",
      "\n",
      "# Epoch 35 #\n",
      "\n",
      "[Train] Avg. Loss: 0.25, Avg. Metric: 0.75\n",
      "[Val] Avg. Loss: 0.30, Avg. Metric: 0.70\n",
      "\n",
      "# Epoch 36 #\n",
      "\n",
      "[Train] Avg. Loss: 0.25, Avg. Metric: 0.75\n",
      "[Val] Avg. Loss: 0.32, Avg. Metric: 0.68\n",
      "\n",
      "# Epoch 37 #\n",
      "\n",
      "[Train] Avg. Loss: 0.24, Avg. Metric: 0.76\n",
      "[Val] Avg. Loss: 0.27, Avg. Metric: 0.73\n",
      "\n",
      "# Epoch 38 #\n",
      "\n",
      "[Train] Avg. Loss: 0.25, Avg. Metric: 0.75\n",
      "[Val] Avg. Loss: 0.31, Avg. Metric: 0.69\n",
      "\n",
      "# Epoch 39 #\n",
      "\n",
      "[Train] Avg. Loss: 0.23, Avg. Metric: 0.77\n",
      "[Val] Avg. Loss: 0.32, Avg. Metric: 0.68\n",
      "\n",
      "# Epoch 40 #\n",
      "\n",
      "[Train] Avg. Loss: 0.26, Avg. Metric: 0.74\n",
      "[Val] Avg. Loss: 0.31, Avg. Metric: 0.69\n",
      "\n",
      "# Epoch 41 #\n",
      "\n",
      "[Train] Avg. Loss: 0.22, Avg. Metric: 0.78\n",
      "[Val] Avg. Loss: 0.29, Avg. Metric: 0.71\n",
      "\n",
      "# Epoch 42 #\n",
      "\n",
      "[Train] Avg. Loss: 0.25, Avg. Metric: 0.75\n",
      "[Val] Avg. Loss: 0.32, Avg. Metric: 0.68\n",
      "\n",
      "# Epoch 43 #\n",
      "\n",
      "[Train] Avg. Loss: 0.27, Avg. Metric: 0.73\n",
      "[Val] Avg. Loss: 0.34, Avg. Metric: 0.66\n",
      "\n",
      "# Epoch 44 #\n",
      "\n",
      "[Train] Avg. Loss: 0.24, Avg. Metric: 0.76\n",
      "[Val] Avg. Loss: 0.31, Avg. Metric: 0.69\n",
      "\n",
      "# Epoch 45 #\n",
      "\n",
      "[Train] Avg. Loss: 0.25, Avg. Metric: 0.75\n",
      "[Val] Avg. Loss: 0.33, Avg. Metric: 0.67\n",
      "\n",
      "# Epoch 46 #\n",
      "\n",
      "[Train] Avg. Loss: 0.24, Avg. Metric: 0.76\n",
      "[Val] Avg. Loss: 0.30, Avg. Metric: 0.70\n",
      "\n",
      "# Epoch 47 #\n",
      "\n",
      "[Train] Avg. Loss: 0.24, Avg. Metric: 0.76\n",
      "[Val] Avg. Loss: 0.32, Avg. Metric: 0.68\n",
      "\n",
      "# Epoch 48 #\n",
      "\n",
      "[Train] Avg. Loss: 0.22, Avg. Metric: 0.78\n",
      "[Val] Avg. Loss: 0.30, Avg. Metric: 0.71\n",
      "\n",
      "# Epoch 49 #\n",
      "\n",
      "[Train] Avg. Loss: 0.24, Avg. Metric: 0.76\n",
      "[Val] Avg. Loss: 0.30, Avg. Metric: 0.70\n",
      "\n",
      "# Epoch 50 #\n",
      "\n",
      "[Train] Avg. Loss: 0.26, Avg. Metric: 0.74\n",
      "[Val] Avg. Loss: 0.30, Avg. Metric: 0.70\n",
      "\n",
      "Time elapsed: 28482.90 seconds\n"
     ]
    }
   ],
   "source": [
    "# with proposed augmentations\n",
    "# pretrained\n",
    "# lr=0.001, epochs=50, num_batches_per_epoch=100, num_validation_batches_per_epoch=100\n",
    "# ~4.5 hrs\n",
    "# batch_size = 24, patch_size = [24, 128, 128]\n",
    "model_trainer.run()\n",
    "model_trainer.save_model('models/pr_augm_lr_001_epochs_50_bs_24.pt')"
   ]
  },
  {
   "cell_type": "code",
   "execution_count": 16,
   "metadata": {},
   "outputs": [],
   "source": []
  },
  {
   "cell_type": "code",
   "execution_count": 15,
   "metadata": {},
   "outputs": [],
   "source": [
    "model_trainer.load_model('models/pr_augm_lr_0001_epochs_100_bs_24.pt')"
   ]
  },
  {
   "cell_type": "code",
   "execution_count": 16,
   "metadata": {},
   "outputs": [],
   "source": [
    "try:\n",
    "    import SimpleITK as sitk\n",
    "except ImportError:\n",
    "    print(\"You need to have SimpleITK installed to run this example!\")\n",
    "    raise ImportError(\"SimpleITK not found\")\n",
    "\n",
    "def save_segmentation_as_nifti(segmentation, metadata, output_file):\n",
    "    original_shape = metadata['original_shape']\n",
    "    seg_original_shape = np.zeros(original_shape, dtype=np.uint8)\n",
    "    nonzero = metadata['nonzero_region']\n",
    "    seg_original_shape[nonzero[0, 0] : nonzero[0, 1] + 1,\n",
    "               nonzero[1, 0]: nonzero[1, 1] + 1,\n",
    "               nonzero[2, 0]: nonzero[2, 1] + 1] = segmentation\n",
    "    sitk_image = sitk.GetImageFromArray(seg_original_shape)\n",
    "    sitk_image.SetDirection(metadata['direction'])\n",
    "    sitk_image.SetOrigin(metadata['origin'])\n",
    "    # remember to revert spacing back to sitk order again\n",
    "    sitk_image.SetSpacing(tuple(metadata['spacing'][[2, 1, 0]]))\n",
    "    print(output_file)\n",
    "    sitk.WriteImage(sitk_image, output_file)"
   ]
  },
  {
   "cell_type": "code",
   "execution_count": 17,
   "metadata": {},
   "outputs": [],
   "source": [
    "def np_dice(outputs, targets):\n",
    "\n",
    "    # try without sigmoid\n",
    "    # outputs = F.sigmoid(outputs)\n",
    "    outputs = np.float32(outputs>0)\n",
    "    smooth = 1e-15\n",
    "\n",
    "    targets = np.float32((targets == 1) | (targets == 3))\n",
    "    union_fg = np.sum(outputs+targets) + smooth\n",
    "    intersection_fg = np.sum(outputs*targets) + smooth\n",
    "\n",
    "    dice = 2 * intersection_fg / union_fg\n",
    "\n",
    "    return dice"
   ]
  },
  {
   "cell_type": "code",
   "execution_count": 18,
   "metadata": {},
   "outputs": [
    {
     "ename": "NameError",
     "evalue": "name 'patient_data' is not defined",
     "output_type": "error",
     "traceback": [
      "\u001b[0;31m---------------------------------------------------------------------------\u001b[0m",
      "\u001b[0;31mNameError\u001b[0m                                 Traceback (most recent call last)",
      "\u001b[0;32m<ipython-input-18-810ac0505600>\u001b[0m in \u001b[0;36m<module>\u001b[0;34m\u001b[0m\n\u001b[1;32m      1\u001b[0m \u001b[0;31m# label 4 was moved to 3\u001b[0m\u001b[0;34m\u001b[0m\u001b[0;34m\u001b[0m\u001b[0m\n\u001b[0;32m----> 2\u001b[0;31m \u001b[0mnp\u001b[0m\u001b[0;34m.\u001b[0m\u001b[0munique\u001b[0m\u001b[0;34m(\u001b[0m\u001b[0mpatient_data\u001b[0m\u001b[0;34m[\u001b[0m\u001b[0;34m:\u001b[0m\u001b[0;34m,\u001b[0m\u001b[0;36m3\u001b[0m\u001b[0;34m]\u001b[0m\u001b[0;34m)\u001b[0m\u001b[0;34m\u001b[0m\u001b[0m\n\u001b[0m",
      "\u001b[0;31mNameError\u001b[0m: name 'patient_data' is not defined"
     ]
    }
   ],
   "source": [
    "# label 4 was moved to 3\n",
    "np.unique(patient_data[:,3])"
   ]
  },
  {
   "cell_type": "code",
   "execution_count": 25,
   "metadata": {},
   "outputs": [],
   "source": [
    "import skimage"
   ]
  },
  {
   "cell_type": "code",
   "execution_count": 64,
   "metadata": {},
   "outputs": [],
   "source": [
    "B = skimage.util.view_as_windows(A, window_shape=[1,2,2], step=(1,1,1))"
   ]
  },
  {
   "cell_type": "code",
   "execution_count": 65,
   "metadata": {},
   "outputs": [
    {
     "data": {
      "text/plain": [
       "(3, 2, 2, 1, 2, 2)"
      ]
     },
     "execution_count": 65,
     "metadata": {},
     "output_type": "execute_result"
    }
   ],
   "source": [
    "B.shape"
   ]
  },
  {
   "cell_type": "code",
   "execution_count": 33,
   "metadata": {},
   "outputs": [],
   "source": [
    "A = np.zeros((3,3,3))"
   ]
  },
  {
   "cell_type": "code",
   "execution_count": 34,
   "metadata": {},
   "outputs": [],
   "source": [
    "A[0] = np.arange(0,9).reshape(3,3)\n",
    "A[1] = np.arange(9,18).reshape(3,3)\n",
    "A[2] = np.arange(18,27).reshape(3,3)"
   ]
  },
  {
   "cell_type": "code",
   "execution_count": 35,
   "metadata": {},
   "outputs": [
    {
     "data": {
      "text/plain": [
       "array([[[ 0.,  1.,  2.],\n",
       "        [ 3.,  4.,  5.],\n",
       "        [ 6.,  7.,  8.]],\n",
       "\n",
       "       [[ 9., 10., 11.],\n",
       "        [12., 13., 14.],\n",
       "        [15., 16., 17.]],\n",
       "\n",
       "       [[18., 19., 20.],\n",
       "        [21., 22., 23.],\n",
       "        [24., 25., 26.]]])"
      ]
     },
     "execution_count": 35,
     "metadata": {},
     "output_type": "execute_result"
    }
   ],
   "source": [
    "A"
   ]
  },
  {
   "cell_type": "code",
   "execution_count": 48,
   "metadata": {},
   "outputs": [],
   "source": [
    "B = skimage.util.view_as_windows(A, (2,2,2), step=(1,1,1))"
   ]
  },
  {
   "cell_type": "code",
   "execution_count": 53,
   "metadata": {},
   "outputs": [],
   "source": [
    "from numpy.lib.stride_tricks import as_strided\n",
    "def running_average_strides(seq, window=100):\n",
    "    stride = seq.strides[0]\n",
    "    sequence_strides = as_strided(seq, shape=[len(seq) - window + 1, window], strides=[stride, stride])\n",
    "    return sequence_strides\n",
    "    # return sequence_strides.mean(axis=1)"
   ]
  },
  {
   "cell_type": "code",
   "execution_count": 54,
   "metadata": {},
   "outputs": [
    {
     "data": {
      "text/plain": [
       "array([[0, 1, 2],\n",
       "       [1, 2, 3],\n",
       "       [2, 3, 4],\n",
       "       [3, 4, 5],\n",
       "       [4, 5, 6],\n",
       "       [5, 6, 7],\n",
       "       [6, 7, 8]])"
      ]
     },
     "execution_count": 54,
     "metadata": {},
     "output_type": "execute_result"
    }
   ],
   "source": [
    "running_average_strides(np.arange(9), window=3)"
   ]
  },
  {
   "cell_type": "code",
   "execution_count": 60,
   "metadata": {},
   "outputs": [],
   "source": [
    "import numpy as np\n",
    "from numpy.lib.stride_tricks import as_strided\n",
    "\n",
    "\n",
    "input = np.zeros((3,3,3))\n",
    "input[0] = np.arange(0,9).reshape(3,3)\n",
    "input[1] = np.arange(9,18).reshape(3,3)\n",
    "input[2] = np.arange(18,27).reshape(3,3)\n",
    "\n",
    "kernel = np.arange(9).reshape(1, 3, 3)\n",
    "\n",
    "expanded_input = as_strided(\n",
    "    input,\n",
    "    shape=(\n",
    "        input.shape[0] - kernel.shape[0] + 1,  # The feature map is a few pixels smaller than the input\n",
    "        input.shape[1] - kernel.shape[1] + 1,\n",
    "        input.shape[2] - kernel.shape[2] + 1,\n",
    "        kernel.shape[0],\n",
    "        kernel.shape[1],\n",
    "        kernel.shape[2]\n",
    "    ),\n",
    "    strides=(\n",
    "        input.strides[0],\n",
    "        input.strides[1],\n",
    "        input.strides[2],\n",
    "        input.strides[0],  # When we move one step in the 3rd dimension, we should move one step in the original data too\n",
    "        input.strides[1],\n",
    "        input.strides[2]\n",
    "    ),\n",
    "    writeable=False,  # totally use this to avoid writing to memory in weird places\n",
    ")"
   ]
  },
  {
   "cell_type": "code",
   "execution_count": 61,
   "metadata": {},
   "outputs": [
    {
     "data": {
      "text/plain": [
       "(3, 1, 1, 1, 3, 3)"
      ]
     },
     "execution_count": 61,
     "metadata": {},
     "output_type": "execute_result"
    }
   ],
   "source": [
    "expanded_input.shape"
   ]
  },
  {
   "cell_type": "code",
   "execution_count": 67,
   "metadata": {},
   "outputs": [
    {
     "data": {
      "text/plain": [
       "(3, 3, 3)"
      ]
     },
     "execution_count": 67,
     "metadata": {},
     "output_type": "execute_result"
    }
   ],
   "source": [
    "A.shape"
   ]
  },
  {
   "cell_type": "code",
   "execution_count": 71,
   "metadata": {},
   "outputs": [],
   "source": [
    "A = np.arange(9).reshape(3,3)"
   ]
  },
  {
   "cell_type": "code",
   "execution_count": 74,
   "metadata": {},
   "outputs": [],
   "source": [
    "# no full coverage!\n",
    "B = skimage.util.view_as_windows(A, window_shape=[2,2], step=(2,2))"
   ]
  },
  {
   "cell_type": "code",
   "execution_count": 75,
   "metadata": {},
   "outputs": [
    {
     "data": {
      "text/plain": [
       "(1, 1, 2, 2)"
      ]
     },
     "execution_count": 75,
     "metadata": {},
     "output_type": "execute_result"
    }
   ],
   "source": [
    "B.shape"
   ]
  },
  {
   "cell_type": "code",
   "execution_count": 76,
   "metadata": {},
   "outputs": [],
   "source": [
    "A = np.zeros((1, 3, 144, 192, 192)) # 24*6, 128+2*32, 128+2*32"
   ]
  },
  {
   "cell_type": "code",
   "execution_count": 77,
   "metadata": {},
   "outputs": [],
   "source": [
    "B = skimage.util.view_as_windows(A, window_shape=[1, 3, 24, 128, 128], step=(1,1,24,32,32))"
   ]
  },
  {
   "cell_type": "code",
   "execution_count": 78,
   "metadata": {},
   "outputs": [
    {
     "data": {
      "text/plain": [
       "(1, 1, 6, 3, 3, 1, 3, 24, 128, 128)"
      ]
     },
     "execution_count": 78,
     "metadata": {},
     "output_type": "execute_result"
    }
   ],
   "source": [
    "B.shape"
   ]
  },
  {
   "cell_type": "code",
   "execution_count": 23,
   "metadata": {},
   "outputs": [
    {
     "name": "stdout",
     "output_type": "stream",
     "text": [
      "(1, 4, 138, 169, 141)\n",
      "(1, 4, 138, 192, 192)\n",
      "0 0.828906825014658\n",
      "segmentation_output/Brats19TrainingData/BraTS19_2013_19_1.nii.gz\n",
      "(1, 4, 132, 175, 146)\n",
      "(1, 4, 132, 192, 192)\n",
      "1 0.6788713007570544\n",
      "segmentation_output/Brats19TrainingData/BraTS19_2013_1_1.nii.gz\n",
      "(1, 4, 130, 165, 141)\n",
      "(1, 4, 130, 192, 192)\n",
      "2 0.9208702698126671\n",
      "segmentation_output/Brats19TrainingData/BraTS19_2013_24_1.nii.gz\n",
      "(1, 4, 128, 180, 141)\n",
      "(1, 4, 128, 192, 192)\n",
      "3 0.9461683354813126\n",
      "segmentation_output/Brats19TrainingData/BraTS19_2013_26_1.nii.gz\n",
      "(1, 4, 142, 166, 149)\n",
      "(1, 4, 142, 192, 192)\n",
      "4 0.9268190867638559\n",
      "segmentation_output/Brats19TrainingData/BraTS19_2013_27_1.nii.gz\n",
      "(1, 4, 133, 161, 149)\n",
      "(1, 4, 133, 192, 192)\n",
      "5 0.14133741155908106\n",
      "segmentation_output/Brats19TrainingData/BraTS19_2013_28_1.nii.gz\n",
      "(1, 4, 129, 179, 142)\n",
      "(1, 4, 129, 192, 192)\n",
      "6 0.9254603125483521\n",
      "segmentation_output/Brats19TrainingData/BraTS19_2013_2_1.nii.gz\n",
      "(1, 4, 132, 159, 137)\n",
      "(1, 4, 132, 192, 192)\n",
      "7 0.9537078651685393\n",
      "segmentation_output/Brats19TrainingData/BraTS19_2013_7_1.nii.gz\n",
      "(1, 4, 140, 187, 134)\n",
      "(1, 4, 140, 192, 192)\n",
      "8 0.9566869300911854\n",
      "segmentation_output/Brats19TrainingData/BraTS19_CBICA_AAG_1.nii.gz\n",
      "(1, 4, 140, 182, 135)\n",
      "(1, 4, 140, 192, 192)\n",
      "9 0.9259730846833435\n",
      "segmentation_output/Brats19TrainingData/BraTS19_CBICA_AAP_1.nii.gz\n",
      "(1, 4, 141, 177, 133)\n",
      "(1, 4, 141, 192, 192)\n",
      "10 0.9310752084026097\n",
      "segmentation_output/Brats19TrainingData/BraTS19_CBICA_ABE_1.nii.gz\n",
      "(1, 4, 142, 160, 152)\n",
      "(1, 4, 142, 192, 192)\n",
      "11 0.9085238072030801\n",
      "segmentation_output/Brats19TrainingData/BraTS19_CBICA_ALN_1.nii.gz\n",
      "(1, 4, 143, 178, 138)\n",
      "(1, 4, 143, 192, 192)\n",
      "12 0.9196980096087852\n",
      "segmentation_output/Brats19TrainingData/BraTS19_CBICA_ALU_1.nii.gz\n",
      "(1, 4, 140, 171, 129)\n",
      "(1, 4, 140, 192, 192)\n",
      "13 0.9667999059487421\n",
      "segmentation_output/Brats19TrainingData/BraTS19_CBICA_AOC_1.nii.gz\n",
      "(1, 4, 136, 157, 133)\n",
      "(1, 4, 136, 192, 192)\n",
      "14 0.8558929040160994\n",
      "segmentation_output/Brats19TrainingData/BraTS19_CBICA_AOH_1.nii.gz\n",
      "(1, 4, 147, 168, 127)\n",
      "(1, 4, 147, 192, 192)\n",
      "15 0.9441672606319791\n",
      "segmentation_output/Brats19TrainingData/BraTS19_CBICA_AOP_1.nii.gz\n",
      "(1, 4, 134, 169, 163)\n",
      "(1, 4, 134, 192, 192)\n",
      "16 0.9593518311458208\n",
      "segmentation_output/Brats19TrainingData/BraTS19_CBICA_AOS_1.nii.gz\n",
      "(1, 4, 130, 167, 148)\n",
      "(1, 4, 130, 192, 192)\n",
      "17 0.8472111357746602\n",
      "segmentation_output/Brats19TrainingData/BraTS19_CBICA_AQQ_1.nii.gz\n",
      "(1, 4, 140, 187, 137)\n",
      "(1, 4, 140, 192, 192)\n",
      "18 0.9508826605759173\n",
      "segmentation_output/Brats19TrainingData/BraTS19_CBICA_AQY_1.nii.gz\n",
      "(1, 4, 142, 165, 142)\n",
      "(1, 4, 142, 192, 192)\n",
      "19 0.9562136042621732\n",
      "segmentation_output/Brats19TrainingData/BraTS19_CBICA_ARF_1.nii.gz\n",
      "(1, 4, 137, 167, 124)\n",
      "(1, 4, 137, 192, 192)\n",
      "20 0.9076244946524425\n",
      "segmentation_output/Brats19TrainingData/BraTS19_CBICA_AUR_1.nii.gz\n",
      "(1, 4, 141, 169, 135)\n",
      "(1, 4, 141, 192, 192)\n",
      "21 0.9454570129605754\n",
      "segmentation_output/Brats19TrainingData/BraTS19_CBICA_AUX_1.nii.gz\n",
      "(1, 4, 142, 185, 132)\n",
      "(1, 4, 142, 192, 192)\n",
      "22 0.8864596201913408\n",
      "segmentation_output/Brats19TrainingData/BraTS19_CBICA_AWI_1.nii.gz\n",
      "(1, 4, 140, 169, 142)\n",
      "(1, 4, 140, 192, 192)\n",
      "23 0.9384625915531521\n",
      "segmentation_output/Brats19TrainingData/BraTS19_CBICA_AWV_1.nii.gz\n",
      "(1, 4, 139, 175, 132)\n",
      "(1, 4, 139, 192, 192)\n",
      "24 0.288028018622133\n",
      "segmentation_output/Brats19TrainingData/BraTS19_CBICA_AXJ_1.nii.gz\n",
      "(1, 4, 140, 170, 136)\n",
      "(1, 4, 140, 192, 192)\n",
      "25 0.9131129615611069\n",
      "segmentation_output/Brats19TrainingData/BraTS19_CBICA_AZD_1.nii.gz\n",
      "(1, 4, 142, 164, 139)\n",
      "(1, 4, 142, 192, 192)\n",
      "26 0.964962802975762\n",
      "segmentation_output/Brats19TrainingData/BraTS19_CBICA_BAX_1.nii.gz\n",
      "(1, 4, 138, 155, 139)\n",
      "(1, 4, 138, 192, 192)\n",
      "27 0.6127557160048135\n",
      "segmentation_output/Brats19TrainingData/BraTS19_CBICA_BCF_1.nii.gz\n",
      "(1, 4, 137, 171, 138)\n",
      "(1, 4, 137, 192, 192)\n",
      "28 0.9481186593039681\n",
      "segmentation_output/Brats19TrainingData/BraTS19_CBICA_BGT_1.nii.gz\n",
      "(1, 4, 142, 163, 142)\n",
      "(1, 4, 142, 192, 192)\n",
      "29 0.6554515443404332\n",
      "segmentation_output/Brats19TrainingData/BraTS19_CBICA_BNR_1.nii.gz\n",
      "(1, 4, 136, 165, 140)\n",
      "(1, 4, 136, 192, 192)\n",
      "30 0.9255461204381927\n",
      "segmentation_output/Brats19TrainingData/BraTS19_TCIA01_150_1.nii.gz\n",
      "(1, 4, 139, 152, 138)\n",
      "(1, 4, 139, 192, 192)\n",
      "31 0.8679159524180562\n",
      "segmentation_output/Brats19TrainingData/BraTS19_TCIA01_180_1.nii.gz\n",
      "(1, 4, 133, 171, 144)\n",
      "(1, 4, 133, 192, 192)\n",
      "32 0.9398384323019784\n",
      "segmentation_output/Brats19TrainingData/BraTS19_TCIA01_201_1.nii.gz\n",
      "(1, 4, 140, 167, 139)\n",
      "(1, 4, 140, 192, 192)\n",
      "33 0.9598017883518892\n",
      "segmentation_output/Brats19TrainingData/BraTS19_TCIA01_401_1.nii.gz\n",
      "(1, 4, 132, 153, 148)\n",
      "(1, 4, 132, 192, 192)\n",
      "34 0.9614367697050187\n",
      "segmentation_output/Brats19TrainingData/BraTS19_TCIA01_429_1.nii.gz\n",
      "(1, 4, 144, 163, 133)\n",
      "(1, 4, 144, 192, 192)\n",
      "35 0.8713478289779906\n",
      "segmentation_output/Brats19TrainingData/BraTS19_TCIA01_460_1.nii.gz\n",
      "(1, 4, 134, 161, 135)\n",
      "(1, 4, 134, 192, 192)\n",
      "36 0.9327908807268106\n",
      "segmentation_output/Brats19TrainingData/BraTS19_TCIA02_118_1.nii.gz\n",
      "(1, 4, 139, 170, 136)\n",
      "(1, 4, 139, 192, 192)\n",
      "37 0.9067034292607272\n",
      "segmentation_output/Brats19TrainingData/BraTS19_TCIA02_179_1.nii.gz\n",
      "(1, 4, 138, 173, 143)\n",
      "(1, 4, 138, 192, 192)\n",
      "38 0.8909905234223324\n",
      "segmentation_output/Brats19TrainingData/BraTS19_TCIA02_309_1.nii.gz\n",
      "(1, 4, 131, 157, 142)\n",
      "(1, 4, 131, 192, 192)\n",
      "39 0.9594721143174251\n",
      "segmentation_output/Brats19TrainingData/BraTS19_TCIA02_377_1.nii.gz\n",
      "(1, 4, 138, 170, 144)\n",
      "(1, 4, 138, 192, 192)\n",
      "40 0.9241336754246371\n",
      "segmentation_output/Brats19TrainingData/BraTS19_TCIA02_394_1.nii.gz\n",
      "(1, 4, 139, 176, 138)\n",
      "(1, 4, 139, 192, 192)\n",
      "41 0.9586198229897851\n",
      "segmentation_output/Brats19TrainingData/BraTS19_TCIA02_455_1.nii.gz\n",
      "(1, 4, 136, 177, 133)\n",
      "(1, 4, 136, 192, 192)\n",
      "42 0.9510491027838653\n",
      "segmentation_output/Brats19TrainingData/BraTS19_TCIA02_607_1.nii.gz\n",
      "(1, 4, 139, 165, 147)\n",
      "(1, 4, 139, 192, 192)\n",
      "43 0.847660104918714\n",
      "segmentation_output/Brats19TrainingData/BraTS19_TCIA03_133_1.nii.gz\n",
      "(1, 4, 137, 171, 139)\n",
      "(1, 4, 137, 192, 192)\n",
      "44 0.8113262249138292\n",
      "segmentation_output/Brats19TrainingData/BraTS19_TCIA04_328_1.nii.gz\n",
      "(1, 4, 136, 167, 137)\n",
      "(1, 4, 136, 192, 192)\n",
      "45 0.9631070134448844\n",
      "segmentation_output/Brats19TrainingData/BraTS19_TCIA04_479_1.nii.gz\n",
      "(1, 4, 130, 169, 152)\n",
      "(1, 4, 130, 192, 192)\n",
      "46 0.9600020800651754\n",
      "segmentation_output/Brats19TrainingData/BraTS19_TCIA05_478_1.nii.gz\n",
      "(1, 4, 143, 175, 134)\n",
      "(1, 4, 143, 192, 192)\n",
      "47 0.7226323766684594\n",
      "segmentation_output/Brats19TrainingData/BraTS19_TCIA06_165_1.nii.gz\n",
      "(1, 4, 132, 168, 142)\n",
      "(1, 4, 132, 192, 192)\n",
      "48 0.9123203831825439\n",
      "segmentation_output/Brats19TrainingData/BraTS19_TCIA06_247_1.nii.gz\n",
      "(1, 4, 135, 164, 144)\n",
      "(1, 4, 135, 192, 192)\n",
      "49 0.951122901539289\n",
      "segmentation_output/Brats19TrainingData/BraTS19_TCIA08_167_1.nii.gz\n",
      "(1, 4, 145, 181, 138)\n",
      "(1, 4, 145, 192, 192)\n",
      "50 0.8965666042025435\n",
      "segmentation_output/Brats19TrainingData/BraTS19_TCIA09_402_1.nii.gz\n",
      "(1, 4, 140, 166, 134)\n",
      "(1, 4, 140, 192, 192)\n",
      "51 0.24789756013151065\n",
      "segmentation_output/Brats19TrainingData/BraTS19_TCIA09_462_1.nii.gz\n",
      "(1, 4, 137, 163, 145)\n",
      "(1, 4, 137, 192, 192)\n",
      "52 0.2799412196914034\n",
      "segmentation_output/Brats19TrainingData/BraTS19_TCIA10_103_1.nii.gz\n",
      "(1, 4, 136, 163, 135)\n",
      "(1, 4, 136, 192, 192)\n",
      "53 0.5792834338417878\n",
      "segmentation_output/Brats19TrainingData/BraTS19_TCIA10_130_1.nii.gz\n",
      "(1, 4, 138, 161, 133)\n",
      "(1, 4, 138, 192, 192)\n",
      "54 0.790988917571196\n",
      "segmentation_output/Brats19TrainingData/BraTS19_TCIA10_175_1.nii.gz\n",
      "(1, 4, 134, 170, 133)\n",
      "(1, 4, 134, 192, 192)\n",
      "55 0.8850362799322918\n",
      "segmentation_output/Brats19TrainingData/BraTS19_TCIA10_202_1.nii.gz\n",
      "(1, 4, 130, 165, 140)\n",
      "(1, 4, 130, 192, 192)\n",
      "56 0.579523106064039\n",
      "segmentation_output/Brats19TrainingData/BraTS19_TCIA10_261_1.nii.gz\n",
      "(1, 4, 141, 170, 137)\n",
      "(1, 4, 141, 192, 192)\n",
      "57 0.9258517034068137\n",
      "segmentation_output/Brats19TrainingData/BraTS19_TCIA10_346_1.nii.gz\n",
      "(1, 4, 143, 173, 131)\n",
      "(1, 4, 143, 192, 192)\n",
      "58 0.9442089429782579\n",
      "segmentation_output/Brats19TrainingData/BraTS19_TCIA10_632_1.nii.gz\n",
      "(1, 4, 144, 168, 139)\n",
      "(1, 4, 144, 192, 192)\n",
      "59 0.8999571981376823\n",
      "segmentation_output/Brats19TrainingData/BraTS19_TCIA12_249_1.nii.gz\n",
      "(1, 4, 131, 159, 138)\n",
      "(1, 4, 131, 192, 192)\n",
      "60 0.9195854247430407\n",
      "segmentation_output/Brats19TrainingData/BraTS19_TCIA12_298_1.nii.gz\n",
      "(1, 4, 136, 153, 135)\n",
      "(1, 4, 136, 192, 192)\n",
      "61 0.6367635463962372\n",
      "segmentation_output/Brats19TrainingData/BraTS19_TCIA13_615_1.nii.gz\n",
      "(1, 4, 140, 178, 134)\n",
      "(1, 4, 140, 192, 192)\n",
      "62 0.5540251473887411\n",
      "segmentation_output/Brats19TrainingData/BraTS19_TCIA13_624_1.nii.gz\n",
      "(1, 4, 138, 176, 144)\n",
      "(1, 4, 138, 192, 192)\n",
      "63 0.6881491743250538\n",
      "segmentation_output/Brats19TrainingData/BraTS19_TCIA13_633_1.nii.gz\n",
      "(1, 4, 139, 165, 138)\n",
      "(1, 4, 139, 192, 192)\n",
      "64 0.06524738813325448\n",
      "segmentation_output/Brats19TrainingData/BraTS19_TCIA13_650_1.nii.gz\n",
      "(1, 4, 139, 189, 146)\n",
      "(1, 4, 139, 192, 192)\n",
      "65 0.912134562032093\n",
      "segmentation_output/Brats19TrainingData/BraTS19_TCIA13_654_1.nii.gz\n",
      "(1, 4, 141, 168, 126)\n",
      "(1, 4, 141, 192, 192)\n",
      "66 0.9286877888227667\n",
      "segmentation_output/Brats19TrainingData/BraTS19_TMC_27374_1.nii.gz\n",
      "Mean: 0.8277121894815814\n",
      "Weighted Average: 0.829481886193239\n"
     ]
    }
   ],
   "source": [
    "from batchgenerators.augmentations.utils import pad_nd_image\n",
    "from batchgenerators.augmentations.utils import center_crop_3D_image\n",
    "\n",
    "target_patients = patients_val\n",
    "\n",
    "dices = []\n",
    "proportions = []\n",
    "\n",
    "for idx, (patient_data, meta_data) in enumerate(iterate_through_patients(target_patients, in_channels + ['seg'])): #  + ['seg']\n",
    "    print(patient_data.shape)\n",
    "    proportions.append(np.prod(patient_data.shape))\n",
    "    patient_data_pd = pad_nd_image(patient_data, [patient_data.shape[2], 192, 192]) #256\n",
    "    print(patient_data_pd.shape)\n",
    "    data = torch.from_numpy(patient_data_pd[:,0:3,:,:,:])\n",
    "    # target = torch.from_numpy(patient_data_pd[:,3,:,:,:])\n",
    "    # data, target = data.cuda(), target.cuda()\n",
    "    data = data.cuda()\n",
    "    \n",
    "    model_trainer.model.eval()\n",
    "    with torch.no_grad():\n",
    "        prediction = model_trainer.model.forward(data)\n",
    "        \n",
    "    np_prediction = prediction.cpu().detach().numpy()\n",
    "    np_prediction[np_prediction > 0] = 1 # tumor core\n",
    "    np_prediction[np_prediction < 0] = 0\n",
    "    \n",
    "    np_cut = center_crop_3D_image(np_prediction[0,0], patient_data.shape[2:])\n",
    "    \n",
    "    dice = np_dice(np_cut, patient_data[0,3,:,:,:])\n",
    "    print(idx, dice)\n",
    "    dices.append(dice)\n",
    "    \n",
    "    output_path = '/'.join(target_patients[idx].split('/')[-2:])\n",
    "    save_segmentation_as_nifti(np_cut, meta_data, os.path.join('segmentation_output', output_path + '.nii.gz'))\n",
    "    \n",
    "    # break\n",
    "        \n",
    "    # if np.sum(np_prediction > 0) > 0:\n",
    "    #    break\n",
    "print('Mean:', np.mean(np.array(dices)))\n",
    "print('Weighted Average:', np.average(dices, weights=proportions))"
   ]
  },
  {
   "cell_type": "code",
   "execution_count": 21,
   "metadata": {},
   "outputs": [
    {
     "ename": "NotImplementedError",
     "evalue": "Input Error: Only 4D input Tensors are supported (got 1D)",
     "output_type": "error",
     "traceback": [
      "\u001b[0;31m---------------------------------------------------------------------------\u001b[0m",
      "\u001b[0;31mNotImplementedError\u001b[0m                       Traceback (most recent call last)",
      "\u001b[0;32m<ipython-input-21-dfc82a9c1a78>\u001b[0m in \u001b[0;36m<module>\u001b[0;34m\u001b[0m\n\u001b[1;32m      1\u001b[0m \u001b[0;32mfrom\u001b[0m \u001b[0mtorch\u001b[0m\u001b[0;34m.\u001b[0m\u001b[0mnn\u001b[0m \u001b[0;32mimport\u001b[0m \u001b[0mfunctional\u001b[0m \u001b[0;32mas\u001b[0m \u001b[0mf\u001b[0m\u001b[0;34m\u001b[0m\u001b[0m\n\u001b[1;32m      2\u001b[0m \u001b[0mx\u001b[0m \u001b[0;34m=\u001b[0m \u001b[0mtorch\u001b[0m\u001b[0;34m.\u001b[0m\u001b[0mzeros\u001b[0m\u001b[0;34m(\u001b[0m\u001b[0;36m5\u001b[0m\u001b[0;34m)\u001b[0m\u001b[0;34m\u001b[0m\u001b[0m\n\u001b[0;32m----> 3\u001b[0;31m \u001b[0mwindows\u001b[0m \u001b[0;34m=\u001b[0m \u001b[0mf\u001b[0m\u001b[0;34m.\u001b[0m\u001b[0munfold\u001b[0m\u001b[0;34m(\u001b[0m\u001b[0mx\u001b[0m\u001b[0;34m,\u001b[0m \u001b[0mkernel_size\u001b[0m\u001b[0;34m=\u001b[0m\u001b[0;36m5\u001b[0m\u001b[0;34m)\u001b[0m\u001b[0;34m\u001b[0m\u001b[0m\n\u001b[0m",
      "\u001b[0;32m~/.local/lib/python3.5/site-packages/torch/nn/functional.py\u001b[0m in \u001b[0;36munfold\u001b[0;34m(input, kernel_size, dilation, padding, stride)\u001b[0m\n\u001b[1;32m   3032\u001b[0m                                        _pair(dilation), _pair(padding), _pair(stride))\n\u001b[1;32m   3033\u001b[0m     \u001b[0;32melse\u001b[0m\u001b[0;34m:\u001b[0m\u001b[0;34m\u001b[0m\u001b[0m\n\u001b[0;32m-> 3034\u001b[0;31m         \u001b[0;32mraise\u001b[0m \u001b[0mNotImplementedError\u001b[0m\u001b[0;34m(\u001b[0m\u001b[0;34m\"Input Error: Only 4D input Tensors are supported (got {}D)\"\u001b[0m\u001b[0;34m.\u001b[0m\u001b[0mformat\u001b[0m\u001b[0;34m(\u001b[0m\u001b[0minput\u001b[0m\u001b[0;34m.\u001b[0m\u001b[0mdim\u001b[0m\u001b[0;34m(\u001b[0m\u001b[0;34m)\u001b[0m\u001b[0;34m)\u001b[0m\u001b[0;34m)\u001b[0m\u001b[0;34m\u001b[0m\u001b[0m\n\u001b[0m\u001b[1;32m   3035\u001b[0m         \u001b[0mret\u001b[0m \u001b[0;34m=\u001b[0m \u001b[0minput\u001b[0m  \u001b[0;31m# TODO: remove when jit supports exception control flow\u001b[0m\u001b[0;34m\u001b[0m\u001b[0m\n\u001b[1;32m   3036\u001b[0m     \u001b[0;32mreturn\u001b[0m \u001b[0mret\u001b[0m\u001b[0;34m\u001b[0m\u001b[0m\n",
      "\u001b[0;31mNotImplementedError\u001b[0m: Input Error: Only 4D input Tensors are supported (got 1D)"
     ]
    }
   ],
   "source": [
    "from torch.nn import functional as f\n",
    "x = torch.zeros(5)\n",
    "windows = f.unfold(x, kernel_size=5)"
   ]
  },
  {
   "cell_type": "code",
   "execution_count": 24,
   "metadata": {},
   "outputs": [
    {
     "data": {
      "text/plain": [
       "array([[0., 1., 1., 1., 1., 0., 1., 0., 1., 0.],\n",
       "       [1., 0., 0., 0., 1., 0., 1., 1., 1., 1.],\n",
       "       [0., 0., 1., 1., 1., 0., 1., 1., 1., 1.],\n",
       "       [0., 1., 1., 1., 0., 0., 1., 0., 1., 0.],\n",
       "       [1., 1., 0., 1., 1., 1., 0., 0., 0., 1.],\n",
       "       [1., 0., 0., 1., 1., 1., 0., 1., 1., 0.],\n",
       "       [0., 0., 0., 0., 1., 1., 0., 0., 0., 1.],\n",
       "       [0., 1., 1., 1., 0., 0., 0., 0., 0., 1.],\n",
       "       [1., 1., 1., 0., 1., 1., 0., 0., 1., 1.],\n",
       "       [0., 0., 0., 0., 1., 1., 1., 0., 1., 0.]], dtype=float32)"
      ]
     },
     "execution_count": 24,
     "metadata": {},
     "output_type": "execute_result"
    }
   ],
   "source": [
    "np.float32(np.random.normal(size=(10,10)) > 0)"
   ]
  },
  {
   "cell_type": "code",
   "execution_count": 20,
   "metadata": {},
   "outputs": [
    {
     "data": {
      "text/plain": [
       "{'direction': (1.0, 0.0, 0.0, 0.0, 1.0, 0.0, 0.0, 0.0, 1.0),\n",
       " 'nonzero_region': array([[  0, 138],\n",
       "        [ 45, 207],\n",
       "        [ 44, 190]]),\n",
       " 'origin': (-0.0, -239.0, 0.0),\n",
       " 'original_shape': (155, 240, 240),\n",
       " 'spacing': array([1., 1., 1.])}"
      ]
     },
     "execution_count": 20,
     "metadata": {},
     "output_type": "execute_result"
    }
   ],
   "source": [
    "meta_data"
   ]
  },
  {
   "cell_type": "code",
   "execution_count": 44,
   "metadata": {},
   "outputs": [],
   "source": [
    "np_cut = center_crop_3D_image(np_prediction[0,0], (140, 186, 133))"
   ]
  },
  {
   "cell_type": "code",
   "execution_count": 45,
   "metadata": {},
   "outputs": [
    {
     "data": {
      "text/plain": [
       "(140, 186, 133)"
      ]
     },
     "execution_count": 45,
     "metadata": {},
     "output_type": "execute_result"
    }
   ],
   "source": [
    "np_cut.shape"
   ]
  },
  {
   "cell_type": "code",
   "execution_count": 49,
   "metadata": {},
   "outputs": [
    {
     "data": {
      "text/plain": [
       "0"
      ]
     },
     "execution_count": 49,
     "metadata": {},
     "output_type": "execute_result"
    }
   ],
   "source": [
    "np.sum(np_cut > 0)"
   ]
  },
  {
   "cell_type": "code",
   "execution_count": 24,
   "metadata": {},
   "outputs": [
    {
     "data": {
      "text/plain": [
       "(1, 4, 138, 169, 141)"
      ]
     },
     "execution_count": 24,
     "metadata": {},
     "output_type": "execute_result"
    }
   ],
   "source": [
    "patient_data.shape"
   ]
  },
  {
   "cell_type": "code",
   "execution_count": 23,
   "metadata": {},
   "outputs": [
    {
     "data": {
      "text/plain": [
       "(138, 169, 141)"
      ]
     },
     "execution_count": 23,
     "metadata": {},
     "output_type": "execute_result"
    }
   ],
   "source": [
    "np_cut.shape"
   ]
  },
  {
   "cell_type": "code",
   "execution_count": 22,
   "metadata": {},
   "outputs": [
    {
     "data": {
      "text/plain": [
       "(1, 3, 139, 163, 147)"
      ]
     },
     "execution_count": 22,
     "metadata": {},
     "output_type": "execute_result"
    }
   ],
   "source": [
    "patient_data.shape"
   ]
  },
  {
   "cell_type": "code",
   "execution_count": 23,
   "metadata": {},
   "outputs": [
    {
     "data": {
      "text/plain": [
       "(138, 180, 132)"
      ]
     },
     "execution_count": 23,
     "metadata": {},
     "output_type": "execute_result"
    }
   ],
   "source": [
    "np_cut.shape"
   ]
  },
  {
   "cell_type": "code",
   "execution_count": 33,
   "metadata": {},
   "outputs": [
    {
     "data": {
      "text/plain": [
       "0"
      ]
     },
     "execution_count": 33,
     "metadata": {},
     "output_type": "execute_result"
    }
   ],
   "source": [
    "np.sum(np_cut[80] > -9)"
   ]
  },
  {
   "cell_type": "code",
   "execution_count": 37,
   "metadata": {},
   "outputs": [
    {
     "data": {
      "text/plain": [
       "7.5946474"
      ]
     },
     "execution_count": 37,
     "metadata": {},
     "output_type": "execute_result"
    }
   ],
   "source": [
    "np.max(patient_data[0,0,80,:,:])"
   ]
  },
  {
   "cell_type": "code",
   "execution_count": 40,
   "metadata": {},
   "outputs": [
    {
     "data": {
      "text/plain": [
       "4.6202345"
      ]
     },
     "execution_count": 40,
     "metadata": {},
     "output_type": "execute_result"
    }
   ],
   "source": [
    "np.max(patient_data[0,0,80,:,:])"
   ]
  },
  {
   "cell_type": "code",
   "execution_count": 52,
   "metadata": {},
   "outputs": [
    {
     "data": {
      "text/plain": [
       "array([[0., 0., 0., ..., 0., 0., 0.],\n",
       "       [0., 0., 0., ..., 0., 0., 0.],\n",
       "       [0., 0., 0., ..., 0., 0., 0.],\n",
       "       ...,\n",
       "       [0., 0., 0., ..., 0., 0., 0.],\n",
       "       [0., 0., 0., ..., 0., 0., 0.],\n",
       "       [0., 0., 0., ..., 0., 0., 0.]], dtype=float32)"
      ]
     },
     "execution_count": 52,
     "metadata": {},
     "output_type": "execute_result"
    }
   ],
   "source": [
    "# test\n",
    "patient_data[0,0,80,:,:]"
   ]
  },
  {
   "cell_type": "code",
   "execution_count": 53,
   "metadata": {},
   "outputs": [
    {
     "data": {
      "text/plain": [
       "<matplotlib.image.AxesImage at 0x7f6282a64588>"
      ]
     },
     "execution_count": 53,
     "metadata": {},
     "output_type": "execute_result"
    },
    {
     "data": {
      "image/png": "[encoded data removed]",
      "text/plain": [
       "<Figure size 432x288 with 1 Axes>"
      ]
     },
     "metadata": {
      "needs_background": "light"
     },
     "output_type": "display_data"
    }
   ],
   "source": [
    "plt.imshow(patient_data[0,0,115,:,:], cmap='gray')"
   ]
  },
  {
   "cell_type": "code",
   "execution_count": 64,
   "metadata": {},
   "outputs": [
    {
     "data": {
      "image/png": "[encoded data removed]",
      "text/plain": [
       "<Figure size 432x288 with 1 Axes>"
      ]
     },
     "metadata": {
      "needs_background": "light"
     },
     "output_type": "display_data"
    },
    {
     "data": {
      "image/png": "[encoded data removed]",
      "text/plain": [
       "<Figure size 432x288 with 1 Axes>"
      ]
     },
     "metadata": {
      "needs_background": "light"
     },
     "output_type": "display_data"
    },
    {
     "data": {
      "image/png": "[encoded data removed]",
      "text/plain": [
       "<Figure size 432x288 with 1 Axes>"
      ]
     },
     "metadata": {
      "needs_background": "light"
     },
     "output_type": "display_data"
    },
    {
     "data": {
      "image/png": "[encoded data removed]",
      "text/plain": [
       "<Figure size 432x288 with 1 Axes>"
      ]
     },
     "metadata": {
      "needs_background": "light"
     },
     "output_type": "display_data"
    },
    {
     "data": {
      "image/png": "[encoded data removed]",
      "text/plain": [
       "<Figure size 432x288 with 1 Axes>"
      ]
     },
     "metadata": {
      "needs_background": "light"
     },
     "output_type": "display_data"
    },
    {
     "data": {
      "image/png": "[encoded data removed]",
      "text/plain": [
       "<Figure size 432x288 with 1 Axes>"
      ]
     },
     "metadata": {
      "needs_background": "light"
     },
     "output_type": "display_data"
    },
    {
     "data": {
      "image/png": "[encoded data removed]",
      "text/plain": [
       "<Figure size 432x288 with 1 Axes>"
      ]
     },
     "metadata": {
      "needs_background": "light"
     },
     "output_type": "display_data"
    },
    {
     "data": {
      "image/png": "[encoded data removed]",
      "text/plain": [
       "<Figure size 432x288 with 1 Axes>"
      ]
     },
     "metadata": {
      "needs_background": "light"
     },
     "output_type": "display_data"
    },
    {
     "data": {
      "image/png": "[encoded data removed]",
      "text/plain": [
       "<Figure size 432x288 with 1 Axes>"
      ]
     },
     "metadata": {
      "needs_background": "light"
     },
     "output_type": "display_data"
    },
    {
     "data": {
      "image/png": "[encoded data removed]",
      "text/plain": [
       "<Figure size 432x288 with 1 Axes>"
      ]
     },
     "metadata": {
      "needs_background": "light"
     },
     "output_type": "display_data"
    },
    {
     "data": {
      "image/png": "[encoded data removed]",
      "text/plain": [
       "<Figure size 432x288 with 1 Axes>"
      ]
     },
     "metadata": {
      "needs_background": "light"
     },
     "output_type": "display_data"
    },
    {
     "data": {
      "image/png": "[encoded data removed]",
      "text/plain": [
       "<Figure size 432x288 with 1 Axes>"
      ]
     },
     "metadata": {
      "needs_background": "light"
     },
     "output_type": "display_data"
    },
    {
     "data": {
      "image/png": "[encoded data removed]",
      "text/plain": [
       "<Figure size 432x288 with 1 Axes>"
      ]
     },
     "metadata": {
      "needs_background": "light"
     },
     "output_type": "display_data"
    },
    {
     "data": {
      "image/png": "[encoded data removed]",
      "text/plain": [
       "<Figure size 432x288 with 1 Axes>"
      ]
     },
     "metadata": {
      "needs_background": "light"
     },
     "output_type": "display_data"
    },
    {
     "data": {
      "image/png": "[encoded data removed]",
      "text/plain": [
       "<Figure size 432x288 with 1 Axes>"
      ]
     },
     "metadata": {
      "needs_background": "light"
     },
     "output_type": "display_data"
    }
   ],
   "source": [
    "for i in np.arange(0, patient_data.shape[2], 10):\n",
    "    plt.imshow(patient_data[0,0,i,:,:], cmap='gray')\n",
    "    plt.imshow(np_cut[i], cmap='jet', alpha=0.5)\n",
    "    plt.show()"
   ]
  },
  {
   "cell_type": "code",
   "execution_count": 19,
   "metadata": {},
   "outputs": [
    {
     "data": {
      "text/plain": [
       "<matplotlib.image.AxesImage at 0x7fad065a9b00>"
      ]
     },
     "execution_count": 19,
     "metadata": {},
     "output_type": "execute_result"
    },
    {
     "data": {
      "image/png": "[encoded data removed]",
      "text/plain": [
       "<Figure size 432x288 with 1 Axes>"
      ]
     },
     "metadata": {
      "needs_background": "light"
     },
     "output_type": "display_data"
    }
   ],
   "source": [
    "plt.imshow(np_prediction[0,0,75] > 0)"
   ]
  },
  {
   "cell_type": "code",
   "execution_count": null,
   "metadata": {},
   "outputs": [],
   "source": []
  }
 ],
 "metadata": {
  "kernelspec": {
   "display_name": "Python 3",
   "language": "python",
   "name": "python3"
  },
  "language_info": {
   "codemirror_mode": {
    "name": "ipython",
    "version": 3
   },
   "file_extension": ".py",
   "mimetype": "text/x-python",
   "name": "python",
   "nbconvert_exporter": "python",
   "pygments_lexer": "ipython3",
   "version": "3.5.2"
  }
 },
 "nbformat": 4,
 "nbformat_minor": 2
}
